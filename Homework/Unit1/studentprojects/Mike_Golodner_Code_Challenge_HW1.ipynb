{
 "cells": [
  {
   "cell_type": "markdown",
   "metadata": {},
   "source": [
    "<img src=\"http://imgur.com/1ZcRyrc.png\" style=\"float: left; margin: 20px; height: 55px\">\n",
    "\n",
    "# Project 1: Python Coding Exercises\n",
    "\n",
    "_Authors: Joseph Nelson (DC) _\n",
    "\n",
    "---"
   ]
  },
  {
   "cell_type": "markdown",
   "metadata": {},
   "source": [
    "The following code challenges are drawn from common exercises used in technical interviews.\n",
    "\n",
    "Please note that there may be several ways to approach each challenge. If you get stuck, try mapping out your approach in pseudocode first. Finally, while solutions to problems like these may be found online, remember that if you copy/paste code that you can't explain, you'll be missing out on the point of the project. The only way to truly learn a new skill is through practice, trial, and error - we can only help you improve by understanding where you are having trouble."
   ]
  },
  {
   "cell_type": "markdown",
   "metadata": {},
   "source": [
    "### Challenge 1: Largest Palindrome\n",
    "A palindromic number reads the same both ways. For example, 1234321 is a palindrome. The largest palindrome made from the product of two two-digit numbers is 9009 = 91 × 99. Find the largest palindrome made from the product of two three-digit numbers. Afterward, write a brief explanation walking through your code's logic in markdown."
   ]
  },
  {
   "cell_type": "markdown",
   "metadata": {
    "collapsed": true
   },
   "source": [
    "## Logic to find palindrome\n",
    "#### 1. Run every mulitplication of 100 to 999 through loop \n",
    "#### 2. Test if it is a palindrome by returning number backwards using int function and comparing to original number. \n",
    "#### 3. If it is pallidrome, put in list.\n",
    "#### 4.Take largest value from list using max\n",
    "\n"
   ]
  },
  {
   "cell_type": "code",
   "execution_count": 1,
   "metadata": {},
   "outputs": [],
   "source": [
    "a = 100\n",
    "palindrome = []"
   ]
  },
  {
   "cell_type": "code",
   "execution_count": 2,
   "metadata": {},
   "outputs": [],
   "source": [
    "while a<1000:\n",
    "    \n",
    "    b = 100\n",
    "    \n",
    "    while b<1000:\n",
    "        product = a*b\n",
    "        reverse =  int(str(product)[::-1])\n",
    "        \n",
    "        if product == reverse:\n",
    "            palindrome.append(product)\n",
    "            b+=1\n",
    "        else:\n",
    "            b+=1\n",
    "        \n",
    "              \n",
    "    a+= 1"
   ]
  },
  {
   "cell_type": "code",
   "execution_count": 3,
   "metadata": {},
   "outputs": [
    {
     "data": {
      "text/plain": [
       "906609"
      ]
     },
     "execution_count": 3,
     "metadata": {},
     "output_type": "execute_result"
    }
   ],
   "source": [
    "# Answer\n",
    "max(palindrome)"
   ]
  },
  {
   "cell_type": "markdown",
   "metadata": {},
   "source": [
    "\n",
    "### Challenge 2: Summation of Primes\n",
    "The sum of the primes below 10 is 2 + 3 + 5 + 7 = 17. Find the sum of all the primes below 2,000. Afterward, write a brief explanation walking through your code's logic in markdown."
   ]
  },
  {
   "cell_type": "markdown",
   "metadata": {
    "collapsed": true
   },
   "source": [
    "##  Code Logic to identify summation of primes < 2000\n",
    "###  1. Create list to hold prime numbers starting with 2 (since all other even numbers are divisibile by 2)\n",
    "###  2. Loop through all odd numbers between 3 and 1999:\n",
    "#### 2a) Test if number is prime be dividing it by all numbers currently identified as prime (because all non-prime numbers are divisibile by prime numbers smaller than the given number)\n",
    "#### 2b) If the number is not divibile by any of the numbers in the prime list, it is prime. So add it to the prime list. Otherwise continue loop.\n",
    "###  3) Sum list of primes once loop is complete to determine the sum of primes"
   ]
  },
  {
   "cell_type": "code",
   "execution_count": 5,
   "metadata": {},
   "outputs": [],
   "source": [
    "prime_list = [2]\n",
    "num = 3"
   ]
  },
  {
   "cell_type": "code",
   "execution_count": 6,
   "metadata": {},
   "outputs": [],
   "source": [
    "while num < 2000:\n",
    "    \n",
    "    div_list = []\n",
    "    \n",
    "    for test in prime_list:\n",
    "        \n",
    "        \n",
    "        if num % test == 0:\n",
    "            div_list.append (1)\n",
    "        else: \n",
    "            div_list.append (0)\n",
    "        \n",
    "    if sum(div_list) ==0:\n",
    "        prime_list.append(num)\n",
    "    \n",
    "    num += 2"
   ]
  },
  {
   "cell_type": "code",
   "execution_count": 7,
   "metadata": {},
   "outputs": [
    {
     "data": {
      "text/plain": [
       "277050"
      ]
     },
     "execution_count": 7,
     "metadata": {},
     "output_type": "execute_result"
    }
   ],
   "source": [
    "# Answer\n",
    "sum (prime_list)"
   ]
  },
  {
   "cell_type": "markdown",
   "metadata": {},
   "source": [
    "### Challenge 3: Multiples of 3 and 5\n",
    "If we list all of the natural numbers below 10 that are multiples of 3 or 5, we get 3, 5, 6, and 9. The sum of these multiples is 23. Find the sum of all the multiples of 3 and 5 below 1,000. Afterward, write a brief explanation walking through your code's logic in markdown."
   ]
  },
  {
   "cell_type": "markdown",
   "metadata": {
    "collapsed": true
   },
   "source": [
    "### 1. Loop through all numbers between 0 and 999.\n",
    "### 2. Test if number is divisibile by 3 or 5. If yes add to list of multiples.\n",
    "### 3. Sum list"
   ]
  },
  {
   "cell_type": "code",
   "execution_count": 8,
   "metadata": {},
   "outputs": [],
   "source": [
    "multiples =[]\n",
    "\n",
    "for num in range (0,999):\n",
    "    if num%3 == 0:\n",
    "        multiples.append(num)\n",
    "    elif num%5 ==0:\n",
    "        multiples.append(num)\n",
    "    else:\n",
    "        continue"
   ]
  },
  {
   "cell_type": "code",
   "execution_count": 9,
   "metadata": {},
   "outputs": [
    {
     "data": {
      "text/plain": [
       "232169"
      ]
     },
     "execution_count": 9,
     "metadata": {},
     "output_type": "execute_result"
    }
   ],
   "source": [
    "# Answer\n",
    "sum(multiples)"
   ]
  },
  {
   "cell_type": "markdown",
   "metadata": {},
   "source": [
    "### Challenge 4: String Compressor\n",
    "Implement a method to perform basic string compression using the counts of repeated characters. (This is called run-length encoding.) For example, the string \"aabcccccaaa\" would become a2b1c5a3. If the “compressed” string would not become smaller than the original string, your method should return the original string. You can assume the string has only uppercase and lowercase letters (a–z). Specify whether your solution is case sensitive or case insensitive and what you would need to change to make it the other. Afterward, write a brief explanation walking through your code's logic in markdown."
   ]
  },
  {
   "cell_type": "markdown",
   "metadata": {
    "collapsed": true
   },
   "source": [
    "### 1. Create am empty list for storing letters / counts from string.\n",
    "### 2. Create counter starting at 1 to track repeat letters.\n",
    "### 3. Loop through each letter in the string\n",
    "### 4. Develop logic where if the letter being looped through is same as previous add to counter, else add the number and restart the counter.\n",
    "### 5. Once loop is complete convert list to a string"
   ]
  },
  {
   "cell_type": "code",
   "execution_count": 10,
   "metadata": {},
   "outputs": [],
   "source": [
    "test_string = \"zzzbbattttttttttt\""
   ]
  },
  {
   "cell_type": "code",
   "execution_count": 11,
   "metadata": {},
   "outputs": [
    {
     "data": {
      "text/plain": [
       "['z', 3, 'b', 2, 'a', 1, 't', 11]"
      ]
     },
     "execution_count": 11,
     "metadata": {},
     "output_type": "execute_result"
    }
   ],
   "source": [
    "compress_string = []\n",
    "i = 1\n",
    "\n",
    "for letter in test_string:\n",
    "    if compress_string == []:\n",
    "        compress_string.append (letter)\n",
    "        compress_string.append(i)\n",
    "        \n",
    "    elif compress_string[-2] == letter: \n",
    "        i+=1\n",
    "        del compress_string[-1]\n",
    "        compress_string.append(i)\n",
    "        \n",
    "\n",
    "    else:\n",
    "        compress_string.append(letter)\n",
    "        i=1\n",
    "        compress_string.append(i)\n",
    "    \n",
    "compress_string\n",
    "    \n",
    "    "
   ]
  },
  {
   "cell_type": "code",
   "execution_count": 12,
   "metadata": {},
   "outputs": [
    {
     "data": {
      "text/plain": [
       "'z 3 b 2 a 1 t 11'"
      ]
     },
     "execution_count": 12,
     "metadata": {},
     "output_type": "execute_result"
    }
   ],
   "source": [
    "# Answer\n",
    "ListToString = ' '.join([str(var) for var in compress_string])\n",
    "\n",
    "ListToString"
   ]
  },
  {
   "cell_type": "markdown",
   "metadata": {},
   "source": [
    "### *BONUS* Challenge: FizzBuzz\n",
    "Write a program that prints all of the numbers from 1 to 100. For multiples of 3, instead of the number, print \"Fizz;\" for multiples of 5, print \"Buzz.\" For numbers that are multiples of both 3 and 5, print \"FizzBuzz.\" Afterward, write a brief explanation walking through your code's logic in markdown."
   ]
  },
  {
   "cell_type": "code",
   "execution_count": 13,
   "metadata": {},
   "outputs": [
    {
     "name": "stdout",
     "output_type": "stream",
     "text": [
      "[1, 2, 'Fizz', 4, 'Buzz', 'Fizz', 7, 8, 'Fizz', 'Buzz', 11, 'Fizz', 13, 14, 'FizzBuzz', 16, 17, 'Fizz', 19, 'Buzz', 'Fizz', 22, 23, 'Fizz', 'Buzz', 26, 'Fizz', 28, 29, 'FizzBuzz', 31, 32, 'Fizz', 34, 'Buzz', 'Fizz', 37, 38, 'Fizz', 'Buzz', 41, 'Fizz', 43, 44, 'FizzBuzz', 46, 47, 'Fizz', 49, 'Buzz', 'Fizz', 52, 53, 'Fizz', 'Buzz', 56, 'Fizz', 58, 59, 'FizzBuzz', 61, 62, 'Fizz', 64, 'Buzz', 'Fizz', 67, 68, 'Fizz', 'Buzz', 71, 'Fizz', 73, 74, 'FizzBuzz', 76, 77, 'Fizz', 79, 'Buzz', 'Fizz', 82, 83, 'Fizz', 'Buzz', 86, 'Fizz', 88, 89, 'FizzBuzz', 91, 92, 'Fizz', 94, 'Buzz', 'Fizz', 97, 98, 'Fizz']\n"
     ]
    }
   ],
   "source": [
    "num_list =[]\n",
    "\n",
    "for num in range (1,100):\n",
    "    if num%3 == 0 and num%5 == 0:\n",
    "        num_list.append('FizzBuzz')    \n",
    "    elif num%3 == 0:\n",
    "        num_list.append('Fizz')\n",
    "    elif num%5 ==0:\n",
    "        num_list.append('Buzz')\n",
    "    else:\n",
    "        num_list.append(num)\n",
    "        \n",
    "print(num_list)"
   ]
  },
  {
   "cell_type": "markdown",
   "metadata": {},
   "source": [
    "### 1. Loop through all numbers between 0 and 999.\n",
    "### 2. Test if number is divisibile by 3 & 5, 3, or 5. If yes append appropiate word to list, else append the number.\n",
    "### 3. Print list"
   ]
  },
  {
   "cell_type": "code",
   "execution_count": null,
   "metadata": {},
   "outputs": [],
   "source": []
  }
 ],
 "metadata": {
  "anaconda-cloud": {},
  "kernelspec": {
   "display_name": "Python 3",
   "language": "python",
   "name": "python3"
  },
  "language_info": {
   "codemirror_mode": {
    "name": "ipython",
    "version": 3
   },
   "file_extension": ".py",
   "mimetype": "text/x-python",
   "name": "python",
   "nbconvert_exporter": "python",
   "pygments_lexer": "ipython3",
   "version": "3.7.4"
  }
 },
 "nbformat": 4,
 "nbformat_minor": 2
}
