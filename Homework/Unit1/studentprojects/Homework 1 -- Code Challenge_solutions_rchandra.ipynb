{
 "cells": [
  {
   "cell_type": "markdown",
   "metadata": {},
   "source": [
    "<img src=\"http://imgur.com/1ZcRyrc.png\" style=\"float: left; margin: 20px; height: 55px\">\n",
    "\n",
    "# Project 1: Python Coding Exercises\n",
    "\n",
    "_Authors: Joseph Nelson (DC) _\n",
    "\n",
    "---"
   ]
  },
  {
   "cell_type": "markdown",
   "metadata": {},
   "source": [
    "The following code challenges are drawn from common exercises used in technical interviews.\n",
    "\n",
    "Please note that there may be several ways to approach each challenge. If you get stuck, try mapping out your approach in pseudocode first. Finally, while solutions to problems like these may be found online, remember that if you copy/paste code that you can't explain, you'll be missing out on the point of the project. The only way to truly learn a new skill is through practice, trial, and error - we can only help you improve by understanding where you are having trouble."
   ]
  },
  {
   "cell_type": "markdown",
   "metadata": {},
   "source": [
    "### Challenge 1: Largest Palindrome\n",
    "A palindromic number reads the same both ways. For example, 1234321 is a palindrome. The largest palindrome made from the product of two two-digit numbers is 9009 = 91 × 99. Find the largest palindrome made from the product of two three-digit numbers. Afterward, write a brief explanation walking through your code's logic in markdown."
   ]
  },
  {
   "cell_type": "code",
   "execution_count": 1,
   "metadata": {},
   "outputs": [
    {
     "name": "stdout",
     "output_type": "stream",
     "text": [
      "888888\n"
     ]
    }
   ],
   "source": [
    "palin=[]\n",
    "for i in range(100,998):\n",
    "    for j in range(i+1,999):\n",
    "        num = i*j\n",
    "        if str(num) == str(num)[::-1]:\n",
    "            palin = num\n",
    "\n",
    "print(palin)"
   ]
  },
  {
   "cell_type": "code",
   "execution_count": 22,
   "metadata": {},
   "outputs": [],
   "source": [
    "# I am multiplying all three digit numbers with each other, and then for the multiplied number, num, \n",
    "#I turn it into a string and check if the reverse of the string is equal to the original string\n",
    "#if it is equal, I overwrite the palin variable. Since I am multiplying from lowest to highest 3 digit number, the last\n",
    "#palin stored would be the highest palindrom we can get by multiplying two 3 digit numbers."
   ]
  },
  {
   "cell_type": "markdown",
   "metadata": {},
   "source": [
    "\n",
    "### Challenge 2: Summation of Primes\n",
    "The sum of the primes below 10 is 2 + 3 + 5 + 7 = 17. Find the sum of all the primes below 2,000. Afterward, write a brief explanation walking through your code's logic in markdown."
   ]
  },
  {
   "cell_type": "code",
   "execution_count": 110,
   "metadata": {},
   "outputs": [
    {
     "data": {
      "text/plain": [
       "277050"
      ]
     },
     "execution_count": 110,
     "metadata": {},
     "output_type": "execute_result"
    }
   ],
   "source": [
    "primes = [2]\n",
    "\n",
    "for i in range(3,2000):\n",
    "    for j in primes:\n",
    "        if (i % j)==0:\n",
    "            break\n",
    "    else:\n",
    "        primes.append(i)\n",
    "\n",
    "sum_primes = sum(primes)\n",
    "sum_primes\n",
    "            "
   ]
  },
  {
   "cell_type": "code",
   "execution_count": null,
   "metadata": {},
   "outputs": [],
   "source": [
    "# I start with storing 2 as my initial prime. Then I loop through 3 to 2000, and check if that number is divisible by any of my\n",
    "#stored primes. If at any point, the mod of the number to any of the stored primes is 0, that means the number is not a prime \n",
    "#and I break out of the code. Otherwise, that number is a prime, and I append that to my list of primes"
   ]
  },
  {
   "cell_type": "markdown",
   "metadata": {},
   "source": [
    "### Challenge 3: Multiples of 3 and 5\n",
    "If we list all of the natural numbers below 10 that are multiples of 3 or 5, we get 3, 5, 6, and 9. The sum of these multiples is 23. Find the sum of all the multiples of 3 and 5 below 1,000. Afterward, write a brief explanation walking through your code's logic in markdown."
   ]
  },
  {
   "cell_type": "code",
   "execution_count": 55,
   "metadata": {},
   "outputs": [
    {
     "data": {
      "text/plain": [
       "233168"
      ]
     },
     "execution_count": 55,
     "metadata": {},
     "output_type": "execute_result"
    }
   ],
   "source": [
    "sum_multiples = sum([i for i in range(1,1000) if (i % 3) == 0 or (i % 5) == 0])\n",
    "sum_multiples"
   ]
  },
  {
   "cell_type": "code",
   "execution_count": null,
   "metadata": {},
   "outputs": [],
   "source": [
    "#The logic is similar to challenge 2, but I can easily just use a list comprehension to calculate the sum. I only select i\n",
    "# if it is either divisible by 3, or by 5, and then sum all the elements in the list I create."
   ]
  },
  {
   "cell_type": "markdown",
   "metadata": {},
   "source": [
    "### Challenge 4: String Compressor\n",
    "Implement a method to perform basic string compression using the counts of repeated characters. (This is called run-length encoding.) For example, the string \"aabcccccaaa\" would become a2b1c5a3. If the “compressed” string would not become smaller than the original string, your method should return the original string. You can assume the string has only uppercase and lowercase letters (a–z). Specify whether your solution is case sensitive or case insensitive and what you would need to change to make it the other. Afterward, write a brief explanation walking through your code's logic in markdown."
   ]
  },
  {
   "cell_type": "code",
   "execution_count": 12,
   "metadata": {},
   "outputs": [],
   "source": [
    "def string_compressor(string):\n",
    "    string_new=[]\n",
    "    counter = 0\n",
    "    anchor = string[0]\n",
    "    string_length = len(string)\n",
    "    counter_element = 0\n",
    "    for i in string:\n",
    "        counter_element += 1\n",
    "        if i == anchor:\n",
    "            counter += 1\n",
    "        elif counter_element == string_length:\n",
    "            string_new.append(anchor)\n",
    "            string_new.append(counter)\n",
    "            print(string_new)\n",
    "        else:\n",
    "            string_new.append(anchor)\n",
    "            string_new.append(counter)\n",
    "            anchor = i\n",
    "            counter = 1\n",
    "            print(string_new)\n",
    "    string_fromList = ''.join([str(i) for i in string_new])\n",
    "\n",
    "    if len(string_fromList) > len(string):\n",
    "        print(string)\n",
    "    else:\n",
    "        print(string_fromList)"
   ]
  },
  {
   "cell_type": "code",
   "execution_count": null,
   "metadata": {},
   "outputs": [],
   "source": [
    "#This solution is case sensitive. To make it case-insensitive, I can use the lower() command to first turn the string into all\n",
    "#lowercase letters.\n",
    "#The basic method is that I pick the first element of the string as the anchor element, loop through it to see if there are \n",
    "#more elements that are equal to it. I keep a live counter. If it is equal, I increment the counter by 1. If not, and I have \n",
    "#reached the end of the string I need to compress, I append the anchor element and the counter to my new string, and if not,\n",
    "#that means that I am in the middle of my string and have reached a new letter. I append the old anchor and the counter to my\n",
    "#new string, and choose the new element as my new anchor, and set the counter back to 1\n",
    "#Then, I am converting my list to a string. If the length of the new string is greater than before, I print the original string\n",
    "#otherwise I print the new string."
   ]
  },
  {
   "cell_type": "markdown",
   "metadata": {},
   "source": [
    "### *BONUS* Challenge: FizzBuzz\n",
    "Write a program that prints all of the numbers from 1 to 100. For multiples of 3, instead of the number, print \"Fizz;\" for multiples of 5, print \"Buzz.\" For numbers that are multiples of both 3 and 5, print \"FizzBuzz.\" Afterward, write a brief explanation walking through your code's logic in markdown."
   ]
  },
  {
   "cell_type": "code",
   "execution_count": 109,
   "metadata": {},
   "outputs": [
    {
     "name": "stdout",
     "output_type": "stream",
     "text": [
      "1\n",
      "2\n",
      "Fizz\n",
      "4\n",
      "Buzz\n",
      "Fizz\n",
      "7\n",
      "8\n",
      "Fizz\n",
      "Buzz\n",
      "11\n",
      "Fizz\n",
      "13\n",
      "14\n",
      "FizzBuzz\n",
      "16\n",
      "17\n",
      "Fizz\n",
      "19\n",
      "Buzz\n",
      "Fizz\n",
      "22\n",
      "23\n",
      "Fizz\n",
      "Buzz\n",
      "26\n",
      "Fizz\n",
      "28\n",
      "29\n",
      "FizzBuzz\n",
      "31\n",
      "32\n",
      "Fizz\n",
      "34\n",
      "Buzz\n",
      "Fizz\n",
      "37\n",
      "38\n",
      "Fizz\n",
      "Buzz\n",
      "41\n",
      "Fizz\n",
      "43\n",
      "44\n",
      "FizzBuzz\n",
      "46\n",
      "47\n",
      "Fizz\n",
      "49\n",
      "Buzz\n",
      "Fizz\n",
      "52\n",
      "53\n",
      "Fizz\n",
      "Buzz\n",
      "56\n",
      "Fizz\n",
      "58\n",
      "59\n",
      "FizzBuzz\n",
      "61\n",
      "62\n",
      "Fizz\n",
      "64\n",
      "Buzz\n",
      "Fizz\n",
      "67\n",
      "68\n",
      "Fizz\n",
      "Buzz\n",
      "71\n",
      "Fizz\n",
      "73\n",
      "74\n",
      "FizzBuzz\n",
      "76\n",
      "77\n",
      "Fizz\n",
      "79\n",
      "Buzz\n",
      "Fizz\n",
      "82\n",
      "83\n",
      "Fizz\n",
      "Buzz\n",
      "86\n",
      "Fizz\n",
      "88\n",
      "89\n",
      "FizzBuzz\n",
      "91\n",
      "92\n",
      "Fizz\n",
      "94\n",
      "Buzz\n",
      "Fizz\n",
      "97\n",
      "98\n",
      "Fizz\n"
     ]
    }
   ],
   "source": [
    "for i in range(1,100):\n",
    "    if (i % 15) == 0:\n",
    "        print(\"FizzBuzz\")\n",
    "    elif (i % 3) == 0:\n",
    "        print(\"Fizz\")\n",
    "    elif (i % 5) == 0:\n",
    "        print(\"Buzz\")\n",
    "    else:\n",
    "        print(i)"
   ]
  },
  {
   "cell_type": "code",
   "execution_count": null,
   "metadata": {},
   "outputs": [],
   "source": [
    "#This is a quick if then loop. I first check if the number is divisible by 15 and print FizzBuzz if it is. If not, \n",
    "#I check divisibility by 5 and 3 individually and print Buzz or Fizz accordingly. Otherwise I just print the number"
   ]
  }
 ],
 "metadata": {
  "anaconda-cloud": {},
  "kernelspec": {
   "display_name": "Python 3",
   "language": "python",
   "name": "python3"
  },
  "language_info": {
   "codemirror_mode": {
    "name": "ipython",
    "version": 3
   },
   "file_extension": ".py",
   "mimetype": "text/x-python",
   "name": "python",
   "nbconvert_exporter": "python",
   "pygments_lexer": "ipython3",
   "version": "3.7.1"
  }
 },
 "nbformat": 4,
 "nbformat_minor": 2
}
