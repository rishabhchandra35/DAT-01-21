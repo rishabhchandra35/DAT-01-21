{
 "cells": [
  {
   "cell_type": "code",
   "execution_count": 111,
   "metadata": {},
   "outputs": [],
   "source": [
    "import pandas as pd\n",
    "import numpy as np\n",
    "import seaborn as sns"
   ]
  },
  {
   "cell_type": "code",
   "execution_count": 112,
   "metadata": {},
   "outputs": [],
   "source": [
    "df = pd.read_csv('../../data/bikeshare.csv')"
   ]
  },
  {
   "cell_type": "code",
   "execution_count": 113,
   "metadata": {},
   "outputs": [
    {
     "data": {
      "text/html": [
       "<div>\n",
       "<style scoped>\n",
       "    .dataframe tbody tr th:only-of-type {\n",
       "        vertical-align: middle;\n",
       "    }\n",
       "\n",
       "    .dataframe tbody tr th {\n",
       "        vertical-align: top;\n",
       "    }\n",
       "\n",
       "    .dataframe thead th {\n",
       "        text-align: right;\n",
       "    }\n",
       "</style>\n",
       "<table border=\"1\" class=\"dataframe\">\n",
       "  <thead>\n",
       "    <tr style=\"text-align: right;\">\n",
       "      <th></th>\n",
       "      <th>datetime</th>\n",
       "      <th>season</th>\n",
       "      <th>holiday</th>\n",
       "      <th>workingday</th>\n",
       "      <th>weather</th>\n",
       "      <th>temp</th>\n",
       "      <th>atemp</th>\n",
       "      <th>humidity</th>\n",
       "      <th>windspeed</th>\n",
       "      <th>count</th>\n",
       "    </tr>\n",
       "  </thead>\n",
       "  <tbody>\n",
       "    <tr>\n",
       "      <td>0</td>\n",
       "      <td>2011-01-01 00:00:00</td>\n",
       "      <td>Spring</td>\n",
       "      <td>0</td>\n",
       "      <td>0</td>\n",
       "      <td>Clear Skies</td>\n",
       "      <td>9.84</td>\n",
       "      <td>14.395</td>\n",
       "      <td>81</td>\n",
       "      <td>0.0</td>\n",
       "      <td>16</td>\n",
       "    </tr>\n",
       "    <tr>\n",
       "      <td>1</td>\n",
       "      <td>2011-01-01 01:00:00</td>\n",
       "      <td>Spring</td>\n",
       "      <td>0</td>\n",
       "      <td>0</td>\n",
       "      <td>Clear Skies</td>\n",
       "      <td>9.02</td>\n",
       "      <td>13.635</td>\n",
       "      <td>80</td>\n",
       "      <td>0.0</td>\n",
       "      <td>40</td>\n",
       "    </tr>\n",
       "    <tr>\n",
       "      <td>2</td>\n",
       "      <td>2011-01-01 02:00:00</td>\n",
       "      <td>Spring</td>\n",
       "      <td>0</td>\n",
       "      <td>0</td>\n",
       "      <td>Clear Skies</td>\n",
       "      <td>9.02</td>\n",
       "      <td>13.635</td>\n",
       "      <td>80</td>\n",
       "      <td>0.0</td>\n",
       "      <td>32</td>\n",
       "    </tr>\n",
       "    <tr>\n",
       "      <td>3</td>\n",
       "      <td>2011-01-01 03:00:00</td>\n",
       "      <td>Spring</td>\n",
       "      <td>0</td>\n",
       "      <td>0</td>\n",
       "      <td>Clear Skies</td>\n",
       "      <td>9.84</td>\n",
       "      <td>14.395</td>\n",
       "      <td>75</td>\n",
       "      <td>0.0</td>\n",
       "      <td>13</td>\n",
       "    </tr>\n",
       "    <tr>\n",
       "      <td>4</td>\n",
       "      <td>2011-01-01 04:00:00</td>\n",
       "      <td>Spring</td>\n",
       "      <td>0</td>\n",
       "      <td>0</td>\n",
       "      <td>Clear Skies</td>\n",
       "      <td>9.84</td>\n",
       "      <td>14.395</td>\n",
       "      <td>75</td>\n",
       "      <td>0.0</td>\n",
       "      <td>1</td>\n",
       "    </tr>\n",
       "  </tbody>\n",
       "</table>\n",
       "</div>"
      ],
      "text/plain": [
       "              datetime  season  holiday  workingday      weather  temp  \\\n",
       "0  2011-01-01 00:00:00  Spring        0           0  Clear Skies  9.84   \n",
       "1  2011-01-01 01:00:00  Spring        0           0  Clear Skies  9.02   \n",
       "2  2011-01-01 02:00:00  Spring        0           0  Clear Skies  9.02   \n",
       "3  2011-01-01 03:00:00  Spring        0           0  Clear Skies  9.84   \n",
       "4  2011-01-01 04:00:00  Spring        0           0  Clear Skies  9.84   \n",
       "\n",
       "    atemp  humidity  windspeed  count  \n",
       "0  14.395        81        0.0     16  \n",
       "1  13.635        80        0.0     40  \n",
       "2  13.635        80        0.0     32  \n",
       "3  14.395        75        0.0     13  \n",
       "4  14.395        75        0.0      1  "
      ]
     },
     "execution_count": 113,
     "metadata": {},
     "output_type": "execute_result"
    }
   ],
   "source": [
    "df.head()"
   ]
  },
  {
   "cell_type": "code",
   "execution_count": 114,
   "metadata": {},
   "outputs": [
    {
     "name": "stdout",
     "output_type": "stream",
     "text": [
      "<class 'pandas.core.frame.DataFrame'>\n",
      "RangeIndex: 10886 entries, 0 to 10885\n",
      "Data columns (total 10 columns):\n",
      "datetime      10886 non-null object\n",
      "season        10886 non-null object\n",
      "holiday       10886 non-null int64\n",
      "workingday    10886 non-null int64\n",
      "weather       10886 non-null object\n",
      "temp          10886 non-null float64\n",
      "atemp         10886 non-null float64\n",
      "humidity      10886 non-null int64\n",
      "windspeed     10886 non-null float64\n",
      "count         10886 non-null int64\n",
      "dtypes: float64(3), int64(4), object(3)\n",
      "memory usage: 850.6+ KB\n"
     ]
    }
   ],
   "source": [
    "df.info()"
   ]
  },
  {
   "cell_type": "code",
   "execution_count": 115,
   "metadata": {},
   "outputs": [
    {
     "data": {
      "text/html": [
       "<div>\n",
       "<style scoped>\n",
       "    .dataframe tbody tr th:only-of-type {\n",
       "        vertical-align: middle;\n",
       "    }\n",
       "\n",
       "    .dataframe tbody tr th {\n",
       "        vertical-align: top;\n",
       "    }\n",
       "\n",
       "    .dataframe thead th {\n",
       "        text-align: right;\n",
       "    }\n",
       "</style>\n",
       "<table border=\"1\" class=\"dataframe\">\n",
       "  <thead>\n",
       "    <tr style=\"text-align: right;\">\n",
       "      <th></th>\n",
       "      <th>holiday</th>\n",
       "      <th>workingday</th>\n",
       "      <th>temp</th>\n",
       "      <th>atemp</th>\n",
       "      <th>humidity</th>\n",
       "      <th>windspeed</th>\n",
       "      <th>count</th>\n",
       "    </tr>\n",
       "  </thead>\n",
       "  <tbody>\n",
       "    <tr>\n",
       "      <td>holiday</td>\n",
       "      <td>1.000000</td>\n",
       "      <td>-0.250491</td>\n",
       "      <td>0.000295</td>\n",
       "      <td>-0.005215</td>\n",
       "      <td>0.001929</td>\n",
       "      <td>0.008409</td>\n",
       "      <td>-0.005393</td>\n",
       "    </tr>\n",
       "    <tr>\n",
       "      <td>workingday</td>\n",
       "      <td>-0.250491</td>\n",
       "      <td>1.000000</td>\n",
       "      <td>0.029966</td>\n",
       "      <td>0.024660</td>\n",
       "      <td>-0.010880</td>\n",
       "      <td>0.013373</td>\n",
       "      <td>0.011594</td>\n",
       "    </tr>\n",
       "    <tr>\n",
       "      <td>temp</td>\n",
       "      <td>0.000295</td>\n",
       "      <td>0.029966</td>\n",
       "      <td>1.000000</td>\n",
       "      <td>0.984948</td>\n",
       "      <td>-0.064949</td>\n",
       "      <td>-0.017852</td>\n",
       "      <td>0.394454</td>\n",
       "    </tr>\n",
       "    <tr>\n",
       "      <td>atemp</td>\n",
       "      <td>-0.005215</td>\n",
       "      <td>0.024660</td>\n",
       "      <td>0.984948</td>\n",
       "      <td>1.000000</td>\n",
       "      <td>-0.043536</td>\n",
       "      <td>-0.057473</td>\n",
       "      <td>0.389784</td>\n",
       "    </tr>\n",
       "    <tr>\n",
       "      <td>humidity</td>\n",
       "      <td>0.001929</td>\n",
       "      <td>-0.010880</td>\n",
       "      <td>-0.064949</td>\n",
       "      <td>-0.043536</td>\n",
       "      <td>1.000000</td>\n",
       "      <td>-0.318607</td>\n",
       "      <td>-0.317371</td>\n",
       "    </tr>\n",
       "    <tr>\n",
       "      <td>windspeed</td>\n",
       "      <td>0.008409</td>\n",
       "      <td>0.013373</td>\n",
       "      <td>-0.017852</td>\n",
       "      <td>-0.057473</td>\n",
       "      <td>-0.318607</td>\n",
       "      <td>1.000000</td>\n",
       "      <td>0.101369</td>\n",
       "    </tr>\n",
       "    <tr>\n",
       "      <td>count</td>\n",
       "      <td>-0.005393</td>\n",
       "      <td>0.011594</td>\n",
       "      <td>0.394454</td>\n",
       "      <td>0.389784</td>\n",
       "      <td>-0.317371</td>\n",
       "      <td>0.101369</td>\n",
       "      <td>1.000000</td>\n",
       "    </tr>\n",
       "  </tbody>\n",
       "</table>\n",
       "</div>"
      ],
      "text/plain": [
       "             holiday  workingday      temp     atemp  humidity  windspeed  \\\n",
       "holiday     1.000000   -0.250491  0.000295 -0.005215  0.001929   0.008409   \n",
       "workingday -0.250491    1.000000  0.029966  0.024660 -0.010880   0.013373   \n",
       "temp        0.000295    0.029966  1.000000  0.984948 -0.064949  -0.017852   \n",
       "atemp      -0.005215    0.024660  0.984948  1.000000 -0.043536  -0.057473   \n",
       "humidity    0.001929   -0.010880 -0.064949 -0.043536  1.000000  -0.318607   \n",
       "windspeed   0.008409    0.013373 -0.017852 -0.057473 -0.318607   1.000000   \n",
       "count      -0.005393    0.011594  0.394454  0.389784 -0.317371   0.101369   \n",
       "\n",
       "               count  \n",
       "holiday    -0.005393  \n",
       "workingday  0.011594  \n",
       "temp        0.394454  \n",
       "atemp       0.389784  \n",
       "humidity   -0.317371  \n",
       "windspeed   0.101369  \n",
       "count       1.000000  "
      ]
     },
     "execution_count": 115,
     "metadata": {},
     "output_type": "execute_result"
    }
   ],
   "source": [
    "#Correlation between variables\n",
    "df.corr()"
   ]
  },
  {
   "cell_type": "code",
   "execution_count": 116,
   "metadata": {},
   "outputs": [
    {
     "data": {
      "text/plain": [
       "datetime      0\n",
       "season        0\n",
       "holiday       0\n",
       "workingday    0\n",
       "weather       0\n",
       "temp          0\n",
       "atemp         0\n",
       "humidity      0\n",
       "windspeed     0\n",
       "count         0\n",
       "dtype: int64"
      ]
     },
     "execution_count": 116,
     "metadata": {},
     "output_type": "execute_result"
    }
   ],
   "source": [
    "#check for missing values\n",
    "df.isnull().sum()\n",
    "#No missing values as shown below so no need for imputation. \n",
    "#However, if we did have missing values we could impute them using the mean value."
   ]
  },
  {
   "cell_type": "code",
   "execution_count": 117,
   "metadata": {},
   "outputs": [
    {
     "data": {
      "text/html": [
       "<div>\n",
       "<style scoped>\n",
       "    .dataframe tbody tr th:only-of-type {\n",
       "        vertical-align: middle;\n",
       "    }\n",
       "\n",
       "    .dataframe tbody tr th {\n",
       "        vertical-align: top;\n",
       "    }\n",
       "\n",
       "    .dataframe thead th {\n",
       "        text-align: right;\n",
       "    }\n",
       "</style>\n",
       "<table border=\"1\" class=\"dataframe\">\n",
       "  <thead>\n",
       "    <tr style=\"text-align: right;\">\n",
       "      <th></th>\n",
       "      <th>holiday</th>\n",
       "      <th>workingday</th>\n",
       "      <th>temp</th>\n",
       "      <th>atemp</th>\n",
       "      <th>humidity</th>\n",
       "      <th>windspeed</th>\n",
       "      <th>count</th>\n",
       "      <th>month</th>\n",
       "      <th>year</th>\n",
       "    </tr>\n",
       "  </thead>\n",
       "  <tbody>\n",
       "    <tr>\n",
       "      <td>count</td>\n",
       "      <td>10886.000000</td>\n",
       "      <td>10886.000000</td>\n",
       "      <td>10886.00000</td>\n",
       "      <td>10886.000000</td>\n",
       "      <td>10886.000000</td>\n",
       "      <td>10886.000000</td>\n",
       "      <td>10886.000000</td>\n",
       "      <td>10886.000000</td>\n",
       "      <td>10886.000000</td>\n",
       "    </tr>\n",
       "    <tr>\n",
       "      <td>mean</td>\n",
       "      <td>0.028569</td>\n",
       "      <td>0.680875</td>\n",
       "      <td>20.23086</td>\n",
       "      <td>23.655084</td>\n",
       "      <td>61.886460</td>\n",
       "      <td>12.799395</td>\n",
       "      <td>191.574132</td>\n",
       "      <td>6.521495</td>\n",
       "      <td>2011.501929</td>\n",
       "    </tr>\n",
       "    <tr>\n",
       "      <td>std</td>\n",
       "      <td>0.166599</td>\n",
       "      <td>0.466159</td>\n",
       "      <td>7.79159</td>\n",
       "      <td>8.474601</td>\n",
       "      <td>19.245033</td>\n",
       "      <td>8.164537</td>\n",
       "      <td>181.144454</td>\n",
       "      <td>3.444373</td>\n",
       "      <td>0.500019</td>\n",
       "    </tr>\n",
       "    <tr>\n",
       "      <td>min</td>\n",
       "      <td>0.000000</td>\n",
       "      <td>0.000000</td>\n",
       "      <td>0.82000</td>\n",
       "      <td>0.760000</td>\n",
       "      <td>0.000000</td>\n",
       "      <td>0.000000</td>\n",
       "      <td>1.000000</td>\n",
       "      <td>1.000000</td>\n",
       "      <td>2011.000000</td>\n",
       "    </tr>\n",
       "    <tr>\n",
       "      <td>25%</td>\n",
       "      <td>0.000000</td>\n",
       "      <td>0.000000</td>\n",
       "      <td>13.94000</td>\n",
       "      <td>16.665000</td>\n",
       "      <td>47.000000</td>\n",
       "      <td>7.001500</td>\n",
       "      <td>42.000000</td>\n",
       "      <td>4.000000</td>\n",
       "      <td>2011.000000</td>\n",
       "    </tr>\n",
       "    <tr>\n",
       "      <td>50%</td>\n",
       "      <td>0.000000</td>\n",
       "      <td>1.000000</td>\n",
       "      <td>20.50000</td>\n",
       "      <td>24.240000</td>\n",
       "      <td>62.000000</td>\n",
       "      <td>12.998000</td>\n",
       "      <td>145.000000</td>\n",
       "      <td>7.000000</td>\n",
       "      <td>2012.000000</td>\n",
       "    </tr>\n",
       "    <tr>\n",
       "      <td>75%</td>\n",
       "      <td>0.000000</td>\n",
       "      <td>1.000000</td>\n",
       "      <td>26.24000</td>\n",
       "      <td>31.060000</td>\n",
       "      <td>77.000000</td>\n",
       "      <td>16.997900</td>\n",
       "      <td>284.000000</td>\n",
       "      <td>10.000000</td>\n",
       "      <td>2012.000000</td>\n",
       "    </tr>\n",
       "    <tr>\n",
       "      <td>max</td>\n",
       "      <td>1.000000</td>\n",
       "      <td>1.000000</td>\n",
       "      <td>41.00000</td>\n",
       "      <td>45.455000</td>\n",
       "      <td>100.000000</td>\n",
       "      <td>56.996900</td>\n",
       "      <td>977.000000</td>\n",
       "      <td>12.000000</td>\n",
       "      <td>2012.000000</td>\n",
       "    </tr>\n",
       "  </tbody>\n",
       "</table>\n",
       "</div>"
      ],
      "text/plain": [
       "            holiday    workingday         temp         atemp      humidity  \\\n",
       "count  10886.000000  10886.000000  10886.00000  10886.000000  10886.000000   \n",
       "mean       0.028569      0.680875     20.23086     23.655084     61.886460   \n",
       "std        0.166599      0.466159      7.79159      8.474601     19.245033   \n",
       "min        0.000000      0.000000      0.82000      0.760000      0.000000   \n",
       "25%        0.000000      0.000000     13.94000     16.665000     47.000000   \n",
       "50%        0.000000      1.000000     20.50000     24.240000     62.000000   \n",
       "75%        0.000000      1.000000     26.24000     31.060000     77.000000   \n",
       "max        1.000000      1.000000     41.00000     45.455000    100.000000   \n",
       "\n",
       "          windspeed         count         month          year  \n",
       "count  10886.000000  10886.000000  10886.000000  10886.000000  \n",
       "mean      12.799395    191.574132      6.521495   2011.501929  \n",
       "std        8.164537    181.144454      3.444373      0.500019  \n",
       "min        0.000000      1.000000      1.000000   2011.000000  \n",
       "25%        7.001500     42.000000      4.000000   2011.000000  \n",
       "50%       12.998000    145.000000      7.000000   2012.000000  \n",
       "75%       16.997900    284.000000     10.000000   2012.000000  \n",
       "max       56.996900    977.000000     12.000000   2012.000000  "
      ]
     },
     "execution_count": 117,
     "metadata": {},
     "output_type": "execute_result"
    }
   ],
   "source": [
    "#create a variable \"month\" and \"year\" out of datetime\n",
    "df['month'] = pd.DatetimeIndex(df['datetime']).month\n",
    "df['year'] = pd.DatetimeIndex(df['datetime']).year\n",
    "df.describe()"
   ]
  },
  {
   "cell_type": "code",
   "execution_count": 118,
   "metadata": {},
   "outputs": [
    {
     "data": {
      "text/plain": [
       "month\n",
       "1      90.366516\n",
       "2     110.003330\n",
       "3     148.169811\n",
       "4     184.160616\n",
       "5     219.459430\n",
       "6     242.031798\n",
       "7     235.325658\n",
       "8     234.118421\n",
       "9     233.805281\n",
       "10    227.699232\n",
       "11    193.677278\n",
       "12    175.614035\n",
       "Name: count, dtype: float64"
      ]
     },
     "execution_count": 118,
     "metadata": {},
     "output_type": "execute_result"
    }
   ],
   "source": [
    "#cheching the average count by month in order to see where the highest values occur.\n",
    "agg = df.groupby(\"month\")[\"count\"].mean()\n",
    "agg"
   ]
  },
  {
   "cell_type": "code",
   "execution_count": 119,
   "metadata": {},
   "outputs": [
    {
     "data": {
      "text/plain": [
       "weather\n",
       "Clear Skies          205.236791\n",
       "Heavy Storms/Rain    164.000000\n",
       "Light Storms/Rain    118.846333\n",
       "Partly Cloudy        178.955540\n",
       "Name: count, dtype: float64"
      ]
     },
     "execution_count": 119,
     "metadata": {},
     "output_type": "execute_result"
    }
   ],
   "source": [
    "#cheching the average count by weather conditions in order to see where the highest values occur.\n",
    "agg = df.groupby(\"weather\")[\"count\"].mean()\n",
    "agg"
   ]
  },
  {
   "cell_type": "code",
   "execution_count": 120,
   "metadata": {},
   "outputs": [
    {
     "data": {
      "text/html": [
       "<div>\n",
       "<style scoped>\n",
       "    .dataframe tbody tr th:only-of-type {\n",
       "        vertical-align: middle;\n",
       "    }\n",
       "\n",
       "    .dataframe tbody tr th {\n",
       "        vertical-align: top;\n",
       "    }\n",
       "\n",
       "    .dataframe thead th {\n",
       "        text-align: right;\n",
       "    }\n",
       "</style>\n",
       "<table border=\"1\" class=\"dataframe\">\n",
       "  <thead>\n",
       "    <tr style=\"text-align: right;\">\n",
       "      <th></th>\n",
       "      <th>datetime</th>\n",
       "      <th>season</th>\n",
       "      <th>holiday</th>\n",
       "      <th>workingday</th>\n",
       "      <th>weather</th>\n",
       "      <th>temp</th>\n",
       "      <th>atemp</th>\n",
       "      <th>humidity</th>\n",
       "      <th>windspeed</th>\n",
       "      <th>count</th>\n",
       "      <th>month</th>\n",
       "      <th>year</th>\n",
       "      <th>summer_months</th>\n",
       "      <th>clear_skies</th>\n",
       "    </tr>\n",
       "  </thead>\n",
       "  <tbody>\n",
       "    <tr>\n",
       "      <td>0</td>\n",
       "      <td>2011-01-01 00:00:00</td>\n",
       "      <td>Spring</td>\n",
       "      <td>0</td>\n",
       "      <td>0</td>\n",
       "      <td>Clear Skies</td>\n",
       "      <td>9.84</td>\n",
       "      <td>14.395</td>\n",
       "      <td>81</td>\n",
       "      <td>0.0</td>\n",
       "      <td>16</td>\n",
       "      <td>1</td>\n",
       "      <td>2011</td>\n",
       "      <td>0</td>\n",
       "      <td>1</td>\n",
       "    </tr>\n",
       "    <tr>\n",
       "      <td>1</td>\n",
       "      <td>2011-01-01 01:00:00</td>\n",
       "      <td>Spring</td>\n",
       "      <td>0</td>\n",
       "      <td>0</td>\n",
       "      <td>Clear Skies</td>\n",
       "      <td>9.02</td>\n",
       "      <td>13.635</td>\n",
       "      <td>80</td>\n",
       "      <td>0.0</td>\n",
       "      <td>40</td>\n",
       "      <td>1</td>\n",
       "      <td>2011</td>\n",
       "      <td>0</td>\n",
       "      <td>1</td>\n",
       "    </tr>\n",
       "    <tr>\n",
       "      <td>2</td>\n",
       "      <td>2011-01-01 02:00:00</td>\n",
       "      <td>Spring</td>\n",
       "      <td>0</td>\n",
       "      <td>0</td>\n",
       "      <td>Clear Skies</td>\n",
       "      <td>9.02</td>\n",
       "      <td>13.635</td>\n",
       "      <td>80</td>\n",
       "      <td>0.0</td>\n",
       "      <td>32</td>\n",
       "      <td>1</td>\n",
       "      <td>2011</td>\n",
       "      <td>0</td>\n",
       "      <td>1</td>\n",
       "    </tr>\n",
       "    <tr>\n",
       "      <td>3</td>\n",
       "      <td>2011-01-01 03:00:00</td>\n",
       "      <td>Spring</td>\n",
       "      <td>0</td>\n",
       "      <td>0</td>\n",
       "      <td>Clear Skies</td>\n",
       "      <td>9.84</td>\n",
       "      <td>14.395</td>\n",
       "      <td>75</td>\n",
       "      <td>0.0</td>\n",
       "      <td>13</td>\n",
       "      <td>1</td>\n",
       "      <td>2011</td>\n",
       "      <td>0</td>\n",
       "      <td>1</td>\n",
       "    </tr>\n",
       "    <tr>\n",
       "      <td>4</td>\n",
       "      <td>2011-01-01 04:00:00</td>\n",
       "      <td>Spring</td>\n",
       "      <td>0</td>\n",
       "      <td>0</td>\n",
       "      <td>Clear Skies</td>\n",
       "      <td>9.84</td>\n",
       "      <td>14.395</td>\n",
       "      <td>75</td>\n",
       "      <td>0.0</td>\n",
       "      <td>1</td>\n",
       "      <td>1</td>\n",
       "      <td>2011</td>\n",
       "      <td>0</td>\n",
       "      <td>1</td>\n",
       "    </tr>\n",
       "  </tbody>\n",
       "</table>\n",
       "</div>"
      ],
      "text/plain": [
       "              datetime  season  holiday  workingday      weather  temp  \\\n",
       "0  2011-01-01 00:00:00  Spring        0           0  Clear Skies  9.84   \n",
       "1  2011-01-01 01:00:00  Spring        0           0  Clear Skies  9.02   \n",
       "2  2011-01-01 02:00:00  Spring        0           0  Clear Skies  9.02   \n",
       "3  2011-01-01 03:00:00  Spring        0           0  Clear Skies  9.84   \n",
       "4  2011-01-01 04:00:00  Spring        0           0  Clear Skies  9.84   \n",
       "\n",
       "    atemp  humidity  windspeed  count  month  year  summer_months  clear_skies  \n",
       "0  14.395        81        0.0     16      1  2011              0            1  \n",
       "1  13.635        80        0.0     40      1  2011              0            1  \n",
       "2  13.635        80        0.0     32      1  2011              0            1  \n",
       "3  14.395        75        0.0     13      1  2011              0            1  \n",
       "4  14.395        75        0.0      1      1  2011              0            1  "
      ]
     },
     "execution_count": 120,
     "metadata": {},
     "output_type": "execute_result"
    }
   ],
   "source": [
    "# create a binary for the high count months around summer\n",
    "\n",
    "mapping = {\n",
    "    1 : 0, \n",
    "    2 : 0, \n",
    "    3 : 0, \n",
    "    4 : 0, \n",
    "    5 : 1,\n",
    "    6 : 1,\n",
    "    7 : 1,\n",
    "    8 : 1,\n",
    "    9 : 1,\n",
    "    10 : 1,\n",
    "    11 : 0,\n",
    "    12 : 0    \n",
    "}\n",
    "\n",
    "df['summer_months'] = df['month'].map(mapping)\n",
    "\n",
    "mapping1 = {\n",
    "    'Clear Skies' : 1, \n",
    "    'Heavy Storms/Rain' : 0, \n",
    "    'Light Storms/Rain' : 0, \n",
    "    'Partly Cloudy' : 0, \n",
    "}\n",
    "\n",
    "df['clear_skies'] = df['weather'].map(mapping1)\n",
    "\n",
    "df.head()"
   ]
  },
  {
   "cell_type": "code",
   "execution_count": 121,
   "metadata": {},
   "outputs": [
    {
     "data": {
      "text/plain": [
       "(10886, 6)"
      ]
     },
     "execution_count": 121,
     "metadata": {},
     "output_type": "execute_result"
    }
   ],
   "source": [
    "#Define X and y. \n",
    "X = df[['holiday' , 'workingday' , 'temp' , 'humidity' , 'summer_months',  'clear_skies']]\n",
    "y = df['count']\n",
    "\n",
    "X.shape"
   ]
  },
  {
   "cell_type": "code",
   "execution_count": 122,
   "metadata": {},
   "outputs": [],
   "source": [
    "#create a train and validation sample\n",
    "from sklearn.model_selection import train_test_split\n",
    "\n",
    "X_train, X_test, y_train, y_test  = train_test_split(X, y , test_size=0.2, random_state=2020)"
   ]
  },
  {
   "cell_type": "code",
   "execution_count": 123,
   "metadata": {},
   "outputs": [
    {
     "data": {
      "text/html": [
       "<div>\n",
       "<style scoped>\n",
       "    .dataframe tbody tr th:only-of-type {\n",
       "        vertical-align: middle;\n",
       "    }\n",
       "\n",
       "    .dataframe tbody tr th {\n",
       "        vertical-align: top;\n",
       "    }\n",
       "\n",
       "    .dataframe thead th {\n",
       "        text-align: right;\n",
       "    }\n",
       "</style>\n",
       "<table border=\"1\" class=\"dataframe\">\n",
       "  <thead>\n",
       "    <tr style=\"text-align: right;\">\n",
       "      <th></th>\n",
       "      <th>holiday</th>\n",
       "      <th>workingday</th>\n",
       "      <th>temp</th>\n",
       "      <th>humidity</th>\n",
       "      <th>summer_months</th>\n",
       "      <th>clear_skies</th>\n",
       "    </tr>\n",
       "  </thead>\n",
       "  <tbody>\n",
       "    <tr>\n",
       "      <td>count</td>\n",
       "      <td>8.708000e+03</td>\n",
       "      <td>8.708000e+03</td>\n",
       "      <td>8.708000e+03</td>\n",
       "      <td>8.708000e+03</td>\n",
       "      <td>8.708000e+03</td>\n",
       "      <td>8.708000e+03</td>\n",
       "    </tr>\n",
       "    <tr>\n",
       "      <td>mean</td>\n",
       "      <td>-7.666824e-16</td>\n",
       "      <td>-4.769828e-16</td>\n",
       "      <td>-5.731418e-15</td>\n",
       "      <td>-3.348646e-16</td>\n",
       "      <td>-5.651071e-16</td>\n",
       "      <td>4.833575e-16</td>\n",
       "    </tr>\n",
       "    <tr>\n",
       "      <td>std</td>\n",
       "      <td>1.000000e+00</td>\n",
       "      <td>1.000000e+00</td>\n",
       "      <td>1.000000e+00</td>\n",
       "      <td>1.000000e+00</td>\n",
       "      <td>1.000000e+00</td>\n",
       "      <td>1.000000e+00</td>\n",
       "    </tr>\n",
       "    <tr>\n",
       "      <td>min</td>\n",
       "      <td>-1.768084e-01</td>\n",
       "      <td>-1.455564e+00</td>\n",
       "      <td>-2.484580e+00</td>\n",
       "      <td>-3.230125e+00</td>\n",
       "      <td>-9.990244e-01</td>\n",
       "      <td>-1.395223e+00</td>\n",
       "    </tr>\n",
       "    <tr>\n",
       "      <td>25%</td>\n",
       "      <td>-1.768084e-01</td>\n",
       "      <td>-1.455564e+00</td>\n",
       "      <td>-8.015211e-01</td>\n",
       "      <td>-7.798344e-01</td>\n",
       "      <td>-9.990244e-01</td>\n",
       "      <td>-1.395223e+00</td>\n",
       "    </tr>\n",
       "    <tr>\n",
       "      <td>50%</td>\n",
       "      <td>-1.768084e-01</td>\n",
       "      <td>6.869398e-01</td>\n",
       "      <td>4.000841e-02</td>\n",
       "      <td>2.173241e-03</td>\n",
       "      <td>-9.990244e-01</td>\n",
       "      <td>7.166492e-01</td>\n",
       "    </tr>\n",
       "    <tr>\n",
       "      <td>75%</td>\n",
       "      <td>-1.768084e-01</td>\n",
       "      <td>6.869398e-01</td>\n",
       "      <td>7.763468e-01</td>\n",
       "      <td>7.972144e-01</td>\n",
       "      <td>1.000862e+00</td>\n",
       "      <td>7.166492e-01</td>\n",
       "    </tr>\n",
       "    <tr>\n",
       "      <td>max</td>\n",
       "      <td>5.655190e+00</td>\n",
       "      <td>6.869398e-01</td>\n",
       "      <td>2.669788e+00</td>\n",
       "      <td>1.983259e+00</td>\n",
       "      <td>1.000862e+00</td>\n",
       "      <td>7.166492e-01</td>\n",
       "    </tr>\n",
       "  </tbody>\n",
       "</table>\n",
       "</div>"
      ],
      "text/plain": [
       "            holiday    workingday          temp      humidity  summer_months  \\\n",
       "count  8.708000e+03  8.708000e+03  8.708000e+03  8.708000e+03   8.708000e+03   \n",
       "mean  -7.666824e-16 -4.769828e-16 -5.731418e-15 -3.348646e-16  -5.651071e-16   \n",
       "std    1.000000e+00  1.000000e+00  1.000000e+00  1.000000e+00   1.000000e+00   \n",
       "min   -1.768084e-01 -1.455564e+00 -2.484580e+00 -3.230125e+00  -9.990244e-01   \n",
       "25%   -1.768084e-01 -1.455564e+00 -8.015211e-01 -7.798344e-01  -9.990244e-01   \n",
       "50%   -1.768084e-01  6.869398e-01  4.000841e-02  2.173241e-03  -9.990244e-01   \n",
       "75%   -1.768084e-01  6.869398e-01  7.763468e-01  7.972144e-01   1.000862e+00   \n",
       "max    5.655190e+00  6.869398e-01  2.669788e+00  1.983259e+00   1.000862e+00   \n",
       "\n",
       "        clear_skies  \n",
       "count  8.708000e+03  \n",
       "mean   4.833575e-16  \n",
       "std    1.000000e+00  \n",
       "min   -1.395223e+00  \n",
       "25%   -1.395223e+00  \n",
       "50%    7.166492e-01  \n",
       "75%    7.166492e-01  \n",
       "max    7.166492e-01  "
      ]
     },
     "execution_count": 123,
     "metadata": {},
     "output_type": "execute_result"
    }
   ],
   "source": [
    "#scale the data and check that the average is zero or very close to zero\n",
    "num_col = X_train.select_dtypes(include=np.number).columns.tolist()\n",
    "\n",
    "X_train_means = X_train[num_col].mean()\n",
    "X_train_std = X_train[num_col].std()\n",
    "\n",
    "X_train[num_col] -= X_train_means\n",
    "X_train[num_col] /= X_train_std\n",
    "\n",
    "X_test[num_col] -= X_train_means\n",
    "X_test[num_col] /= X_train_std\n",
    "\n",
    "X_train.describe()"
   ]
  },
  {
   "cell_type": "code",
   "execution_count": 124,
   "metadata": {},
   "outputs": [
    {
     "data": {
      "text/plain": [
       "0.24519116864781498"
      ]
     },
     "execution_count": 124,
     "metadata": {},
     "output_type": "execute_result"
    }
   ],
   "source": [
    "#Fit a model\n",
    "from sklearn.linear_model import LinearRegression # for linear Regression\n",
    "lreg = LinearRegression()\n",
    "lreg\n",
    "#get the R-squared\n",
    "lreg.fit(X_train , y_train).score(X_train,y_train)"
   ]
  },
  {
   "cell_type": "code",
   "execution_count": 125,
   "metadata": {},
   "outputs": [],
   "source": [
    "# this is the part where we use KFold to find your validation score\n",
    "from sklearn.model_selection import cross_val_score\n",
    "lreg = LinearRegression()\n",
    "# we'll use a loop to go through these\n",
    "cv_scores = []\n",
    "num_folds = [5, 10, 15]\n",
    "\n",
    "for fold in num_folds:\n",
    "    scores = cross_val_score(estimator=lreg, X=X_train, y=y_train, cv=fold)\n",
    "    cv_scores.append(scores)"
   ]
  },
  {
   "cell_type": "code",
   "execution_count": 126,
   "metadata": {},
   "outputs": [],
   "source": [
    "# using teh mean score on to choose our number of \"folds\"\n",
    "cv_dict = {}\n",
    "for idx, fold in enumerate(num_folds):\n",
    "    cv_dict[f'folds: {fold}'] = np.mean(cv_scores[idx])"
   ]
  },
  {
   "cell_type": "code",
   "execution_count": 127,
   "metadata": {},
   "outputs": [
    {
     "data": {
      "text/plain": [
       "{'folds: 5': 0.24315541101087854,\n",
       " 'folds: 10': 0.2426644783670627,\n",
       " 'folds: 15': 0.243101551036457}"
      ]
     },
     "execution_count": 127,
     "metadata": {},
     "output_type": "execute_result"
    }
   ],
   "source": [
    "# scores are roughly the same, but lower than just the general validation score\n",
    "# we had before\n",
    "cv_dict\n",
    "#based on the below I will use folds=6 in order and try to improv the average score by:\n",
    "#- looking at p-values\n",
    "#- will try to include more variables"
   ]
  },
  {
   "cell_type": "code",
   "execution_count": 128,
   "metadata": {},
   "outputs": [
    {
     "name": "stdout",
     "output_type": "stream",
     "text": [
      "                            OLS Regression Results                            \n",
      "==============================================================================\n",
      "Dep. Variable:                  count   R-squared:                       0.245\n",
      "Model:                            OLS   Adj. R-squared:                  0.245\n",
      "Method:                 Least Squares   F-statistic:                     471.1\n",
      "Date:                Wed, 11 Mar 2020   Prob (F-statistic):               0.00\n",
      "Time:                        11:31:37   Log-Likelihood:                -56412.\n",
      "No. Observations:                8708   AIC:                         1.128e+05\n",
      "Df Residuals:                    8701   BIC:                         1.129e+05\n",
      "Df Model:                           6                                         \n",
      "Covariance Type:            nonrobust                                         \n",
      "=================================================================================\n",
      "                    coef    std err          t      P>|t|      [0.025      0.975]\n",
      "---------------------------------------------------------------------------------\n",
      "const           191.1448      1.688    113.227      0.000     187.836     194.454\n",
      "holiday          -2.8545      1.748     -1.633      0.102      -6.280       0.571\n",
      "workingday       -1.3513      1.749     -0.773      0.440      -4.779       2.076\n",
      "temp             75.2633      2.745     27.414      0.000      69.882      80.645\n",
      "humidity        -53.9053      1.930    -27.928      0.000     -57.689     -50.122\n",
      "summer_months    -8.7877      2.777     -3.164      0.002     -14.231      -3.344\n",
      "clear_skies      -6.0675      1.837     -3.303      0.001      -9.669      -2.466\n",
      "==============================================================================\n",
      "Omnibus:                     1727.462   Durbin-Watson:                   1.985\n",
      "Prob(Omnibus):                  0.000   Jarque-Bera (JB):             3363.473\n",
      "Skew:                           1.205   Prob(JB):                         0.00\n",
      "Kurtosis:                       4.860   Cond. No.                         2.97\n",
      "==============================================================================\n",
      "\n",
      "Warnings:\n",
      "[1] Standard Errors assume that the covariance matrix of the errors is correctly specified.\n"
     ]
    },
    {
     "name": "stderr",
     "output_type": "stream",
     "text": [
      "C:\\Users\\simos\\AppData\\Local\\Continuum\\anaconda3\\lib\\site-packages\\numpy\\core\\fromnumeric.py:2389: FutureWarning: Method .ptp is deprecated and will be removed in a future version. Use numpy.ptp instead.\n",
      "  return ptp(axis=axis, out=out, **kwargs)\n"
     ]
    }
   ],
   "source": [
    "#check the p-values in order to determine statistical significance\n",
    "import statsmodels.api as sm\n",
    "from statsmodels.tools import add_constant\n",
    "\n",
    "X_train = add_constant(X_train)\n",
    "mod = sm.OLS(y_train, X_train)\n",
    "\n",
    "# because we loaded in y and X previously, no need to use them here\n",
    "results = mod.fit()\n",
    "\n",
    "# the results() object provides a lot of data, most importantly the summary(), which we can see here\n",
    "print(results.summary())"
   ]
  },
  {
   "cell_type": "code",
   "execution_count": 129,
   "metadata": {},
   "outputs": [
    {
     "name": "stderr",
     "output_type": "stream",
     "text": [
      "C:\\Users\\simos\\AppData\\Local\\Continuum\\anaconda3\\lib\\site-packages\\pandas\\core\\frame.py:3494: SettingWithCopyWarning: \n",
      "A value is trying to be set on a copy of a slice from a DataFrame.\n",
      "Try using .loc[row_indexer,col_indexer] = value instead\n",
      "\n",
      "See the caveats in the documentation: http://pandas.pydata.org/pandas-docs/stable/user_guide/indexing.html#returning-a-view-versus-a-copy\n",
      "  self[k1] = value[k2]\n"
     ]
    }
   ],
   "source": [
    "#remove variables that are insignificant and including an extra variable as w try to increase the R-squared\n",
    "X = df[['temp' , 'humidity' , 'summer_months',  'clear_skies' , 'year']]\n",
    "y = df['count']\n",
    "X_train, X_test, y_train, y_test  = train_test_split(X, y , test_size=0.2, random_state=2020)\n",
    "num_col = X_train.select_dtypes(include=np.number).columns.tolist()\n",
    "\n",
    "X_train_means = X_train[num_col].mean()\n",
    "X_train_std = X_train[num_col].std()\n",
    "\n",
    "X_train[num_col] -= X_train_means\n",
    "X_train[num_col] /= X_train_std\n",
    "\n",
    "X_test[num_col] -= X_train_means\n",
    "X_test[num_col] /= X_train_std"
   ]
  },
  {
   "cell_type": "code",
   "execution_count": 130,
   "metadata": {},
   "outputs": [
    {
     "name": "stdout",
     "output_type": "stream",
     "text": [
      "                            OLS Regression Results                            \n",
      "==============================================================================\n",
      "Dep. Variable:                  count   R-squared:                       0.290\n",
      "Model:                            OLS   Adj. R-squared:                  0.290\n",
      "Method:                 Least Squares   F-statistic:                     711.2\n",
      "Date:                Wed, 11 Mar 2020   Prob (F-statistic):               0.00\n",
      "Time:                        11:31:53   Log-Likelihood:                -56145.\n",
      "No. Observations:                8708   AIC:                         1.123e+05\n",
      "Df Residuals:                    8702   BIC:                         1.123e+05\n",
      "Df Model:                           5                                         \n",
      "Covariance Type:            nonrobust                                         \n",
      "=================================================================================\n",
      "                    coef    std err          t      P>|t|      [0.025      0.975]\n",
      "---------------------------------------------------------------------------------\n",
      "const           191.1448      1.637    116.759      0.000     187.936     194.354\n",
      "temp             69.3899      2.673     25.962      0.000      64.151      74.629\n",
      "humidity        -51.2821      1.875    -27.351      0.000     -54.957     -47.607\n",
      "summer_months    -4.6639      2.698     -1.729      0.084      -9.952       0.624\n",
      "clear_skies      -4.8899      1.782     -2.745      0.006      -8.382      -1.398\n",
      "year             38.8237      1.651     23.522      0.000      35.588      42.059\n",
      "==============================================================================\n",
      "Omnibus:                     1325.224   Durbin-Watson:                   1.983\n",
      "Prob(Omnibus):                  0.000   Jarque-Bera (JB):             2217.042\n",
      "Skew:                           1.017   Prob(JB):                         0.00\n",
      "Kurtosis:                       4.405   Cond. No.                         2.98\n",
      "==============================================================================\n",
      "\n",
      "Warnings:\n",
      "[1] Standard Errors assume that the covariance matrix of the errors is correctly specified.\n"
     ]
    }
   ],
   "source": [
    "import statsmodels.api as sm\n",
    "from statsmodels.tools import add_constant\n",
    "\n",
    "X_train = add_constant(X_train)\n",
    "mod = sm.OLS(y_train, X_train)\n",
    "\n",
    "# because we loaded in y and X previously, no need to use them here\n",
    "results = mod.fit()\n",
    "\n",
    "# the results() object provides a lot of data, most importantly the summary(), which we can see here\n",
    "print(results.summary())"
   ]
  },
  {
   "cell_type": "code",
   "execution_count": null,
   "metadata": {},
   "outputs": [],
   "source": [
    "# R-squared has increased a bit but it is still pretty low. Therefore I will now try to transform the independent variables\n",
    "# to see if I this will improve the fit of the model \n",
    "# I will do that by looking at bivariate plots between each IV and the DV "
   ]
  },
  {
   "cell_type": "code",
   "execution_count": 132,
   "metadata": {},
   "outputs": [
    {
     "data": {
      "text/plain": [
       "<matplotlib.axes._subplots.AxesSubplot at 0x22af65b1748>"
      ]
     },
     "execution_count": 132,
     "metadata": {},
     "output_type": "execute_result"
    },
    {
     "data": {
      "image/png": "[encoded data removed]",
      "text/plain": [
       "<Figure size 432x288 with 1 Axes>"
      ]
     },
     "metadata": {
      "needs_background": "light"
     },
     "output_type": "display_data"
    }
   ],
   "source": [
    "#Bivariate Plots tool\n",
    "import seaborn as sns\n",
    "agg_temp = df.groupby(\"temp\")[\"count\"].mean()\n",
    "agg_temp = pd.DataFrame(data=agg_temp)\n",
    "agg_temp.reset_index(inplace=True)\n",
    "sns.regplot(x='temp' , y = 'count', order=3, data=agg_temp)"
   ]
  },
  {
   "cell_type": "code",
   "execution_count": 133,
   "metadata": {},
   "outputs": [],
   "source": [
    "#order =3 seems to capture the actuals better\n",
    "X_train['temp'] = X_train['temp']**3"
   ]
  },
  {
   "cell_type": "code",
   "execution_count": 134,
   "metadata": {},
   "outputs": [
    {
     "data": {
      "text/plain": [
       "<matplotlib.axes._subplots.AxesSubplot at 0x22af66755c8>"
      ]
     },
     "execution_count": 134,
     "metadata": {},
     "output_type": "execute_result"
    },
    {
     "data": {
      "image/png": "[encoded data removed]",
      "text/plain": [
       "<Figure size 432x288 with 1 Axes>"
      ]
     },
     "metadata": {
      "needs_background": "light"
     },
     "output_type": "display_data"
    }
   ],
   "source": [
    "agg_hum = df.groupby(\"humidity\")[\"count\"].mean()\n",
    "agg_hum = pd.DataFrame(data=agg_hum)\n",
    "agg_hum.reset_index(inplace=True)\n",
    "sns.regplot(x='humidity' , y = 'count', order=1, data=agg_hum)"
   ]
  },
  {
   "cell_type": "code",
   "execution_count": 135,
   "metadata": {},
   "outputs": [],
   "source": [
    "#\n",
    "#flooring teh variable to 20 as we observe a few outliers\n",
    "X_train['humidity'] = np.log(X_train['humidity'] + 4)\n",
    "\n",
    "# the rest of the variables are binary so we will not look into them"
   ]
  },
  {
   "cell_type": "code",
   "execution_count": 136,
   "metadata": {},
   "outputs": [
    {
     "name": "stdout",
     "output_type": "stream",
     "text": [
      "                            OLS Regression Results                            \n",
      "==============================================================================\n",
      "Dep. Variable:                  count   R-squared:                       0.257\n",
      "Model:                            OLS   Adj. R-squared:                  0.256\n",
      "Method:                 Least Squares   F-statistic:                     600.7\n",
      "Date:                Wed, 11 Mar 2020   Prob (F-statistic):               0.00\n",
      "Time:                        11:35:15   Log-Likelihood:                -56346.\n",
      "No. Observations:                8708   AIC:                         1.127e+05\n",
      "Df Residuals:                    8702   BIC:                         1.127e+05\n",
      "Df Model:                           5                                         \n",
      "Covariance Type:            nonrobust                                         \n",
      "=================================================================================\n",
      "                    coef    std err          t      P>|t|      [0.025      0.975]\n",
      "---------------------------------------------------------------------------------\n",
      "const           452.0334      9.506     47.551      0.000     433.399     470.668\n",
      "temp             15.7545      0.851     18.505      0.000      14.086      17.423\n",
      "humidity       -193.1026      6.921    -27.900      0.000    -206.670    -179.536\n",
      "summer_months    28.1932      2.089     13.497      0.000      24.099      32.288\n",
      "clear_skies      -2.4592      1.798     -1.368      0.171      -5.983       1.065\n",
      "year             41.0340      1.686     24.332      0.000      37.728      44.340\n",
      "==============================================================================\n",
      "Omnibus:                     1274.713   Durbin-Watson:                   1.988\n",
      "Prob(Omnibus):                  0.000   Jarque-Bera (JB):             2073.740\n",
      "Skew:                           0.998   Prob(JB):                         0.00\n",
      "Kurtosis:                       4.315   Cond. No.                         17.6\n",
      "==============================================================================\n",
      "\n",
      "Warnings:\n",
      "[1] Standard Errors assume that the covariance matrix of the errors is correctly specified.\n"
     ]
    }
   ],
   "source": [
    "#Rerun the regression to see how our results change\n",
    "X_train = add_constant(X_train)\n",
    "mod = sm.OLS(y_train, X_train)\n",
    "\n",
    "# because we loaded in y and X previously, no need to use them here\n",
    "results = mod.fit()\n",
    "\n",
    "# the results() object provides a lot of data, most importantly the summary(), which we can see here\n",
    "print(results.summary())"
   ]
  },
  {
   "cell_type": "code",
   "execution_count": null,
   "metadata": {},
   "outputs": [],
   "source": [
    "#it did not help much in terms of R-Squared but did get a sign correction on  summer months"
   ]
  }
 ],
 "metadata": {
  "kernelspec": {
   "display_name": "Python 3",
   "language": "python",
   "name": "python3"
  },
  "language_info": {
   "codemirror_mode": {
    "name": "ipython",
    "version": 3
   },
   "file_extension": ".py",
   "mimetype": "text/x-python",
   "name": "python",
   "nbconvert_exporter": "python",
   "pygments_lexer": "ipython3",
   "version": "3.7.4"
  }
 },
 "nbformat": 4,
 "nbformat_minor": 2
}
