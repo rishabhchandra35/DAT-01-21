{
 "cells": [
  {
   "cell_type": "code",
   "execution_count": 539,
   "metadata": {},
   "outputs": [],
   "source": [
    "import pandas as pd\n",
    "import numpy as np\n",
    "import seaborn as sns"
   ]
  },
  {
   "cell_type": "code",
   "execution_count": 540,
   "metadata": {},
   "outputs": [],
   "source": [
    "df = pd.read_csv('data/bikeshare.csv')"
   ]
  },
  {
   "cell_type": "code",
   "execution_count": 541,
   "metadata": {},
   "outputs": [],
   "source": [
    "train = pd.read_csv('data/bikeshare.csv').iloc[:5443]\n",
    "test  = pd.read_csv('data/bikeshare.csv').iloc[5443:] "
   ]
  },
  {
   "cell_type": "code",
   "execution_count": 542,
   "metadata": {
    "scrolled": true
   },
   "outputs": [
    {
     "data": {
      "text/html": [
       "<div>\n",
       "<style scoped>\n",
       "    .dataframe tbody tr th:only-of-type {\n",
       "        vertical-align: middle;\n",
       "    }\n",
       "\n",
       "    .dataframe tbody tr th {\n",
       "        vertical-align: top;\n",
       "    }\n",
       "\n",
       "    .dataframe thead th {\n",
       "        text-align: right;\n",
       "    }\n",
       "</style>\n",
       "<table border=\"1\" class=\"dataframe\">\n",
       "  <thead>\n",
       "    <tr style=\"text-align: right;\">\n",
       "      <th></th>\n",
       "      <th>datetime</th>\n",
       "      <th>season</th>\n",
       "      <th>holiday</th>\n",
       "      <th>workingday</th>\n",
       "      <th>weather</th>\n",
       "      <th>temp</th>\n",
       "      <th>atemp</th>\n",
       "      <th>humidity</th>\n",
       "      <th>windspeed</th>\n",
       "      <th>count</th>\n",
       "    </tr>\n",
       "  </thead>\n",
       "  <tbody>\n",
       "    <tr>\n",
       "      <th>0</th>\n",
       "      <td>2011-01-01 00:00:00</td>\n",
       "      <td>Spring</td>\n",
       "      <td>0</td>\n",
       "      <td>0</td>\n",
       "      <td>Clear Skies</td>\n",
       "      <td>9.84</td>\n",
       "      <td>14.395</td>\n",
       "      <td>81</td>\n",
       "      <td>0.0</td>\n",
       "      <td>16</td>\n",
       "    </tr>\n",
       "    <tr>\n",
       "      <th>1</th>\n",
       "      <td>2011-01-01 01:00:00</td>\n",
       "      <td>Spring</td>\n",
       "      <td>0</td>\n",
       "      <td>0</td>\n",
       "      <td>Clear Skies</td>\n",
       "      <td>9.02</td>\n",
       "      <td>13.635</td>\n",
       "      <td>80</td>\n",
       "      <td>0.0</td>\n",
       "      <td>40</td>\n",
       "    </tr>\n",
       "    <tr>\n",
       "      <th>2</th>\n",
       "      <td>2011-01-01 02:00:00</td>\n",
       "      <td>Spring</td>\n",
       "      <td>0</td>\n",
       "      <td>0</td>\n",
       "      <td>Clear Skies</td>\n",
       "      <td>9.02</td>\n",
       "      <td>13.635</td>\n",
       "      <td>80</td>\n",
       "      <td>0.0</td>\n",
       "      <td>32</td>\n",
       "    </tr>\n",
       "    <tr>\n",
       "      <th>3</th>\n",
       "      <td>2011-01-01 03:00:00</td>\n",
       "      <td>Spring</td>\n",
       "      <td>0</td>\n",
       "      <td>0</td>\n",
       "      <td>Clear Skies</td>\n",
       "      <td>9.84</td>\n",
       "      <td>14.395</td>\n",
       "      <td>75</td>\n",
       "      <td>0.0</td>\n",
       "      <td>13</td>\n",
       "    </tr>\n",
       "    <tr>\n",
       "      <th>4</th>\n",
       "      <td>2011-01-01 04:00:00</td>\n",
       "      <td>Spring</td>\n",
       "      <td>0</td>\n",
       "      <td>0</td>\n",
       "      <td>Clear Skies</td>\n",
       "      <td>9.84</td>\n",
       "      <td>14.395</td>\n",
       "      <td>75</td>\n",
       "      <td>0.0</td>\n",
       "      <td>1</td>\n",
       "    </tr>\n",
       "  </tbody>\n",
       "</table>\n",
       "</div>"
      ],
      "text/plain": [
       "              datetime  season  holiday  workingday      weather  temp  \\\n",
       "0  2011-01-01 00:00:00  Spring        0           0  Clear Skies  9.84   \n",
       "1  2011-01-01 01:00:00  Spring        0           0  Clear Skies  9.02   \n",
       "2  2011-01-01 02:00:00  Spring        0           0  Clear Skies  9.02   \n",
       "3  2011-01-01 03:00:00  Spring        0           0  Clear Skies  9.84   \n",
       "4  2011-01-01 04:00:00  Spring        0           0  Clear Skies  9.84   \n",
       "\n",
       "    atemp  humidity  windspeed  count  \n",
       "0  14.395        81        0.0     16  \n",
       "1  13.635        80        0.0     40  \n",
       "2  13.635        80        0.0     32  \n",
       "3  14.395        75        0.0     13  \n",
       "4  14.395        75        0.0      1  "
      ]
     },
     "execution_count": 542,
     "metadata": {},
     "output_type": "execute_result"
    }
   ],
   "source": [
    "train.head()"
   ]
  },
  {
   "cell_type": "code",
   "execution_count": 543,
   "metadata": {},
   "outputs": [
    {
     "data": {
      "text/html": [
       "<div>\n",
       "<style scoped>\n",
       "    .dataframe tbody tr th:only-of-type {\n",
       "        vertical-align: middle;\n",
       "    }\n",
       "\n",
       "    .dataframe tbody tr th {\n",
       "        vertical-align: top;\n",
       "    }\n",
       "\n",
       "    .dataframe thead th {\n",
       "        text-align: right;\n",
       "    }\n",
       "</style>\n",
       "<table border=\"1\" class=\"dataframe\">\n",
       "  <thead>\n",
       "    <tr style=\"text-align: right;\">\n",
       "      <th></th>\n",
       "      <th>datetime</th>\n",
       "      <th>season</th>\n",
       "      <th>holiday</th>\n",
       "      <th>workingday</th>\n",
       "      <th>weather</th>\n",
       "      <th>temp</th>\n",
       "      <th>atemp</th>\n",
       "      <th>humidity</th>\n",
       "      <th>windspeed</th>\n",
       "      <th>count</th>\n",
       "    </tr>\n",
       "  </thead>\n",
       "  <tbody>\n",
       "    <tr>\n",
       "      <th>5443</th>\n",
       "      <td>2012-01-01 21:00:00</td>\n",
       "      <td>Spring</td>\n",
       "      <td>0</td>\n",
       "      <td>0</td>\n",
       "      <td>Partly Cloudy</td>\n",
       "      <td>18.04</td>\n",
       "      <td>21.970</td>\n",
       "      <td>67</td>\n",
       "      <td>16.9979</td>\n",
       "      <td>71</td>\n",
       "    </tr>\n",
       "    <tr>\n",
       "      <th>5444</th>\n",
       "      <td>2012-01-01 22:00:00</td>\n",
       "      <td>Spring</td>\n",
       "      <td>0</td>\n",
       "      <td>0</td>\n",
       "      <td>Clear Skies</td>\n",
       "      <td>18.86</td>\n",
       "      <td>22.725</td>\n",
       "      <td>55</td>\n",
       "      <td>27.9993</td>\n",
       "      <td>66</td>\n",
       "    </tr>\n",
       "    <tr>\n",
       "      <th>5445</th>\n",
       "      <td>2012-01-01 23:00:00</td>\n",
       "      <td>Spring</td>\n",
       "      <td>0</td>\n",
       "      <td>0</td>\n",
       "      <td>Clear Skies</td>\n",
       "      <td>18.04</td>\n",
       "      <td>21.970</td>\n",
       "      <td>51</td>\n",
       "      <td>19.9995</td>\n",
       "      <td>29</td>\n",
       "    </tr>\n",
       "    <tr>\n",
       "      <th>5446</th>\n",
       "      <td>2012-01-02 00:00:00</td>\n",
       "      <td>Spring</td>\n",
       "      <td>1</td>\n",
       "      <td>0</td>\n",
       "      <td>Clear Skies</td>\n",
       "      <td>16.40</td>\n",
       "      <td>20.455</td>\n",
       "      <td>40</td>\n",
       "      <td>31.0009</td>\n",
       "      <td>39</td>\n",
       "    </tr>\n",
       "    <tr>\n",
       "      <th>5447</th>\n",
       "      <td>2012-01-02 01:00:00</td>\n",
       "      <td>Spring</td>\n",
       "      <td>1</td>\n",
       "      <td>0</td>\n",
       "      <td>Clear Skies</td>\n",
       "      <td>14.76</td>\n",
       "      <td>16.665</td>\n",
       "      <td>43</td>\n",
       "      <td>27.9993</td>\n",
       "      <td>12</td>\n",
       "    </tr>\n",
       "  </tbody>\n",
       "</table>\n",
       "</div>"
      ],
      "text/plain": [
       "                 datetime  season  holiday  workingday        weather   temp  \\\n",
       "5443  2012-01-01 21:00:00  Spring        0           0  Partly Cloudy  18.04   \n",
       "5444  2012-01-01 22:00:00  Spring        0           0    Clear Skies  18.86   \n",
       "5445  2012-01-01 23:00:00  Spring        0           0    Clear Skies  18.04   \n",
       "5446  2012-01-02 00:00:00  Spring        1           0    Clear Skies  16.40   \n",
       "5447  2012-01-02 01:00:00  Spring        1           0    Clear Skies  14.76   \n",
       "\n",
       "       atemp  humidity  windspeed  count  \n",
       "5443  21.970        67    16.9979     71  \n",
       "5444  22.725        55    27.9993     66  \n",
       "5445  21.970        51    19.9995     29  \n",
       "5446  20.455        40    31.0009     39  \n",
       "5447  16.665        43    27.9993     12  "
      ]
     },
     "execution_count": 543,
     "metadata": {},
     "output_type": "execute_result"
    }
   ],
   "source": [
    "test.head()"
   ]
  },
  {
   "cell_type": "markdown",
   "metadata": {},
   "source": [
    "# Exploratory Data Analysis\n",
    "\n",
    "Including: total nulls, index, data types, shape, summary statistics, and the number of unique values for each column"
   ]
  },
  {
   "cell_type": "code",
   "execution_count": 544,
   "metadata": {},
   "outputs": [
    {
     "data": {
      "text/plain": [
       "datetime      0\n",
       "season        0\n",
       "holiday       0\n",
       "workingday    0\n",
       "weather       0\n",
       "temp          0\n",
       "atemp         0\n",
       "humidity      0\n",
       "windspeed     0\n",
       "count         0\n",
       "dtype: int64"
      ]
     },
     "execution_count": 544,
     "metadata": {},
     "output_type": "execute_result"
    }
   ],
   "source": [
    "train.isnull().sum()"
   ]
  },
  {
   "cell_type": "code",
   "execution_count": 545,
   "metadata": {},
   "outputs": [
    {
     "data": {
      "text/plain": [
       "datetime      0\n",
       "season        0\n",
       "holiday       0\n",
       "workingday    0\n",
       "weather       0\n",
       "temp          0\n",
       "atemp         0\n",
       "humidity      0\n",
       "windspeed     0\n",
       "count         0\n",
       "dtype: int64"
      ]
     },
     "execution_count": 545,
     "metadata": {},
     "output_type": "execute_result"
    }
   ],
   "source": [
    "test.isnull().sum()"
   ]
  },
  {
   "cell_type": "code",
   "execution_count": 546,
   "metadata": {},
   "outputs": [
    {
     "name": "stdout",
     "output_type": "stream",
     "text": [
      "(5443, 10)\n",
      "(5443, 10)\n"
     ]
    }
   ],
   "source": [
    "print(np.shape(test))\n",
    "print(np.shape(train))"
   ]
  },
  {
   "cell_type": "code",
   "execution_count": 547,
   "metadata": {
    "scrolled": true
   },
   "outputs": [
    {
     "name": "stdout",
     "output_type": "stream",
     "text": [
      "<class 'pandas.core.frame.DataFrame'>\n",
      "RangeIndex: 5443 entries, 5443 to 10885\n",
      "Data columns (total 10 columns):\n",
      "datetime      5443 non-null object\n",
      "season        5443 non-null object\n",
      "holiday       5443 non-null int64\n",
      "workingday    5443 non-null int64\n",
      "weather       5443 non-null object\n",
      "temp          5443 non-null float64\n",
      "atemp         5443 non-null float64\n",
      "humidity      5443 non-null int64\n",
      "windspeed     5443 non-null float64\n",
      "count         5443 non-null int64\n",
      "dtypes: float64(3), int64(4), object(3)\n",
      "memory usage: 425.3+ KB\n"
     ]
    }
   ],
   "source": [
    "test.info()"
   ]
  },
  {
   "cell_type": "code",
   "execution_count": 548,
   "metadata": {},
   "outputs": [
    {
     "name": "stdout",
     "output_type": "stream",
     "text": [
      "<class 'pandas.core.frame.DataFrame'>\n",
      "RangeIndex: 5443 entries, 0 to 5442\n",
      "Data columns (total 10 columns):\n",
      "datetime      5443 non-null object\n",
      "season        5443 non-null object\n",
      "holiday       5443 non-null int64\n",
      "workingday    5443 non-null int64\n",
      "weather       5443 non-null object\n",
      "temp          5443 non-null float64\n",
      "atemp         5443 non-null float64\n",
      "humidity      5443 non-null int64\n",
      "windspeed     5443 non-null float64\n",
      "count         5443 non-null int64\n",
      "dtypes: float64(3), int64(4), object(3)\n",
      "memory usage: 425.3+ KB\n"
     ]
    }
   ],
   "source": [
    "train.info()\n",
    "# most columns are numeric (int or float)\n",
    "# datetime is an object - will need to convert this to \"datetime\"\n",
    "# Season & weather are strings. These columns are categorical and should\n",
    "# be converted to numerical"
   ]
  },
  {
   "cell_type": "code",
   "execution_count": 549,
   "metadata": {},
   "outputs": [
    {
     "data": {
      "text/plain": [
       "datetime      5443\n",
       "season           4\n",
       "holiday          2\n",
       "workingday       2\n",
       "weather          3\n",
       "temp            45\n",
       "atemp           54\n",
       "humidity        87\n",
       "windspeed       27\n",
       "count          557\n",
       "dtype: int64"
      ]
     },
     "execution_count": 549,
     "metadata": {},
     "output_type": "execute_result"
    }
   ],
   "source": [
    "train.nunique()\n",
    "#train has 3 values in weather, while test has 4"
   ]
  },
  {
   "cell_type": "code",
   "execution_count": 550,
   "metadata": {},
   "outputs": [
    {
     "data": {
      "text/plain": [
       "datetime      5443\n",
       "season           4\n",
       "holiday          2\n",
       "workingday       2\n",
       "weather          4\n",
       "temp            49\n",
       "atemp           60\n",
       "humidity        81\n",
       "windspeed       25\n",
       "count          813\n",
       "dtype: int64"
      ]
     },
     "execution_count": 550,
     "metadata": {},
     "output_type": "execute_result"
    }
   ],
   "source": [
    "test.nunique()\n",
    "#train has 3 values in weather, while test has 4, so will need to concat then\n",
    "#for category encoding"
   ]
  },
  {
   "cell_type": "code",
   "execution_count": 551,
   "metadata": {},
   "outputs": [
    {
     "data": {
      "text/plain": [
       "array(['Partly Cloudy', 'Clear Skies', 'Light Storms/Rain',\n",
       "       'Heavy Storms/Rain'], dtype=object)"
      ]
     },
     "execution_count": 551,
     "metadata": {},
     "output_type": "execute_result"
    }
   ],
   "source": [
    "train['weather'].unique()\n",
    "test['weather'].unique()"
   ]
  },
  {
   "cell_type": "code",
   "execution_count": 552,
   "metadata": {
    "scrolled": true
   },
   "outputs": [
    {
     "data": {
      "text/html": [
       "<div>\n",
       "<style scoped>\n",
       "    .dataframe tbody tr th:only-of-type {\n",
       "        vertical-align: middle;\n",
       "    }\n",
       "\n",
       "    .dataframe tbody tr th {\n",
       "        vertical-align: top;\n",
       "    }\n",
       "\n",
       "    .dataframe thead th {\n",
       "        text-align: right;\n",
       "    }\n",
       "</style>\n",
       "<table border=\"1\" class=\"dataframe\">\n",
       "  <thead>\n",
       "    <tr style=\"text-align: right;\">\n",
       "      <th></th>\n",
       "      <th>datetime</th>\n",
       "      <th>season</th>\n",
       "      <th>holiday</th>\n",
       "      <th>workingday</th>\n",
       "      <th>weather</th>\n",
       "      <th>temp</th>\n",
       "      <th>atemp</th>\n",
       "      <th>humidity</th>\n",
       "      <th>windspeed</th>\n",
       "      <th>count</th>\n",
       "    </tr>\n",
       "  </thead>\n",
       "  <tbody>\n",
       "    <tr>\n",
       "      <th>0</th>\n",
       "      <td>2011-01-01 00:00:00</td>\n",
       "      <td>Spring</td>\n",
       "      <td>0</td>\n",
       "      <td>0</td>\n",
       "      <td>Clear Skies</td>\n",
       "      <td>9.84</td>\n",
       "      <td>14.395</td>\n",
       "      <td>81</td>\n",
       "      <td>0.0</td>\n",
       "      <td>16</td>\n",
       "    </tr>\n",
       "    <tr>\n",
       "      <th>1</th>\n",
       "      <td>2011-01-01 01:00:00</td>\n",
       "      <td>Spring</td>\n",
       "      <td>0</td>\n",
       "      <td>0</td>\n",
       "      <td>Clear Skies</td>\n",
       "      <td>9.02</td>\n",
       "      <td>13.635</td>\n",
       "      <td>80</td>\n",
       "      <td>0.0</td>\n",
       "      <td>40</td>\n",
       "    </tr>\n",
       "    <tr>\n",
       "      <th>2</th>\n",
       "      <td>2011-01-01 02:00:00</td>\n",
       "      <td>Spring</td>\n",
       "      <td>0</td>\n",
       "      <td>0</td>\n",
       "      <td>Clear Skies</td>\n",
       "      <td>9.02</td>\n",
       "      <td>13.635</td>\n",
       "      <td>80</td>\n",
       "      <td>0.0</td>\n",
       "      <td>32</td>\n",
       "    </tr>\n",
       "    <tr>\n",
       "      <th>3</th>\n",
       "      <td>2011-01-01 03:00:00</td>\n",
       "      <td>Spring</td>\n",
       "      <td>0</td>\n",
       "      <td>0</td>\n",
       "      <td>Clear Skies</td>\n",
       "      <td>9.84</td>\n",
       "      <td>14.395</td>\n",
       "      <td>75</td>\n",
       "      <td>0.0</td>\n",
       "      <td>13</td>\n",
       "    </tr>\n",
       "    <tr>\n",
       "      <th>4</th>\n",
       "      <td>2011-01-01 04:00:00</td>\n",
       "      <td>Spring</td>\n",
       "      <td>0</td>\n",
       "      <td>0</td>\n",
       "      <td>Clear Skies</td>\n",
       "      <td>9.84</td>\n",
       "      <td>14.395</td>\n",
       "      <td>75</td>\n",
       "      <td>0.0</td>\n",
       "      <td>1</td>\n",
       "    </tr>\n",
       "  </tbody>\n",
       "</table>\n",
       "</div>"
      ],
      "text/plain": [
       "             datetime  season  holiday  workingday      weather  temp   atemp  \\\n",
       "0 2011-01-01 00:00:00  Spring        0           0  Clear Skies  9.84  14.395   \n",
       "1 2011-01-01 01:00:00  Spring        0           0  Clear Skies  9.02  13.635   \n",
       "2 2011-01-01 02:00:00  Spring        0           0  Clear Skies  9.02  13.635   \n",
       "3 2011-01-01 03:00:00  Spring        0           0  Clear Skies  9.84  14.395   \n",
       "4 2011-01-01 04:00:00  Spring        0           0  Clear Skies  9.84  14.395   \n",
       "\n",
       "   humidity  windspeed  count  \n",
       "0        81        0.0     16  \n",
       "1        80        0.0     40  \n",
       "2        80        0.0     32  \n",
       "3        75        0.0     13  \n",
       "4        75        0.0      1  "
      ]
     },
     "execution_count": 552,
     "metadata": {},
     "output_type": "execute_result"
    }
   ],
   "source": [
    "# added my own datepart colunmns to increase prediction score\n",
    "train['datetime'] = pd.to_datetime(train['datetime'])\n",
    "test['datetime'] = pd.to_datetime(test['datetime'])\n",
    "#train['hour_of_day'] = train['datetime'].dt.hour()\n",
    "train.head()"
   ]
  },
  {
   "cell_type": "code",
   "execution_count": 553,
   "metadata": {},
   "outputs": [],
   "source": [
    "train['hour_of_day'] = train['datetime'].dt.hour.astype(str)\n",
    "test['hour_of_day'] = test['datetime'].dt.hour.astype(str)"
   ]
  },
  {
   "cell_type": "code",
   "execution_count": 554,
   "metadata": {},
   "outputs": [],
   "source": [
    "train['day_of_week'] = train['datetime'].dt.weekday_name\n",
    "test['day_of_week'] = test['datetime'].dt.weekday_name"
   ]
  },
  {
   "cell_type": "code",
   "execution_count": 555,
   "metadata": {},
   "outputs": [
    {
     "data": {
      "text/html": [
       "<div>\n",
       "<style scoped>\n",
       "    .dataframe tbody tr th:only-of-type {\n",
       "        vertical-align: middle;\n",
       "    }\n",
       "\n",
       "    .dataframe tbody tr th {\n",
       "        vertical-align: top;\n",
       "    }\n",
       "\n",
       "    .dataframe thead th {\n",
       "        text-align: right;\n",
       "    }\n",
       "</style>\n",
       "<table border=\"1\" class=\"dataframe\">\n",
       "  <thead>\n",
       "    <tr style=\"text-align: right;\">\n",
       "      <th></th>\n",
       "      <th>datetime</th>\n",
       "      <th>season</th>\n",
       "      <th>holiday</th>\n",
       "      <th>workingday</th>\n",
       "      <th>weather</th>\n",
       "      <th>temp</th>\n",
       "      <th>atemp</th>\n",
       "      <th>humidity</th>\n",
       "      <th>windspeed</th>\n",
       "      <th>count</th>\n",
       "      <th>hour_of_day</th>\n",
       "      <th>day_of_week</th>\n",
       "    </tr>\n",
       "  </thead>\n",
       "  <tbody>\n",
       "    <tr>\n",
       "      <th>0</th>\n",
       "      <td>2011-01-01 00:00:00</td>\n",
       "      <td>Spring</td>\n",
       "      <td>0</td>\n",
       "      <td>0</td>\n",
       "      <td>3</td>\n",
       "      <td>9.84</td>\n",
       "      <td>14.395</td>\n",
       "      <td>81</td>\n",
       "      <td>0.0</td>\n",
       "      <td>16</td>\n",
       "      <td>0</td>\n",
       "      <td>Saturday</td>\n",
       "    </tr>\n",
       "    <tr>\n",
       "      <th>1</th>\n",
       "      <td>2011-01-01 01:00:00</td>\n",
       "      <td>Spring</td>\n",
       "      <td>0</td>\n",
       "      <td>0</td>\n",
       "      <td>3</td>\n",
       "      <td>9.02</td>\n",
       "      <td>13.635</td>\n",
       "      <td>80</td>\n",
       "      <td>0.0</td>\n",
       "      <td>40</td>\n",
       "      <td>1</td>\n",
       "      <td>Saturday</td>\n",
       "    </tr>\n",
       "    <tr>\n",
       "      <th>2</th>\n",
       "      <td>2011-01-01 02:00:00</td>\n",
       "      <td>Spring</td>\n",
       "      <td>0</td>\n",
       "      <td>0</td>\n",
       "      <td>3</td>\n",
       "      <td>9.02</td>\n",
       "      <td>13.635</td>\n",
       "      <td>80</td>\n",
       "      <td>0.0</td>\n",
       "      <td>32</td>\n",
       "      <td>2</td>\n",
       "      <td>Saturday</td>\n",
       "    </tr>\n",
       "    <tr>\n",
       "      <th>3</th>\n",
       "      <td>2011-01-01 03:00:00</td>\n",
       "      <td>Spring</td>\n",
       "      <td>0</td>\n",
       "      <td>0</td>\n",
       "      <td>3</td>\n",
       "      <td>9.84</td>\n",
       "      <td>14.395</td>\n",
       "      <td>75</td>\n",
       "      <td>0.0</td>\n",
       "      <td>13</td>\n",
       "      <td>3</td>\n",
       "      <td>Saturday</td>\n",
       "    </tr>\n",
       "    <tr>\n",
       "      <th>4</th>\n",
       "      <td>2011-01-01 04:00:00</td>\n",
       "      <td>Spring</td>\n",
       "      <td>0</td>\n",
       "      <td>0</td>\n",
       "      <td>3</td>\n",
       "      <td>9.84</td>\n",
       "      <td>14.395</td>\n",
       "      <td>75</td>\n",
       "      <td>0.0</td>\n",
       "      <td>1</td>\n",
       "      <td>4</td>\n",
       "      <td>Saturday</td>\n",
       "    </tr>\n",
       "  </tbody>\n",
       "</table>\n",
       "</div>"
      ],
      "text/plain": [
       "             datetime  season  holiday  workingday  weather  temp   atemp  \\\n",
       "0 2011-01-01 00:00:00  Spring        0           0        3  9.84  14.395   \n",
       "1 2011-01-01 01:00:00  Spring        0           0        3  9.02  13.635   \n",
       "2 2011-01-01 02:00:00  Spring        0           0        3  9.02  13.635   \n",
       "3 2011-01-01 03:00:00  Spring        0           0        3  9.84  14.395   \n",
       "4 2011-01-01 04:00:00  Spring        0           0        3  9.84  14.395   \n",
       "\n",
       "   humidity  windspeed  count hour_of_day day_of_week  \n",
       "0        81        0.0     16           0    Saturday  \n",
       "1        80        0.0     40           1    Saturday  \n",
       "2        80        0.0     32           2    Saturday  \n",
       "3        75        0.0     13           3    Saturday  \n",
       "4        75        0.0      1           4    Saturday  "
      ]
     },
     "execution_count": 555,
     "metadata": {},
     "output_type": "execute_result"
    }
   ],
   "source": [
    "mapping = {'Clear Skies': 3, \n",
    "           'Partly Cloudy': 2,\n",
    "           'Light Storms/Rain': 1,\n",
    "           'Heavy Storms/Rain': 0\n",
    "          }\n",
    "\n",
    "train['weather'] = train['weather'].map(mapping)\n",
    "test['weather'] = test['weather'].map(mapping)\n",
    "train.head()"
   ]
  },
  {
   "cell_type": "code",
   "execution_count": 556,
   "metadata": {},
   "outputs": [],
   "source": [
    "master = pd.concat([train, test])\n",
    "master = pd.get_dummies(master)"
   ]
  },
  {
   "cell_type": "code",
   "execution_count": 557,
   "metadata": {},
   "outputs": [],
   "source": [
    "train  = master.iloc[:5443].copy()\n",
    "test   = master.iloc[5443:].copy()"
   ]
  },
  {
   "cell_type": "code",
   "execution_count": 558,
   "metadata": {},
   "outputs": [
    {
     "data": {
      "text/html": [
       "<div>\n",
       "<style scoped>\n",
       "    .dataframe tbody tr th:only-of-type {\n",
       "        vertical-align: middle;\n",
       "    }\n",
       "\n",
       "    .dataframe tbody tr th {\n",
       "        vertical-align: top;\n",
       "    }\n",
       "\n",
       "    .dataframe thead th {\n",
       "        text-align: right;\n",
       "    }\n",
       "</style>\n",
       "<table border=\"1\" class=\"dataframe\">\n",
       "  <thead>\n",
       "    <tr style=\"text-align: right;\">\n",
       "      <th></th>\n",
       "      <th>holiday</th>\n",
       "      <th>workingday</th>\n",
       "      <th>weather</th>\n",
       "      <th>temp</th>\n",
       "      <th>atemp</th>\n",
       "      <th>humidity</th>\n",
       "      <th>windspeed</th>\n",
       "      <th>count</th>\n",
       "      <th>season_Fall</th>\n",
       "      <th>season_Spring</th>\n",
       "      <th>...</th>\n",
       "      <th>hour_of_day_8</th>\n",
       "      <th>hour_of_day_9</th>\n",
       "      <th>day_of_week_Friday</th>\n",
       "      <th>day_of_week_Monday</th>\n",
       "      <th>day_of_week_Saturday</th>\n",
       "      <th>day_of_week_Sunday</th>\n",
       "      <th>day_of_week_Thursday</th>\n",
       "      <th>day_of_week_Tuesday</th>\n",
       "      <th>day_of_week_Wednesday</th>\n",
       "      <th>count_abs</th>\n",
       "    </tr>\n",
       "  </thead>\n",
       "  <tbody>\n",
       "    <tr>\n",
       "      <th>count</th>\n",
       "      <td>0.010837</td>\n",
       "      <td>-0.003955</td>\n",
       "      <td>0.133236</td>\n",
       "      <td>0.451201</td>\n",
       "      <td>0.448814</td>\n",
       "      <td>-0.283322</td>\n",
       "      <td>0.083595</td>\n",
       "      <td>1.000000</td>\n",
       "      <td>0.186536</td>\n",
       "      <td>-0.308264</td>\n",
       "      <td>...</td>\n",
       "      <td>0.188122</td>\n",
       "      <td>0.031222</td>\n",
       "      <td>0.024082</td>\n",
       "      <td>0.024030</td>\n",
       "      <td>-0.001751</td>\n",
       "      <td>0.002084</td>\n",
       "      <td>-0.005384</td>\n",
       "      <td>0.001942</td>\n",
       "      <td>-0.045340</td>\n",
       "      <td>1.000000</td>\n",
       "    </tr>\n",
       "    <tr>\n",
       "      <th>temp</th>\n",
       "      <td>0.004226</td>\n",
       "      <td>0.038313</td>\n",
       "      <td>0.045251</td>\n",
       "      <td>1.000000</td>\n",
       "      <td>0.992281</td>\n",
       "      <td>-0.046221</td>\n",
       "      <td>0.005380</td>\n",
       "      <td>0.451201</td>\n",
       "      <td>0.621443</td>\n",
       "      <td>-0.598757</td>\n",
       "      <td>...</td>\n",
       "      <td>-0.041331</td>\n",
       "      <td>-0.016624</td>\n",
       "      <td>-0.020476</td>\n",
       "      <td>0.045753</td>\n",
       "      <td>-0.046498</td>\n",
       "      <td>-0.005578</td>\n",
       "      <td>0.000609</td>\n",
       "      <td>0.021809</td>\n",
       "      <td>0.005924</td>\n",
       "      <td>0.451201</td>\n",
       "    </tr>\n",
       "    <tr>\n",
       "      <th>atemp</th>\n",
       "      <td>-0.002730</td>\n",
       "      <td>0.036195</td>\n",
       "      <td>0.046271</td>\n",
       "      <td>0.992281</td>\n",
       "      <td>1.000000</td>\n",
       "      <td>-0.025471</td>\n",
       "      <td>-0.037640</td>\n",
       "      <td>0.448814</td>\n",
       "      <td>0.599710</td>\n",
       "      <td>-0.608334</td>\n",
       "      <td>...</td>\n",
       "      <td>-0.040161</td>\n",
       "      <td>-0.018535</td>\n",
       "      <td>-0.022221</td>\n",
       "      <td>0.047783</td>\n",
       "      <td>-0.045911</td>\n",
       "      <td>-0.000183</td>\n",
       "      <td>-0.009705</td>\n",
       "      <td>0.027358</td>\n",
       "      <td>0.004325</td>\n",
       "      <td>0.448814</td>\n",
       "    </tr>\n",
       "    <tr>\n",
       "      <th>hour_of_day_17</th>\n",
       "      <td>-0.000333</td>\n",
       "      <td>0.000816</td>\n",
       "      <td>-0.000614</td>\n",
       "      <td>0.059258</td>\n",
       "      <td>0.054897</td>\n",
       "      <td>-0.114612</td>\n",
       "      <td>0.077216</td>\n",
       "      <td>0.328488</td>\n",
       "      <td>-0.000905</td>\n",
       "      <td>0.003087</td>\n",
       "      <td>...</td>\n",
       "      <td>-0.043820</td>\n",
       "      <td>-0.043820</td>\n",
       "      <td>-0.000070</td>\n",
       "      <td>-0.000156</td>\n",
       "      <td>-0.000849</td>\n",
       "      <td>-0.000070</td>\n",
       "      <td>-0.000156</td>\n",
       "      <td>0.001253</td>\n",
       "      <td>0.000066</td>\n",
       "      <td>0.328488</td>\n",
       "    </tr>\n",
       "    <tr>\n",
       "      <th>season_Spring</th>\n",
       "      <td>-0.030680</td>\n",
       "      <td>0.005368</td>\n",
       "      <td>-0.000912</td>\n",
       "      <td>-0.598757</td>\n",
       "      <td>-0.608334</td>\n",
       "      <td>-0.229741</td>\n",
       "      <td>0.146693</td>\n",
       "      <td>-0.308264</td>\n",
       "      <td>-0.331286</td>\n",
       "      <td>1.000000</td>\n",
       "      <td>...</td>\n",
       "      <td>0.001492</td>\n",
       "      <td>0.001492</td>\n",
       "      <td>-0.010714</td>\n",
       "      <td>-0.029659</td>\n",
       "      <td>0.017318</td>\n",
       "      <td>-0.010714</td>\n",
       "      <td>-0.001418</td>\n",
       "      <td>0.008701</td>\n",
       "      <td>0.026230</td>\n",
       "      <td>0.308264</td>\n",
       "    </tr>\n",
       "    <tr>\n",
       "      <th>humidity</th>\n",
       "      <td>0.001535</td>\n",
       "      <td>-0.025747</td>\n",
       "      <td>-0.399264</td>\n",
       "      <td>-0.046221</td>\n",
       "      <td>-0.025471</td>\n",
       "      <td>1.000000</td>\n",
       "      <td>-0.294701</td>\n",
       "      <td>-0.283322</td>\n",
       "      <td>0.068677</td>\n",
       "      <td>-0.229741</td>\n",
       "      <td>...</td>\n",
       "      <td>0.068347</td>\n",
       "      <td>0.023480</td>\n",
       "      <td>-0.044705</td>\n",
       "      <td>-0.016975</td>\n",
       "      <td>-0.008283</td>\n",
       "      <td>0.041919</td>\n",
       "      <td>-0.104305</td>\n",
       "      <td>0.028507</td>\n",
       "      <td>0.104058</td>\n",
       "      <td>0.283322</td>\n",
       "    </tr>\n",
       "    <tr>\n",
       "      <th>hour_of_day_18</th>\n",
       "      <td>-0.000333</td>\n",
       "      <td>0.000816</td>\n",
       "      <td>0.003627</td>\n",
       "      <td>0.044428</td>\n",
       "      <td>0.041691</td>\n",
       "      <td>-0.092063</td>\n",
       "      <td>0.059463</td>\n",
       "      <td>0.278611</td>\n",
       "      <td>-0.000905</td>\n",
       "      <td>0.003087</td>\n",
       "      <td>...</td>\n",
       "      <td>-0.043820</td>\n",
       "      <td>-0.043820</td>\n",
       "      <td>-0.000070</td>\n",
       "      <td>-0.000156</td>\n",
       "      <td>-0.000849</td>\n",
       "      <td>-0.000070</td>\n",
       "      <td>-0.000156</td>\n",
       "      <td>0.001253</td>\n",
       "      <td>0.000066</td>\n",
       "      <td>0.278611</td>\n",
       "    </tr>\n",
       "    <tr>\n",
       "      <th>hour_of_day_4</th>\n",
       "      <td>0.001674</td>\n",
       "      <td>-0.007565</td>\n",
       "      <td>0.011670</td>\n",
       "      <td>-0.050597</td>\n",
       "      <td>-0.048129</td>\n",
       "      <td>0.122763</td>\n",
       "      <td>-0.051217</td>\n",
       "      <td>-0.211858</td>\n",
       "      <td>0.006147</td>\n",
       "      <td>-0.018191</td>\n",
       "      <td>...</td>\n",
       "      <td>-0.042505</td>\n",
       "      <td>-0.042505</td>\n",
       "      <td>-0.008444</td>\n",
       "      <td>0.002064</td>\n",
       "      <td>0.004265</td>\n",
       "      <td>0.004951</td>\n",
       "      <td>-0.000649</td>\n",
       "      <td>-0.001822</td>\n",
       "      <td>-0.000434</td>\n",
       "      <td>0.211858</td>\n",
       "    </tr>\n",
       "    <tr>\n",
       "      <th>hour_of_day_3</th>\n",
       "      <td>0.002315</td>\n",
       "      <td>-0.010242</td>\n",
       "      <td>0.013676</td>\n",
       "      <td>-0.042402</td>\n",
       "      <td>-0.039104</td>\n",
       "      <td>0.106704</td>\n",
       "      <td>-0.064230</td>\n",
       "      <td>-0.202269</td>\n",
       "      <td>0.006210</td>\n",
       "      <td>-0.018382</td>\n",
       "      <td>...</td>\n",
       "      <td>-0.042094</td>\n",
       "      <td>-0.042094</td>\n",
       "      <td>0.001149</td>\n",
       "      <td>-0.001859</td>\n",
       "      <td>0.005899</td>\n",
       "      <td>0.006555</td>\n",
       "      <td>-0.001859</td>\n",
       "      <td>-0.005734</td>\n",
       "      <td>-0.004387</td>\n",
       "      <td>0.202269</td>\n",
       "    </tr>\n",
       "    <tr>\n",
       "      <th>hour_of_day_5</th>\n",
       "      <td>0.000273</td>\n",
       "      <td>0.004220</td>\n",
       "      <td>0.005505</td>\n",
       "      <td>-0.068725</td>\n",
       "      <td>-0.066349</td>\n",
       "      <td>0.117262</td>\n",
       "      <td>-0.071143</td>\n",
       "      <td>-0.202057</td>\n",
       "      <td>0.001223</td>\n",
       "      <td>-0.003334</td>\n",
       "      <td>...</td>\n",
       "      <td>-0.043419</td>\n",
       "      <td>-0.043419</td>\n",
       "      <td>0.001445</td>\n",
       "      <td>0.001332</td>\n",
       "      <td>0.000694</td>\n",
       "      <td>-0.006436</td>\n",
       "      <td>0.001332</td>\n",
       "      <td>0.000122</td>\n",
       "      <td>0.001554</td>\n",
       "      <td>0.202057</td>\n",
       "    </tr>\n",
       "  </tbody>\n",
       "</table>\n",
       "<p>10 rows × 44 columns</p>\n",
       "</div>"
      ],
      "text/plain": [
       "                 holiday  workingday   weather      temp     atemp  humidity  \\\n",
       "count           0.010837   -0.003955  0.133236  0.451201  0.448814 -0.283322   \n",
       "temp            0.004226    0.038313  0.045251  1.000000  0.992281 -0.046221   \n",
       "atemp          -0.002730    0.036195  0.046271  0.992281  1.000000 -0.025471   \n",
       "hour_of_day_17 -0.000333    0.000816 -0.000614  0.059258  0.054897 -0.114612   \n",
       "season_Spring  -0.030680    0.005368 -0.000912 -0.598757 -0.608334 -0.229741   \n",
       "humidity        0.001535   -0.025747 -0.399264 -0.046221 -0.025471  1.000000   \n",
       "hour_of_day_18 -0.000333    0.000816  0.003627  0.044428  0.041691 -0.092063   \n",
       "hour_of_day_4   0.001674   -0.007565  0.011670 -0.050597 -0.048129  0.122763   \n",
       "hour_of_day_3   0.002315   -0.010242  0.013676 -0.042402 -0.039104  0.106704   \n",
       "hour_of_day_5   0.000273    0.004220  0.005505 -0.068725 -0.066349  0.117262   \n",
       "\n",
       "                windspeed     count  season_Fall  season_Spring    ...      \\\n",
       "count            0.083595  1.000000     0.186536      -0.308264    ...       \n",
       "temp             0.005380  0.451201     0.621443      -0.598757    ...       \n",
       "atemp           -0.037640  0.448814     0.599710      -0.608334    ...       \n",
       "hour_of_day_17   0.077216  0.328488    -0.000905       0.003087    ...       \n",
       "season_Spring    0.146693 -0.308264    -0.331286       1.000000    ...       \n",
       "humidity        -0.294701 -0.283322     0.068677      -0.229741    ...       \n",
       "hour_of_day_18   0.059463  0.278611    -0.000905       0.003087    ...       \n",
       "hour_of_day_4   -0.051217 -0.211858     0.006147      -0.018191    ...       \n",
       "hour_of_day_3   -0.064230 -0.202269     0.006210      -0.018382    ...       \n",
       "hour_of_day_5   -0.071143 -0.202057     0.001223      -0.003334    ...       \n",
       "\n",
       "                hour_of_day_8  hour_of_day_9  day_of_week_Friday  \\\n",
       "count                0.188122       0.031222            0.024082   \n",
       "temp                -0.041331      -0.016624           -0.020476   \n",
       "atemp               -0.040161      -0.018535           -0.022221   \n",
       "hour_of_day_17      -0.043820      -0.043820           -0.000070   \n",
       "season_Spring        0.001492       0.001492           -0.010714   \n",
       "humidity             0.068347       0.023480           -0.044705   \n",
       "hour_of_day_18      -0.043820      -0.043820           -0.000070   \n",
       "hour_of_day_4       -0.042505      -0.042505           -0.008444   \n",
       "hour_of_day_3       -0.042094      -0.042094            0.001149   \n",
       "hour_of_day_5       -0.043419      -0.043419            0.001445   \n",
       "\n",
       "                day_of_week_Monday  day_of_week_Saturday  day_of_week_Sunday  \\\n",
       "count                     0.024030             -0.001751            0.002084   \n",
       "temp                      0.045753             -0.046498           -0.005578   \n",
       "atemp                     0.047783             -0.045911           -0.000183   \n",
       "hour_of_day_17           -0.000156             -0.000849           -0.000070   \n",
       "season_Spring            -0.029659              0.017318           -0.010714   \n",
       "humidity                 -0.016975             -0.008283            0.041919   \n",
       "hour_of_day_18           -0.000156             -0.000849           -0.000070   \n",
       "hour_of_day_4             0.002064              0.004265            0.004951   \n",
       "hour_of_day_3            -0.001859              0.005899            0.006555   \n",
       "hour_of_day_5             0.001332              0.000694           -0.006436   \n",
       "\n",
       "                day_of_week_Thursday  day_of_week_Tuesday  \\\n",
       "count                      -0.005384             0.001942   \n",
       "temp                        0.000609             0.021809   \n",
       "atemp                      -0.009705             0.027358   \n",
       "hour_of_day_17             -0.000156             0.001253   \n",
       "season_Spring              -0.001418             0.008701   \n",
       "humidity                   -0.104305             0.028507   \n",
       "hour_of_day_18             -0.000156             0.001253   \n",
       "hour_of_day_4              -0.000649            -0.001822   \n",
       "hour_of_day_3              -0.001859            -0.005734   \n",
       "hour_of_day_5               0.001332             0.000122   \n",
       "\n",
       "                day_of_week_Wednesday  count_abs  \n",
       "count                       -0.045340   1.000000  \n",
       "temp                         0.005924   0.451201  \n",
       "atemp                        0.004325   0.448814  \n",
       "hour_of_day_17               0.000066   0.328488  \n",
       "season_Spring                0.026230   0.308264  \n",
       "humidity                     0.104058   0.283322  \n",
       "hour_of_day_18               0.000066   0.278611  \n",
       "hour_of_day_4               -0.000434   0.211858  \n",
       "hour_of_day_3               -0.004387   0.202269  \n",
       "hour_of_day_5                0.001554   0.202057  \n",
       "\n",
       "[10 rows x 44 columns]"
      ]
     },
     "execution_count": 558,
     "metadata": {},
     "output_type": "execute_result"
    }
   ],
   "source": [
    "corr = train.corr()\n",
    "corr['count_abs'] = abs(corr['count'])\n",
    "corr.sort_values(by='count_abs',ascending=False).head(10)\n",
    "#I originially chose highly correlated values (temp, atemp, hour_of_day_17, season_Spring, humidity, hour_of_day_18,hour_of_day_4,hour_of_day_3,hour_of_day_5 )\n",
    "# but my score was extremely low, so I reran with all values to increase score"
   ]
  },
  {
   "cell_type": "code",
   "execution_count": 559,
   "metadata": {},
   "outputs": [
    {
     "data": {
      "text/html": [
       "<div>\n",
       "<style scoped>\n",
       "    .dataframe tbody tr th:only-of-type {\n",
       "        vertical-align: middle;\n",
       "    }\n",
       "\n",
       "    .dataframe tbody tr th {\n",
       "        vertical-align: top;\n",
       "    }\n",
       "\n",
       "    .dataframe thead th {\n",
       "        text-align: right;\n",
       "    }\n",
       "</style>\n",
       "<table border=\"1\" class=\"dataframe\">\n",
       "  <thead>\n",
       "    <tr style=\"text-align: right;\">\n",
       "      <th></th>\n",
       "      <th>datetime</th>\n",
       "      <th>holiday</th>\n",
       "      <th>workingday</th>\n",
       "      <th>weather</th>\n",
       "      <th>temp</th>\n",
       "      <th>atemp</th>\n",
       "      <th>humidity</th>\n",
       "      <th>windspeed</th>\n",
       "      <th>count</th>\n",
       "      <th>season_Fall</th>\n",
       "      <th>...</th>\n",
       "      <th>hour_of_day_7</th>\n",
       "      <th>hour_of_day_8</th>\n",
       "      <th>hour_of_day_9</th>\n",
       "      <th>day_of_week_Friday</th>\n",
       "      <th>day_of_week_Monday</th>\n",
       "      <th>day_of_week_Saturday</th>\n",
       "      <th>day_of_week_Sunday</th>\n",
       "      <th>day_of_week_Thursday</th>\n",
       "      <th>day_of_week_Tuesday</th>\n",
       "      <th>day_of_week_Wednesday</th>\n",
       "    </tr>\n",
       "  </thead>\n",
       "  <tbody>\n",
       "    <tr>\n",
       "      <th>0</th>\n",
       "      <td>2011-01-01 00:00:00</td>\n",
       "      <td>0</td>\n",
       "      <td>0</td>\n",
       "      <td>3</td>\n",
       "      <td>9.84</td>\n",
       "      <td>14.395</td>\n",
       "      <td>81</td>\n",
       "      <td>0.0</td>\n",
       "      <td>16</td>\n",
       "      <td>0</td>\n",
       "      <td>...</td>\n",
       "      <td>0</td>\n",
       "      <td>0</td>\n",
       "      <td>0</td>\n",
       "      <td>0</td>\n",
       "      <td>0</td>\n",
       "      <td>1</td>\n",
       "      <td>0</td>\n",
       "      <td>0</td>\n",
       "      <td>0</td>\n",
       "      <td>0</td>\n",
       "    </tr>\n",
       "    <tr>\n",
       "      <th>1</th>\n",
       "      <td>2011-01-01 01:00:00</td>\n",
       "      <td>0</td>\n",
       "      <td>0</td>\n",
       "      <td>3</td>\n",
       "      <td>9.02</td>\n",
       "      <td>13.635</td>\n",
       "      <td>80</td>\n",
       "      <td>0.0</td>\n",
       "      <td>40</td>\n",
       "      <td>0</td>\n",
       "      <td>...</td>\n",
       "      <td>0</td>\n",
       "      <td>0</td>\n",
       "      <td>0</td>\n",
       "      <td>0</td>\n",
       "      <td>0</td>\n",
       "      <td>1</td>\n",
       "      <td>0</td>\n",
       "      <td>0</td>\n",
       "      <td>0</td>\n",
       "      <td>0</td>\n",
       "    </tr>\n",
       "    <tr>\n",
       "      <th>2</th>\n",
       "      <td>2011-01-01 02:00:00</td>\n",
       "      <td>0</td>\n",
       "      <td>0</td>\n",
       "      <td>3</td>\n",
       "      <td>9.02</td>\n",
       "      <td>13.635</td>\n",
       "      <td>80</td>\n",
       "      <td>0.0</td>\n",
       "      <td>32</td>\n",
       "      <td>0</td>\n",
       "      <td>...</td>\n",
       "      <td>0</td>\n",
       "      <td>0</td>\n",
       "      <td>0</td>\n",
       "      <td>0</td>\n",
       "      <td>0</td>\n",
       "      <td>1</td>\n",
       "      <td>0</td>\n",
       "      <td>0</td>\n",
       "      <td>0</td>\n",
       "      <td>0</td>\n",
       "    </tr>\n",
       "    <tr>\n",
       "      <th>3</th>\n",
       "      <td>2011-01-01 03:00:00</td>\n",
       "      <td>0</td>\n",
       "      <td>0</td>\n",
       "      <td>3</td>\n",
       "      <td>9.84</td>\n",
       "      <td>14.395</td>\n",
       "      <td>75</td>\n",
       "      <td>0.0</td>\n",
       "      <td>13</td>\n",
       "      <td>0</td>\n",
       "      <td>...</td>\n",
       "      <td>0</td>\n",
       "      <td>0</td>\n",
       "      <td>0</td>\n",
       "      <td>0</td>\n",
       "      <td>0</td>\n",
       "      <td>1</td>\n",
       "      <td>0</td>\n",
       "      <td>0</td>\n",
       "      <td>0</td>\n",
       "      <td>0</td>\n",
       "    </tr>\n",
       "    <tr>\n",
       "      <th>4</th>\n",
       "      <td>2011-01-01 04:00:00</td>\n",
       "      <td>0</td>\n",
       "      <td>0</td>\n",
       "      <td>3</td>\n",
       "      <td>9.84</td>\n",
       "      <td>14.395</td>\n",
       "      <td>75</td>\n",
       "      <td>0.0</td>\n",
       "      <td>1</td>\n",
       "      <td>0</td>\n",
       "      <td>...</td>\n",
       "      <td>0</td>\n",
       "      <td>0</td>\n",
       "      <td>0</td>\n",
       "      <td>0</td>\n",
       "      <td>0</td>\n",
       "      <td>1</td>\n",
       "      <td>0</td>\n",
       "      <td>0</td>\n",
       "      <td>0</td>\n",
       "      <td>0</td>\n",
       "    </tr>\n",
       "  </tbody>\n",
       "</table>\n",
       "<p>5 rows × 44 columns</p>\n",
       "</div>"
      ],
      "text/plain": [
       "             datetime  holiday  workingday  weather  temp   atemp  humidity  \\\n",
       "0 2011-01-01 00:00:00        0           0        3  9.84  14.395        81   \n",
       "1 2011-01-01 01:00:00        0           0        3  9.02  13.635        80   \n",
       "2 2011-01-01 02:00:00        0           0        3  9.02  13.635        80   \n",
       "3 2011-01-01 03:00:00        0           0        3  9.84  14.395        75   \n",
       "4 2011-01-01 04:00:00        0           0        3  9.84  14.395        75   \n",
       "\n",
       "   windspeed  count  season_Fall          ...            hour_of_day_7  \\\n",
       "0        0.0     16            0          ...                        0   \n",
       "1        0.0     40            0          ...                        0   \n",
       "2        0.0     32            0          ...                        0   \n",
       "3        0.0     13            0          ...                        0   \n",
       "4        0.0      1            0          ...                        0   \n",
       "\n",
       "   hour_of_day_8  hour_of_day_9  day_of_week_Friday  day_of_week_Monday  \\\n",
       "0              0              0                   0                   0   \n",
       "1              0              0                   0                   0   \n",
       "2              0              0                   0                   0   \n",
       "3              0              0                   0                   0   \n",
       "4              0              0                   0                   0   \n",
       "\n",
       "   day_of_week_Saturday  day_of_week_Sunday  day_of_week_Thursday  \\\n",
       "0                     1                   0                     0   \n",
       "1                     1                   0                     0   \n",
       "2                     1                   0                     0   \n",
       "3                     1                   0                     0   \n",
       "4                     1                   0                     0   \n",
       "\n",
       "   day_of_week_Tuesday  day_of_week_Wednesday  \n",
       "0                    0                      0  \n",
       "1                    0                      0  \n",
       "2                    0                      0  \n",
       "3                    0                      0  \n",
       "4                    0                      0  \n",
       "\n",
       "[5 rows x 44 columns]"
      ]
     },
     "execution_count": 559,
     "metadata": {},
     "output_type": "execute_result"
    }
   ],
   "source": [
    "train.head()"
   ]
  },
  {
   "cell_type": "code",
   "execution_count": 560,
   "metadata": {},
   "outputs": [],
   "source": [
    "y = np.log(train['count'])\n",
    "train.drop('count', axis=1, inplace=True)\n",
    "test.drop('count', axis=1, inplace=True)\n",
    "train.drop('datetime', axis=1, inplace=True)\n",
    "test.drop('datetime', axis=1, inplace=True)\n",
    "#train = train[['temp', 'atemp', 'hour_of_day_17', 'season_Spring', 'humidity', 'hour_of_day_18','hour_of_day_4','hour_of_day_3','hour_of_day_5' ]]\n",
    "#test = train[['temp', 'atemp', 'hour_of_day_17', 'season_Spring', 'humidity', 'hour_of_day_18','hour_of_day_4','hour_of_day_3','hour_of_day_5' ]]\n",
    "#^ removing narrowing down values to the highly correlated values due to low score"
   ]
  },
  {
   "cell_type": "code",
   "execution_count": 561,
   "metadata": {},
   "outputs": [],
   "source": [
    "#standardize data\n",
    "train_means = train.mean()\n",
    "train_stds  = train.std()"
   ]
  },
  {
   "cell_type": "code",
   "execution_count": 562,
   "metadata": {},
   "outputs": [],
   "source": [
    "train_std = train - train_means\n",
    "train_std /= train_stds"
   ]
  },
  {
   "cell_type": "code",
   "execution_count": 563,
   "metadata": {},
   "outputs": [],
   "source": [
    "test -= train_means\n",
    "test /= train_stds"
   ]
  },
  {
   "cell_type": "code",
   "execution_count": 564,
   "metadata": {},
   "outputs": [],
   "source": [
    "#create train and validation set :\n",
    "from sklearn.model_selection import train_test_split\n",
    "from sklearn.linear_model import LinearRegression\n",
    "\n",
    "X_train, X_val, y_train, y_val = train_test_split(train, y, random_state=2020)"
   ]
  },
  {
   "cell_type": "code",
   "execution_count": 565,
   "metadata": {},
   "outputs": [
    {
     "data": {
      "text/plain": [
       "LinearRegression(copy_X=True, fit_intercept=True, n_jobs=None,\n",
       "         normalize=False)"
      ]
     },
     "execution_count": 565,
     "metadata": {},
     "output_type": "execute_result"
    }
   ],
   "source": [
    "# run linear regression, fit on the training data and score on the validation data\n",
    "lreg = LinearRegression()\n",
    "lreg.fit(X_train, y_train)"
   ]
  },
  {
   "cell_type": "code",
   "execution_count": 566,
   "metadata": {},
   "outputs": [
    {
     "data": {
      "text/plain": [
       "0.8117679637770393"
      ]
     },
     "execution_count": 566,
     "metadata": {},
     "output_type": "execute_result"
    }
   ],
   "source": [
    "lreg.score(X_val, y_val)\n",
    "#linear regression score was only a 61.. will move on to ridge & lasso as \n",
    "# a strategy to increase score"
   ]
  },
  {
   "cell_type": "code",
   "execution_count": 567,
   "metadata": {},
   "outputs": [
    {
     "data": {
      "text/plain": [
       "array([4.88156891, 5.47251129, 1.62861633, ..., 4.83310699, 2.9625473 ,\n",
       "       4.61597443])"
      ]
     },
     "execution_count": 567,
     "metadata": {},
     "output_type": "execute_result"
    }
   ],
   "source": [
    "lreg.predict(X_train)"
   ]
  },
  {
   "cell_type": "code",
   "execution_count": 568,
   "metadata": {},
   "outputs": [
    {
     "data": {
      "text/html": [
       "<div>\n",
       "<style scoped>\n",
       "    .dataframe tbody tr th:only-of-type {\n",
       "        vertical-align: middle;\n",
       "    }\n",
       "\n",
       "    .dataframe tbody tr th {\n",
       "        vertical-align: top;\n",
       "    }\n",
       "\n",
       "    .dataframe thead th {\n",
       "        text-align: right;\n",
       "    }\n",
       "</style>\n",
       "<table border=\"1\" class=\"dataframe\">\n",
       "  <thead>\n",
       "    <tr style=\"text-align: right;\">\n",
       "      <th></th>\n",
       "      <th>datetime</th>\n",
       "      <th>season</th>\n",
       "      <th>holiday</th>\n",
       "      <th>workingday</th>\n",
       "      <th>weather</th>\n",
       "      <th>temp</th>\n",
       "      <th>atemp</th>\n",
       "      <th>humidity</th>\n",
       "      <th>windspeed</th>\n",
       "      <th>count</th>\n",
       "    </tr>\n",
       "  </thead>\n",
       "  <tbody>\n",
       "    <tr>\n",
       "      <th>0</th>\n",
       "      <td>2011-01-01 00:00:00</td>\n",
       "      <td>Spring</td>\n",
       "      <td>0</td>\n",
       "      <td>0</td>\n",
       "      <td>Clear Skies</td>\n",
       "      <td>9.84</td>\n",
       "      <td>14.395</td>\n",
       "      <td>81</td>\n",
       "      <td>0.0</td>\n",
       "      <td>16</td>\n",
       "    </tr>\n",
       "    <tr>\n",
       "      <th>1</th>\n",
       "      <td>2011-01-01 01:00:00</td>\n",
       "      <td>Spring</td>\n",
       "      <td>0</td>\n",
       "      <td>0</td>\n",
       "      <td>Clear Skies</td>\n",
       "      <td>9.02</td>\n",
       "      <td>13.635</td>\n",
       "      <td>80</td>\n",
       "      <td>0.0</td>\n",
       "      <td>40</td>\n",
       "    </tr>\n",
       "    <tr>\n",
       "      <th>2</th>\n",
       "      <td>2011-01-01 02:00:00</td>\n",
       "      <td>Spring</td>\n",
       "      <td>0</td>\n",
       "      <td>0</td>\n",
       "      <td>Clear Skies</td>\n",
       "      <td>9.02</td>\n",
       "      <td>13.635</td>\n",
       "      <td>80</td>\n",
       "      <td>0.0</td>\n",
       "      <td>32</td>\n",
       "    </tr>\n",
       "    <tr>\n",
       "      <th>3</th>\n",
       "      <td>2011-01-01 03:00:00</td>\n",
       "      <td>Spring</td>\n",
       "      <td>0</td>\n",
       "      <td>0</td>\n",
       "      <td>Clear Skies</td>\n",
       "      <td>9.84</td>\n",
       "      <td>14.395</td>\n",
       "      <td>75</td>\n",
       "      <td>0.0</td>\n",
       "      <td>13</td>\n",
       "    </tr>\n",
       "    <tr>\n",
       "      <th>4</th>\n",
       "      <td>2011-01-01 04:00:00</td>\n",
       "      <td>Spring</td>\n",
       "      <td>0</td>\n",
       "      <td>0</td>\n",
       "      <td>Clear Skies</td>\n",
       "      <td>9.84</td>\n",
       "      <td>14.395</td>\n",
       "      <td>75</td>\n",
       "      <td>0.0</td>\n",
       "      <td>1</td>\n",
       "    </tr>\n",
       "  </tbody>\n",
       "</table>\n",
       "</div>"
      ],
      "text/plain": [
       "              datetime  season  holiday  workingday      weather  temp  \\\n",
       "0  2011-01-01 00:00:00  Spring        0           0  Clear Skies  9.84   \n",
       "1  2011-01-01 01:00:00  Spring        0           0  Clear Skies  9.02   \n",
       "2  2011-01-01 02:00:00  Spring        0           0  Clear Skies  9.02   \n",
       "3  2011-01-01 03:00:00  Spring        0           0  Clear Skies  9.84   \n",
       "4  2011-01-01 04:00:00  Spring        0           0  Clear Skies  9.84   \n",
       "\n",
       "    atemp  humidity  windspeed  count  \n",
       "0  14.395        81        0.0     16  \n",
       "1  13.635        80        0.0     40  \n",
       "2  13.635        80        0.0     32  \n",
       "3  14.395        75        0.0     13  \n",
       "4  14.395        75        0.0      1  "
      ]
     },
     "execution_count": 568,
     "metadata": {},
     "output_type": "execute_result"
    }
   ],
   "source": [
    "\n",
    "train_predictions = train.copy()\n",
    "train_predictions['predictions'] = pd.DataFrame(prediction)\n",
    "train_predictions.head()\n",
    "df.iloc[:5443].head()\n",
    "\n",
    "\n"
   ]
  },
  {
   "cell_type": "code",
   "execution_count": 569,
   "metadata": {},
   "outputs": [],
   "source": [
    "from sklearn.model_selection import cross_val_score\n",
    "from sklearn.linear_model import LinearRegression\n",
    "lreg = LinearRegression()\n"
   ]
  },
  {
   "cell_type": "code",
   "execution_count": 570,
   "metadata": {},
   "outputs": [
    {
     "data": {
      "text/plain": [
       "array([0.79813805, 0.80953738, 0.78023513, 0.81415019, 0.77468127,\n",
       "       0.80917822, 0.82895044, 0.81580367, 0.83210302, 0.80636103])"
      ]
     },
     "execution_count": 570,
     "metadata": {},
     "output_type": "execute_result"
    }
   ],
   "source": [
    "scores = cross_val_score(estimator=lreg, X=X_train, y=y_train,cv=10) \n",
    "scores"
   ]
  },
  {
   "cell_type": "code",
   "execution_count": 571,
   "metadata": {},
   "outputs": [],
   "source": [
    "from sklearn.linear_model import Ridge, Lasso\n",
    "ridge = Ridge()\n",
    "lasso = Lasso()"
   ]
  },
  {
   "cell_type": "code",
   "execution_count": 572,
   "metadata": {},
   "outputs": [],
   "source": [
    "alphas = np.logspace(-3,3,7)\n",
    "X_train, X_test, y_train, y_test = train_test_split(train, y, test_size =0.2, random_state=2020)\n",
    "ridge_scores = []\n",
    "\n",
    "for alpha in alphas:\n",
    "    scores = cross_val_score(estimator=ridge.set_params(alpha=alpha),X=X_train,y=y_train,cv=10)\n",
    "    ridge_scores.append((np.mean(scores),np.std(scores),alpha))"
   ]
  },
  {
   "cell_type": "code",
   "execution_count": 573,
   "metadata": {},
   "outputs": [
    {
     "data": {
      "text/plain": [
       "(0.8077713848775028, 0.01778072811937441, 0.1)"
      ]
     },
     "execution_count": 573,
     "metadata": {},
     "output_type": "execute_result"
    }
   ],
   "source": [
    "max(ridge_scores)"
   ]
  },
  {
   "cell_type": "code",
   "execution_count": 574,
   "metadata": {},
   "outputs": [
    {
     "data": {
      "text/plain": [
       "Ridge(alpha=0.1, copy_X=True, fit_intercept=True, max_iter=None,\n",
       "   normalize=False, random_state=None, solver='auto', tol=0.001)"
      ]
     },
     "execution_count": 574,
     "metadata": {},
     "output_type": "execute_result"
    }
   ],
   "source": [
    "ridge.set_params(alpha=0.1)\n",
    "ridge.fit(X_train, y_train)"
   ]
  },
  {
   "cell_type": "code",
   "execution_count": 575,
   "metadata": {},
   "outputs": [
    {
     "data": {
      "text/plain": [
       "0.8094652736667345"
      ]
     },
     "execution_count": 575,
     "metadata": {},
     "output_type": "execute_result"
    }
   ],
   "source": [
    "ridge.score(X_test, y_test)"
   ]
  },
  {
   "cell_type": "code",
   "execution_count": 576,
   "metadata": {},
   "outputs": [],
   "source": [
    "# now doing lasso"
   ]
  },
  {
   "cell_type": "code",
   "execution_count": 577,
   "metadata": {},
   "outputs": [
    {
     "data": {
      "text/plain": [
       "{'alpha': 1.0,\n",
       " 'copy_X': True,\n",
       " 'fit_intercept': True,\n",
       " 'max_iter': 1000,\n",
       " 'normalize': False,\n",
       " 'positive': False,\n",
       " 'precompute': False,\n",
       " 'random_state': None,\n",
       " 'selection': 'cyclic',\n",
       " 'tol': 0.0001,\n",
       " 'warm_start': False}"
      ]
     },
     "execution_count": 577,
     "metadata": {},
     "output_type": "execute_result"
    }
   ],
   "source": [
    "lasso.get_params()"
   ]
  },
  {
   "cell_type": "code",
   "execution_count": 578,
   "metadata": {},
   "outputs": [],
   "source": [
    "alphas = np.logspace(-3,3,7)\n",
    "X_train, X_test, y_train, y_test = train_test_split(train, y, test_size =0.2, random_state=2020)\n",
    "lasso_scores = []\n",
    "\n",
    "for alpha in alphas:\n",
    "    scores = cross_val_score(estimator=lasso.set_params(alpha=alpha),X=X_train,y=y_train,cv=10)\n",
    "    lasso_scores.append((np.mean(scores),np.std(scores),alpha))"
   ]
  },
  {
   "cell_type": "code",
   "execution_count": 579,
   "metadata": {},
   "outputs": [
    {
     "data": {
      "text/plain": [
       "[(0.8074497848627598, 0.017218214165111937, 0.001),\n",
       " (0.7823156427776613, 0.015406501190223746, 0.01),\n",
       " (0.24678870765685637, 0.021246338131946256, 0.1),\n",
       " (0.23444815739626162, 0.01956357194958417, 1.0),\n",
       " (-0.003805011070616304, 0.006807217919471082, 10.0),\n",
       " (-0.003805011070616304, 0.006807217919471082, 100.0),\n",
       " (-0.003805011070616304, 0.006807217919471082, 1000.0)]"
      ]
     },
     "execution_count": 579,
     "metadata": {},
     "output_type": "execute_result"
    }
   ],
   "source": [
    "lasso_scores"
   ]
  },
  {
   "cell_type": "code",
   "execution_count": 580,
   "metadata": {},
   "outputs": [
    {
     "data": {
      "text/plain": [
       "(0.8074497848627598, 0.017218214165111937, 0.001)"
      ]
     },
     "execution_count": 580,
     "metadata": {},
     "output_type": "execute_result"
    }
   ],
   "source": [
    "max(lasso_scores)"
   ]
  },
  {
   "cell_type": "code",
   "execution_count": 581,
   "metadata": {},
   "outputs": [
    {
     "data": {
      "text/plain": [
       "Lasso(alpha=0.001, copy_X=True, fit_intercept=True, max_iter=1000,\n",
       "   normalize=False, positive=False, precompute=False, random_state=None,\n",
       "   selection='cyclic', tol=0.0001, warm_start=False)"
      ]
     },
     "execution_count": 581,
     "metadata": {},
     "output_type": "execute_result"
    }
   ],
   "source": [
    "lasso.set_params(alpha=0.001).fit(X_train, y_train)"
   ]
  },
  {
   "cell_type": "code",
   "execution_count": 582,
   "metadata": {},
   "outputs": [
    {
     "data": {
      "text/plain": [
       "0.8086947190772119"
      ]
     },
     "execution_count": 582,
     "metadata": {},
     "output_type": "execute_result"
    }
   ],
   "source": [
    "lasso.score(X_test, y_test)"
   ]
  },
  {
   "cell_type": "code",
   "execution_count": 583,
   "metadata": {},
   "outputs": [],
   "source": [
    "from sklearn.pipeline import make_pipeline\n",
    "ridge_pipe = make_pipeline(ridge)\n",
    "# only passing in ridge because i did sc,ore,ohe already manually. doing ridge\n",
    "# because ridge as very slightly better scores than lasso"
   ]
  },
  {
   "cell_type": "code",
   "execution_count": 584,
   "metadata": {},
   "outputs": [
    {
     "data": {
      "text/plain": [
       "Pipeline(memory=None,\n",
       "     steps=[('ridge', Ridge(alpha=0.1, copy_X=True, fit_intercept=True, max_iter=None,\n",
       "   normalize=False, random_state=None, solver='auto', tol=0.001))])"
      ]
     },
     "execution_count": 584,
     "metadata": {},
     "output_type": "execute_result"
    }
   ],
   "source": [
    "ridge_pipe.fit(train, y)"
   ]
  },
  {
   "cell_type": "code",
   "execution_count": 585,
   "metadata": {},
   "outputs": [
    {
     "data": {
      "text/plain": [
       "Ridge(alpha=0.1, copy_X=True, fit_intercept=True, max_iter=None,\n",
       "   normalize=False, random_state=None, solver='auto', tol=0.001)"
      ]
     },
     "execution_count": 585,
     "metadata": {},
     "output_type": "execute_result"
    }
   ],
   "source": [
    "ridge_pipe.steps[0][1].set_params(alpha=0.1)"
   ]
  },
  {
   "cell_type": "code",
   "execution_count": 586,
   "metadata": {},
   "outputs": [
    {
     "data": {
      "text/plain": [
       "array([4.20974077, 3.34361154, 1.34072301, ..., 5.75832782, 4.58672211,\n",
       "       2.57669917])"
      ]
     },
     "execution_count": 586,
     "metadata": {},
     "output_type": "execute_result"
    }
   ],
   "source": [
    "ridge_preds = np.exp(ridge_pipe.predict(test))\n",
    "preds = ridge_pipe.predict(test)\n",
    "preds"
   ]
  },
  {
   "cell_type": "code",
   "execution_count": 587,
   "metadata": {},
   "outputs": [
    {
     "data": {
      "text/html": [
       "<div>\n",
       "<style scoped>\n",
       "    .dataframe tbody tr th:only-of-type {\n",
       "        vertical-align: middle;\n",
       "    }\n",
       "\n",
       "    .dataframe tbody tr th {\n",
       "        vertical-align: top;\n",
       "    }\n",
       "\n",
       "    .dataframe thead th {\n",
       "        text-align: right;\n",
       "    }\n",
       "</style>\n",
       "<table border=\"1\" class=\"dataframe\">\n",
       "  <thead>\n",
       "    <tr style=\"text-align: right;\">\n",
       "      <th></th>\n",
       "      <th>holiday</th>\n",
       "      <th>workingday</th>\n",
       "      <th>weather</th>\n",
       "      <th>temp</th>\n",
       "      <th>atemp</th>\n",
       "      <th>humidity</th>\n",
       "      <th>windspeed</th>\n",
       "      <th>season_Fall</th>\n",
       "      <th>season_Spring</th>\n",
       "      <th>season_Summer</th>\n",
       "      <th>...</th>\n",
       "      <th>hour_of_day_8</th>\n",
       "      <th>hour_of_day_9</th>\n",
       "      <th>day_of_week_Friday</th>\n",
       "      <th>day_of_week_Monday</th>\n",
       "      <th>day_of_week_Saturday</th>\n",
       "      <th>day_of_week_Sunday</th>\n",
       "      <th>day_of_week_Thursday</th>\n",
       "      <th>day_of_week_Tuesday</th>\n",
       "      <th>day_of_week_Wednesday</th>\n",
       "      <th>predictions</th>\n",
       "    </tr>\n",
       "  </thead>\n",
       "  <tbody>\n",
       "    <tr>\n",
       "      <th>0</th>\n",
       "      <td>0</td>\n",
       "      <td>0</td>\n",
       "      <td>3</td>\n",
       "      <td>9.84</td>\n",
       "      <td>14.395</td>\n",
       "      <td>81</td>\n",
       "      <td>0.0</td>\n",
       "      <td>0</td>\n",
       "      <td>1</td>\n",
       "      <td>0</td>\n",
       "      <td>...</td>\n",
       "      <td>0</td>\n",
       "      <td>0</td>\n",
       "      <td>0</td>\n",
       "      <td>0</td>\n",
       "      <td>1</td>\n",
       "      <td>0</td>\n",
       "      <td>0</td>\n",
       "      <td>0</td>\n",
       "      <td>0</td>\n",
       "      <td>67.339081</td>\n",
       "    </tr>\n",
       "    <tr>\n",
       "      <th>1</th>\n",
       "      <td>0</td>\n",
       "      <td>0</td>\n",
       "      <td>3</td>\n",
       "      <td>9.02</td>\n",
       "      <td>13.635</td>\n",
       "      <td>80</td>\n",
       "      <td>0.0</td>\n",
       "      <td>0</td>\n",
       "      <td>1</td>\n",
       "      <td>0</td>\n",
       "      <td>...</td>\n",
       "      <td>0</td>\n",
       "      <td>0</td>\n",
       "      <td>0</td>\n",
       "      <td>0</td>\n",
       "      <td>1</td>\n",
       "      <td>0</td>\n",
       "      <td>0</td>\n",
       "      <td>0</td>\n",
       "      <td>0</td>\n",
       "      <td>28.321225</td>\n",
       "    </tr>\n",
       "    <tr>\n",
       "      <th>2</th>\n",
       "      <td>0</td>\n",
       "      <td>0</td>\n",
       "      <td>3</td>\n",
       "      <td>9.02</td>\n",
       "      <td>13.635</td>\n",
       "      <td>80</td>\n",
       "      <td>0.0</td>\n",
       "      <td>0</td>\n",
       "      <td>1</td>\n",
       "      <td>0</td>\n",
       "      <td>...</td>\n",
       "      <td>0</td>\n",
       "      <td>0</td>\n",
       "      <td>0</td>\n",
       "      <td>0</td>\n",
       "      <td>1</td>\n",
       "      <td>0</td>\n",
       "      <td>0</td>\n",
       "      <td>0</td>\n",
       "      <td>0</td>\n",
       "      <td>3.821806</td>\n",
       "    </tr>\n",
       "    <tr>\n",
       "      <th>3</th>\n",
       "      <td>0</td>\n",
       "      <td>0</td>\n",
       "      <td>3</td>\n",
       "      <td>9.84</td>\n",
       "      <td>14.395</td>\n",
       "      <td>75</td>\n",
       "      <td>0.0</td>\n",
       "      <td>0</td>\n",
       "      <td>1</td>\n",
       "      <td>0</td>\n",
       "      <td>...</td>\n",
       "      <td>0</td>\n",
       "      <td>0</td>\n",
       "      <td>0</td>\n",
       "      <td>0</td>\n",
       "      <td>1</td>\n",
       "      <td>0</td>\n",
       "      <td>0</td>\n",
       "      <td>0</td>\n",
       "      <td>0</td>\n",
       "      <td>0.216071</td>\n",
       "    </tr>\n",
       "    <tr>\n",
       "      <th>4</th>\n",
       "      <td>0</td>\n",
       "      <td>0</td>\n",
       "      <td>3</td>\n",
       "      <td>9.84</td>\n",
       "      <td>14.395</td>\n",
       "      <td>75</td>\n",
       "      <td>0.0</td>\n",
       "      <td>0</td>\n",
       "      <td>1</td>\n",
       "      <td>0</td>\n",
       "      <td>...</td>\n",
       "      <td>0</td>\n",
       "      <td>0</td>\n",
       "      <td>0</td>\n",
       "      <td>0</td>\n",
       "      <td>1</td>\n",
       "      <td>0</td>\n",
       "      <td>0</td>\n",
       "      <td>0</td>\n",
       "      <td>0</td>\n",
       "      <td>0.009293</td>\n",
       "    </tr>\n",
       "  </tbody>\n",
       "</table>\n",
       "<p>5 rows × 43 columns</p>\n",
       "</div>"
      ],
      "text/plain": [
       "   holiday  workingday  weather  temp   atemp  humidity  windspeed  \\\n",
       "0        0           0        3  9.84  14.395        81        0.0   \n",
       "1        0           0        3  9.02  13.635        80        0.0   \n",
       "2        0           0        3  9.02  13.635        80        0.0   \n",
       "3        0           0        3  9.84  14.395        75        0.0   \n",
       "4        0           0        3  9.84  14.395        75        0.0   \n",
       "\n",
       "   season_Fall  season_Spring  season_Summer     ...       hour_of_day_8  \\\n",
       "0            0              1              0     ...                   0   \n",
       "1            0              1              0     ...                   0   \n",
       "2            0              1              0     ...                   0   \n",
       "3            0              1              0     ...                   0   \n",
       "4            0              1              0     ...                   0   \n",
       "\n",
       "   hour_of_day_9  day_of_week_Friday  day_of_week_Monday  \\\n",
       "0              0                   0                   0   \n",
       "1              0                   0                   0   \n",
       "2              0                   0                   0   \n",
       "3              0                   0                   0   \n",
       "4              0                   0                   0   \n",
       "\n",
       "   day_of_week_Saturday  day_of_week_Sunday  day_of_week_Thursday  \\\n",
       "0                     1                   0                     0   \n",
       "1                     1                   0                     0   \n",
       "2                     1                   0                     0   \n",
       "3                     1                   0                     0   \n",
       "4                     1                   0                     0   \n",
       "\n",
       "   day_of_week_Tuesday  day_of_week_Wednesday  predictions  \n",
       "0                    0                      0    67.339081  \n",
       "1                    0                      0    28.321225  \n",
       "2                    0                      0     3.821806  \n",
       "3                    0                      0     0.216071  \n",
       "4                    0                      0     0.009293  \n",
       "\n",
       "[5 rows x 43 columns]"
      ]
     },
     "execution_count": 587,
     "metadata": {},
     "output_type": "execute_result"
    }
   ],
   "source": [
    "train['predictions'] = ridge_preds\n",
    "train.head()\n"
   ]
  },
  {
   "cell_type": "code",
   "execution_count": null,
   "metadata": {},
   "outputs": [],
   "source": []
  },
  {
   "cell_type": "code",
   "execution_count": null,
   "metadata": {},
   "outputs": [],
   "source": []
  }
 ],
 "metadata": {
  "kernelspec": {
   "display_name": "Python 3",
   "language": "python",
   "name": "python3"
  },
  "language_info": {
   "codemirror_mode": {
    "name": "ipython",
    "version": 3
   },
   "file_extension": ".py",
   "mimetype": "text/x-python",
   "name": "python",
   "nbconvert_exporter": "python",
   "pygments_lexer": "ipython3",
   "version": "3.7.1"
  }
 },
 "nbformat": 4,
 "nbformat_minor": 2
}
