{
 "cells": [
  {
   "cell_type": "markdown",
   "metadata": {},
   "source": [
    "### Homework 3:  Master Regression on the Ames Housing Dataset"
   ]
  },
  {
   "cell_type": "code",
   "execution_count": 1,
   "metadata": {},
   "outputs": [],
   "source": [
    "#replacing Ames Housing with Bikeshare data"
   ]
  },
  {
   "cell_type": "markdown",
   "metadata": {},
   "source": [
    "This homework is meant to be a more open ended, exploratory way for students to complete their assignment for Homework project #3. \n",
    "\n",
    "Instead of doing the pre-assigned tasks in the other projects given, you can use this homework as a chance to develop your own model using the Ames Housing dataset.  It's meant to be a way to continue to refine the techniques and methods discussed in Unit 3 and make them your own."
   ]
  },
  {
   "cell_type": "markdown",
   "metadata": {},
   "source": [
    "Your homework assignment will be to synthesize the lessons taught in Unit 3, and present a coherent walk through of how you approached the modeling process."
   ]
  },
  {
   "cell_type": "markdown",
   "metadata": {},
   "source": [
    "**What You Will Turn In:**\n",
    "\n",
    "A jupyter notebook with code and commentary that walks us through the following:\n",
    "\n",
    " - Exploratory Data Analysis on the original data\n",
    "   - What values are highly correlated?  \n",
    "   - Are there unusual values anywhere that might cause problems?  Are there values of the `SalePrice` column that are out of sync with what we might normally expect?\n",
    "   \n",
    " - How were missing values imputed? \n",
    " - What cross validation strategy did you use and why?\n",
    "   - How did you interpret their results?\n",
    " - Your choice of analytical technique and how you decided to cross validate its best parameters\n",
    " - The use of pipelines to streamline your data processing and ensure correct alignment between training and test sets\n",
    " - Strategies you used to try and improve your score (it's okay if they didn't work -- just show us what you tried to do and why)\n",
    " - What features ended up having important causal impact on the target variable?\n",
    "  \n",
    "The end result should be a coherent walk through of how you approached the problem and developed a coherent solution to evaluate your data.\n",
    "\n",
    "Some other notes: \n",
    "\n",
    " - You can use the original dataset that was used in Unit 3's labs if you feel like sticking with this will help you retain the most important insights of the class.  \n",
    " - You also have the option of using the full dataset (provided in the data section) and/or portions of it.\n",
    "  - For example:  setting up the pipeline framework we created in class and then using that to incrementally bring in new columns, experiment with different ways of encoding them and then updating your pipeline is a useful way to extend the classes main teachings.  You could also just try and work with the whole thing if you're feeling courageous.\n",
    " - Making kaggle submissions to demonstrate whether or not your changes resulted in actual improvements is great, but not required if you struggle with the Kaggle UI.\n",
    " - If you feel more comfortable, you can walk through this **same process** using the `bikeshare` dataset as well if you think that's more useful for you."
   ]
  },
  {
   "cell_type": "code",
   "execution_count": 146,
   "metadata": {},
   "outputs": [],
   "source": [
    "import pandas as pd\n",
    "import numpy as np\n",
    "import seaborn as sns\n",
    "\n",
    "df = pd.read_csv('/Users/AgeoRuin/GA-DAT-Repo/GA-DAT_MyRepo/Lectures/Unit3/data/bikeshare.csv',index_col='datetime', parse_dates=True)\n",
    "#imported the bike share data and indexed the datatime colum in order to organize from year beginning to year end"
   ]
  },
  {
   "cell_type": "code",
   "execution_count": 147,
   "metadata": {},
   "outputs": [
    {
     "data": {
      "text/html": [
       "<div>\n",
       "<style scoped>\n",
       "    .dataframe tbody tr th:only-of-type {\n",
       "        vertical-align: middle;\n",
       "    }\n",
       "\n",
       "    .dataframe tbody tr th {\n",
       "        vertical-align: top;\n",
       "    }\n",
       "\n",
       "    .dataframe thead th {\n",
       "        text-align: right;\n",
       "    }\n",
       "</style>\n",
       "<table border=\"1\" class=\"dataframe\">\n",
       "  <thead>\n",
       "    <tr style=\"text-align: right;\">\n",
       "      <th></th>\n",
       "      <th>season</th>\n",
       "      <th>holiday</th>\n",
       "      <th>workingday</th>\n",
       "      <th>weather</th>\n",
       "      <th>temp</th>\n",
       "      <th>atemp</th>\n",
       "      <th>humidity</th>\n",
       "      <th>windspeed</th>\n",
       "      <th>count</th>\n",
       "    </tr>\n",
       "    <tr>\n",
       "      <th>datetime</th>\n",
       "      <th></th>\n",
       "      <th></th>\n",
       "      <th></th>\n",
       "      <th></th>\n",
       "      <th></th>\n",
       "      <th></th>\n",
       "      <th></th>\n",
       "      <th></th>\n",
       "      <th></th>\n",
       "    </tr>\n",
       "  </thead>\n",
       "  <tbody>\n",
       "    <tr>\n",
       "      <td>2011-01-01 00:00:00</td>\n",
       "      <td>Spring</td>\n",
       "      <td>0</td>\n",
       "      <td>0</td>\n",
       "      <td>Clear Skies</td>\n",
       "      <td>9.84</td>\n",
       "      <td>14.395</td>\n",
       "      <td>81</td>\n",
       "      <td>0.0</td>\n",
       "      <td>16</td>\n",
       "    </tr>\n",
       "    <tr>\n",
       "      <td>2011-01-01 01:00:00</td>\n",
       "      <td>Spring</td>\n",
       "      <td>0</td>\n",
       "      <td>0</td>\n",
       "      <td>Clear Skies</td>\n",
       "      <td>9.02</td>\n",
       "      <td>13.635</td>\n",
       "      <td>80</td>\n",
       "      <td>0.0</td>\n",
       "      <td>40</td>\n",
       "    </tr>\n",
       "    <tr>\n",
       "      <td>2011-01-01 02:00:00</td>\n",
       "      <td>Spring</td>\n",
       "      <td>0</td>\n",
       "      <td>0</td>\n",
       "      <td>Clear Skies</td>\n",
       "      <td>9.02</td>\n",
       "      <td>13.635</td>\n",
       "      <td>80</td>\n",
       "      <td>0.0</td>\n",
       "      <td>32</td>\n",
       "    </tr>\n",
       "    <tr>\n",
       "      <td>2011-01-01 03:00:00</td>\n",
       "      <td>Spring</td>\n",
       "      <td>0</td>\n",
       "      <td>0</td>\n",
       "      <td>Clear Skies</td>\n",
       "      <td>9.84</td>\n",
       "      <td>14.395</td>\n",
       "      <td>75</td>\n",
       "      <td>0.0</td>\n",
       "      <td>13</td>\n",
       "    </tr>\n",
       "    <tr>\n",
       "      <td>2011-01-01 04:00:00</td>\n",
       "      <td>Spring</td>\n",
       "      <td>0</td>\n",
       "      <td>0</td>\n",
       "      <td>Clear Skies</td>\n",
       "      <td>9.84</td>\n",
       "      <td>14.395</td>\n",
       "      <td>75</td>\n",
       "      <td>0.0</td>\n",
       "      <td>1</td>\n",
       "    </tr>\n",
       "  </tbody>\n",
       "</table>\n",
       "</div>"
      ],
      "text/plain": [
       "                     season  holiday  workingday      weather  temp   atemp  \\\n",
       "datetime                                                                      \n",
       "2011-01-01 00:00:00  Spring        0           0  Clear Skies  9.84  14.395   \n",
       "2011-01-01 01:00:00  Spring        0           0  Clear Skies  9.02  13.635   \n",
       "2011-01-01 02:00:00  Spring        0           0  Clear Skies  9.02  13.635   \n",
       "2011-01-01 03:00:00  Spring        0           0  Clear Skies  9.84  14.395   \n",
       "2011-01-01 04:00:00  Spring        0           0  Clear Skies  9.84  14.395   \n",
       "\n",
       "                     humidity  windspeed  count  \n",
       "datetime                                         \n",
       "2011-01-01 00:00:00        81        0.0     16  \n",
       "2011-01-01 01:00:00        80        0.0     40  \n",
       "2011-01-01 02:00:00        80        0.0     32  \n",
       "2011-01-01 03:00:00        75        0.0     13  \n",
       "2011-01-01 04:00:00        75        0.0      1  "
      ]
     },
     "execution_count": 147,
     "metadata": {},
     "output_type": "execute_result"
    }
   ],
   "source": [
    "df.head()"
   ]
  },
  {
   "cell_type": "code",
   "execution_count": 148,
   "metadata": {},
   "outputs": [
    {
     "data": {
      "text/html": [
       "<div>\n",
       "<style scoped>\n",
       "    .dataframe tbody tr th:only-of-type {\n",
       "        vertical-align: middle;\n",
       "    }\n",
       "\n",
       "    .dataframe tbody tr th {\n",
       "        vertical-align: top;\n",
       "    }\n",
       "\n",
       "    .dataframe thead th {\n",
       "        text-align: right;\n",
       "    }\n",
       "</style>\n",
       "<table border=\"1\" class=\"dataframe\">\n",
       "  <thead>\n",
       "    <tr style=\"text-align: right;\">\n",
       "      <th></th>\n",
       "      <th>season</th>\n",
       "      <th>weather</th>\n",
       "    </tr>\n",
       "    <tr>\n",
       "      <th>datetime</th>\n",
       "      <th></th>\n",
       "      <th></th>\n",
       "    </tr>\n",
       "  </thead>\n",
       "  <tbody>\n",
       "    <tr>\n",
       "      <td>2011-01-01 00:00:00</td>\n",
       "      <td>Spring</td>\n",
       "      <td>Clear Skies</td>\n",
       "    </tr>\n",
       "    <tr>\n",
       "      <td>2011-01-01 01:00:00</td>\n",
       "      <td>Spring</td>\n",
       "      <td>Clear Skies</td>\n",
       "    </tr>\n",
       "    <tr>\n",
       "      <td>2011-01-01 02:00:00</td>\n",
       "      <td>Spring</td>\n",
       "      <td>Clear Skies</td>\n",
       "    </tr>\n",
       "    <tr>\n",
       "      <td>2011-01-01 03:00:00</td>\n",
       "      <td>Spring</td>\n",
       "      <td>Clear Skies</td>\n",
       "    </tr>\n",
       "    <tr>\n",
       "      <td>2011-01-01 04:00:00</td>\n",
       "      <td>Spring</td>\n",
       "      <td>Clear Skies</td>\n",
       "    </tr>\n",
       "    <tr>\n",
       "      <td>...</td>\n",
       "      <td>...</td>\n",
       "      <td>...</td>\n",
       "    </tr>\n",
       "    <tr>\n",
       "      <td>2012-12-19 19:00:00</td>\n",
       "      <td>Winter</td>\n",
       "      <td>Clear Skies</td>\n",
       "    </tr>\n",
       "    <tr>\n",
       "      <td>2012-12-19 20:00:00</td>\n",
       "      <td>Winter</td>\n",
       "      <td>Clear Skies</td>\n",
       "    </tr>\n",
       "    <tr>\n",
       "      <td>2012-12-19 21:00:00</td>\n",
       "      <td>Winter</td>\n",
       "      <td>Clear Skies</td>\n",
       "    </tr>\n",
       "    <tr>\n",
       "      <td>2012-12-19 22:00:00</td>\n",
       "      <td>Winter</td>\n",
       "      <td>Clear Skies</td>\n",
       "    </tr>\n",
       "    <tr>\n",
       "      <td>2012-12-19 23:00:00</td>\n",
       "      <td>Winter</td>\n",
       "      <td>Clear Skies</td>\n",
       "    </tr>\n",
       "  </tbody>\n",
       "</table>\n",
       "<p>10886 rows × 2 columns</p>\n",
       "</div>"
      ],
      "text/plain": [
       "                     season      weather\n",
       "datetime                                \n",
       "2011-01-01 00:00:00  Spring  Clear Skies\n",
       "2011-01-01 01:00:00  Spring  Clear Skies\n",
       "2011-01-01 02:00:00  Spring  Clear Skies\n",
       "2011-01-01 03:00:00  Spring  Clear Skies\n",
       "2011-01-01 04:00:00  Spring  Clear Skies\n",
       "...                     ...          ...\n",
       "2012-12-19 19:00:00  Winter  Clear Skies\n",
       "2012-12-19 20:00:00  Winter  Clear Skies\n",
       "2012-12-19 21:00:00  Winter  Clear Skies\n",
       "2012-12-19 22:00:00  Winter  Clear Skies\n",
       "2012-12-19 23:00:00  Winter  Clear Skies\n",
       "\n",
       "[10886 rows x 2 columns]"
      ]
     },
     "execution_count": 148,
     "metadata": {},
     "output_type": "execute_result"
    }
   ],
   "source": [
    "#first identifying the categorical columns within the data set to determine if the may be encoded ordinally or nominally \n",
    "# In doing so Seasons and Weather are the categorical columns identified \n",
    "\n",
    "df.select_dtypes(include=np.object)"
   ]
  },
  {
   "cell_type": "code",
   "execution_count": 149,
   "metadata": {},
   "outputs": [
    {
     "data": {
      "text/plain": [
       "array(['Spring', 'Summer', 'Fall', 'Winter'], dtype=object)"
      ]
     },
     "execution_count": 149,
     "metadata": {},
     "output_type": "execute_result"
    }
   ],
   "source": [
    "#potentially could be modified but would be challening to rank\n",
    "df.season.unique()"
   ]
  },
  {
   "cell_type": "code",
   "execution_count": 150,
   "metadata": {},
   "outputs": [
    {
     "data": {
      "text/plain": [
       "array(['Clear Skies', 'Partly Cloudy', 'Light Storms/Rain',\n",
       "       'Heavy Storms/Rain'], dtype=object)"
      ]
     },
     "execution_count": 150,
     "metadata": {},
     "output_type": "execute_result"
    }
   ],
   "source": [
    "# Weather is the column that can ammended ordinally -- as riding a bike in clear skies vs heavy rain is a natural ranking\n",
    "df.weather.unique()"
   ]
  },
  {
   "cell_type": "code",
   "execution_count": 151,
   "metadata": {},
   "outputs": [],
   "source": [
    "# amending the weather category to rank the values accordingly \n",
    "weather_type = df.weather.unique().tolist()\n",
    "df.weather.replace(['Heavy Storms/Rain', 'Light Storms/Rain', 'Partly Cloudy', 'Clear Skies'], [1, 2, 3, 4], inplace=True)"
   ]
  },
  {
   "cell_type": "code",
   "execution_count": 152,
   "metadata": {},
   "outputs": [],
   "source": [
    "#one hot encoding the seasons in order to create 0 or 1 values in the respective columns\n",
    "\n",
    "df = pd.get_dummies(df)"
   ]
  },
  {
   "cell_type": "code",
   "execution_count": 153,
   "metadata": {},
   "outputs": [
    {
     "data": {
      "text/html": [
       "<div>\n",
       "<style scoped>\n",
       "    .dataframe tbody tr th:only-of-type {\n",
       "        vertical-align: middle;\n",
       "    }\n",
       "\n",
       "    .dataframe tbody tr th {\n",
       "        vertical-align: top;\n",
       "    }\n",
       "\n",
       "    .dataframe thead th {\n",
       "        text-align: right;\n",
       "    }\n",
       "</style>\n",
       "<table border=\"1\" class=\"dataframe\">\n",
       "  <thead>\n",
       "    <tr style=\"text-align: right;\">\n",
       "      <th></th>\n",
       "      <th>holiday</th>\n",
       "      <th>workingday</th>\n",
       "      <th>weather</th>\n",
       "      <th>temp</th>\n",
       "      <th>atemp</th>\n",
       "      <th>humidity</th>\n",
       "      <th>windspeed</th>\n",
       "      <th>count</th>\n",
       "      <th>season_Fall</th>\n",
       "      <th>season_Spring</th>\n",
       "      <th>season_Summer</th>\n",
       "      <th>season_Winter</th>\n",
       "    </tr>\n",
       "    <tr>\n",
       "      <th>datetime</th>\n",
       "      <th></th>\n",
       "      <th></th>\n",
       "      <th></th>\n",
       "      <th></th>\n",
       "      <th></th>\n",
       "      <th></th>\n",
       "      <th></th>\n",
       "      <th></th>\n",
       "      <th></th>\n",
       "      <th></th>\n",
       "      <th></th>\n",
       "      <th></th>\n",
       "    </tr>\n",
       "  </thead>\n",
       "  <tbody>\n",
       "    <tr>\n",
       "      <td>2011-01-01 00:00:00</td>\n",
       "      <td>0</td>\n",
       "      <td>0</td>\n",
       "      <td>4</td>\n",
       "      <td>9.84</td>\n",
       "      <td>14.395</td>\n",
       "      <td>81</td>\n",
       "      <td>0.0</td>\n",
       "      <td>16</td>\n",
       "      <td>0</td>\n",
       "      <td>1</td>\n",
       "      <td>0</td>\n",
       "      <td>0</td>\n",
       "    </tr>\n",
       "    <tr>\n",
       "      <td>2011-01-01 01:00:00</td>\n",
       "      <td>0</td>\n",
       "      <td>0</td>\n",
       "      <td>4</td>\n",
       "      <td>9.02</td>\n",
       "      <td>13.635</td>\n",
       "      <td>80</td>\n",
       "      <td>0.0</td>\n",
       "      <td>40</td>\n",
       "      <td>0</td>\n",
       "      <td>1</td>\n",
       "      <td>0</td>\n",
       "      <td>0</td>\n",
       "    </tr>\n",
       "    <tr>\n",
       "      <td>2011-01-01 02:00:00</td>\n",
       "      <td>0</td>\n",
       "      <td>0</td>\n",
       "      <td>4</td>\n",
       "      <td>9.02</td>\n",
       "      <td>13.635</td>\n",
       "      <td>80</td>\n",
       "      <td>0.0</td>\n",
       "      <td>32</td>\n",
       "      <td>0</td>\n",
       "      <td>1</td>\n",
       "      <td>0</td>\n",
       "      <td>0</td>\n",
       "    </tr>\n",
       "    <tr>\n",
       "      <td>2011-01-01 03:00:00</td>\n",
       "      <td>0</td>\n",
       "      <td>0</td>\n",
       "      <td>4</td>\n",
       "      <td>9.84</td>\n",
       "      <td>14.395</td>\n",
       "      <td>75</td>\n",
       "      <td>0.0</td>\n",
       "      <td>13</td>\n",
       "      <td>0</td>\n",
       "      <td>1</td>\n",
       "      <td>0</td>\n",
       "      <td>0</td>\n",
       "    </tr>\n",
       "    <tr>\n",
       "      <td>2011-01-01 04:00:00</td>\n",
       "      <td>0</td>\n",
       "      <td>0</td>\n",
       "      <td>4</td>\n",
       "      <td>9.84</td>\n",
       "      <td>14.395</td>\n",
       "      <td>75</td>\n",
       "      <td>0.0</td>\n",
       "      <td>1</td>\n",
       "      <td>0</td>\n",
       "      <td>1</td>\n",
       "      <td>0</td>\n",
       "      <td>0</td>\n",
       "    </tr>\n",
       "  </tbody>\n",
       "</table>\n",
       "</div>"
      ],
      "text/plain": [
       "                     holiday  workingday  weather  temp   atemp  humidity  \\\n",
       "datetime                                                                    \n",
       "2011-01-01 00:00:00        0           0        4  9.84  14.395        81   \n",
       "2011-01-01 01:00:00        0           0        4  9.02  13.635        80   \n",
       "2011-01-01 02:00:00        0           0        4  9.02  13.635        80   \n",
       "2011-01-01 03:00:00        0           0        4  9.84  14.395        75   \n",
       "2011-01-01 04:00:00        0           0        4  9.84  14.395        75   \n",
       "\n",
       "                     windspeed  count  season_Fall  season_Spring  \\\n",
       "datetime                                                            \n",
       "2011-01-01 00:00:00        0.0     16            0              1   \n",
       "2011-01-01 01:00:00        0.0     40            0              1   \n",
       "2011-01-01 02:00:00        0.0     32            0              1   \n",
       "2011-01-01 03:00:00        0.0     13            0              1   \n",
       "2011-01-01 04:00:00        0.0      1            0              1   \n",
       "\n",
       "                     season_Summer  season_Winter  \n",
       "datetime                                           \n",
       "2011-01-01 00:00:00              0              0  \n",
       "2011-01-01 01:00:00              0              0  \n",
       "2011-01-01 02:00:00              0              0  \n",
       "2011-01-01 03:00:00              0              0  \n",
       "2011-01-01 04:00:00              0              0  "
      ]
     },
     "execution_count": 153,
     "metadata": {},
     "output_type": "execute_result"
    }
   ],
   "source": [
    "#verifying that additional columns were created via the one hot encoding method\n",
    "df.head()"
   ]
  },
  {
   "cell_type": "code",
   "execution_count": 154,
   "metadata": {},
   "outputs": [
    {
     "data": {
      "text/plain": [
       "holiday          0\n",
       "workingday       0\n",
       "weather          0\n",
       "temp             0\n",
       "atemp            0\n",
       "humidity         0\n",
       "windspeed        0\n",
       "count            0\n",
       "season_Fall      0\n",
       "season_Spring    0\n",
       "season_Summer    0\n",
       "season_Winter    0\n",
       "dtype: int64"
      ]
     },
     "execution_count": 154,
     "metadata": {},
     "output_type": "execute_result"
    }
   ],
   "source": [
    "#now verifying that there is no missing values in the dataset\n",
    "df.isnull().sum()"
   ]
  },
  {
   "cell_type": "code",
   "execution_count": 155,
   "metadata": {},
   "outputs": [
    {
     "data": {
      "image/png": "[encoded data removed]",
      "text/plain": [
       "<Figure size 432x288 with 12 Axes>"
      ]
     },
     "metadata": {
      "needs_background": "light"
     },
     "output_type": "display_data"
    }
   ],
   "source": [
    "#from matplotlib import pyplot\n",
    "#series = read_csv('daily-minimum-temperatures-in-me.csv', header=0, index_col=0)\n",
    "#series.hist()\n",
    "#pyplot.show()\n",
    "\n",
    "from matplotlib import pyplot\n",
    "df.hist()\n",
    "pyplot.show()"
   ]
  },
  {
   "cell_type": "code",
   "execution_count": 156,
   "metadata": {},
   "outputs": [
    {
     "data": {
      "text/plain": [
       "temp             0.394454\n",
       "atemp            0.389784\n",
       "humidity         0.317371\n",
       "season_Spring    0.237704\n",
       "season_Fall      0.136942\n",
       "weather          0.128655\n",
       "windspeed        0.101369\n",
       "season_Summer    0.075681\n",
       "season_Winter    0.023704\n",
       "workingday       0.011594\n",
       "holiday          0.005393\n",
       "Name: count, dtype: float64"
      ]
     },
     "execution_count": 156,
     "metadata": {},
     "output_type": "execute_result"
    }
   ],
   "source": [
    "#examining the columns with the highest correlations to bike count\n",
    "np.abs(df.corr()['count']).sort_values(ascending=False)[1:12]"
   ]
  },
  {
   "cell_type": "code",
   "execution_count": 157,
   "metadata": {},
   "outputs": [],
   "source": [
    "#going to examine the correlation in order of magnitude \n",
    "\n",
    "X = df[['temp', 'atemp', 'humidity', 'season_Spring', 'season_Fall', 'weather', 'windspeed', 'season_Summer', 'season_Winter', 'workingday', 'holiday']]\n",
    "y = df['count']\n"
   ]
  },
  {
   "cell_type": "code",
   "execution_count": 158,
   "metadata": {},
   "outputs": [
    {
     "data": {
      "text/plain": [
       "LinearRegression(copy_X=True, fit_intercept=True, n_jobs=None, normalize=False)"
      ]
     },
     "execution_count": 158,
     "metadata": {},
     "output_type": "execute_result"
    }
   ],
   "source": [
    "from sklearn.linear_model import LinearRegression\n",
    "lreg = LinearRegression()\n",
    "\n",
    "lreg.fit(X, y)"
   ]
  },
  {
   "cell_type": "code",
   "execution_count": 159,
   "metadata": {},
   "outputs": [
    {
     "data": {
      "text/plain": [
       "array([  7.96221536,   2.90896113,  -2.8193085 ,  -6.16163525,\n",
       "       -43.93235134,  -2.65169394,   0.5413689 ,  -8.95286505,\n",
       "        59.04685163,  -2.86154948,  -8.63047234])"
      ]
     },
     "execution_count": 159,
     "metadata": {},
     "output_type": "execute_result"
    }
   ],
   "source": [
    "lreg.coef_"
   ]
  },
  {
   "cell_type": "code",
   "execution_count": 160,
   "metadata": {},
   "outputs": [
    {
     "data": {
      "text/plain": [
       "140.8879022454985"
      ]
     },
     "execution_count": 160,
     "metadata": {},
     "output_type": "execute_result"
    }
   ],
   "source": [
    "lreg.intercept_"
   ]
  },
  {
   "cell_type": "code",
   "execution_count": 161,
   "metadata": {},
   "outputs": [
    {
     "data": {
      "text/html": [
       "<div>\n",
       "<style scoped>\n",
       "    .dataframe tbody tr th:only-of-type {\n",
       "        vertical-align: middle;\n",
       "    }\n",
       "\n",
       "    .dataframe tbody tr th {\n",
       "        vertical-align: top;\n",
       "    }\n",
       "\n",
       "    .dataframe thead th {\n",
       "        text-align: right;\n",
       "    }\n",
       "</style>\n",
       "<table border=\"1\" class=\"dataframe\">\n",
       "  <thead>\n",
       "    <tr style=\"text-align: right;\">\n",
       "      <th></th>\n",
       "      <th>Column</th>\n",
       "      <th>Weight</th>\n",
       "    </tr>\n",
       "  </thead>\n",
       "  <tbody>\n",
       "    <tr>\n",
       "      <td>8</td>\n",
       "      <td>season_Winter</td>\n",
       "      <td>59.046852</td>\n",
       "    </tr>\n",
       "    <tr>\n",
       "      <td>0</td>\n",
       "      <td>temp</td>\n",
       "      <td>7.962215</td>\n",
       "    </tr>\n",
       "    <tr>\n",
       "      <td>1</td>\n",
       "      <td>atemp</td>\n",
       "      <td>2.908961</td>\n",
       "    </tr>\n",
       "    <tr>\n",
       "      <td>6</td>\n",
       "      <td>windspeed</td>\n",
       "      <td>0.541369</td>\n",
       "    </tr>\n",
       "    <tr>\n",
       "      <td>5</td>\n",
       "      <td>weather</td>\n",
       "      <td>-2.651694</td>\n",
       "    </tr>\n",
       "    <tr>\n",
       "      <td>2</td>\n",
       "      <td>humidity</td>\n",
       "      <td>-2.819308</td>\n",
       "    </tr>\n",
       "    <tr>\n",
       "      <td>9</td>\n",
       "      <td>workingday</td>\n",
       "      <td>-2.861549</td>\n",
       "    </tr>\n",
       "    <tr>\n",
       "      <td>3</td>\n",
       "      <td>season_Spring</td>\n",
       "      <td>-6.161635</td>\n",
       "    </tr>\n",
       "    <tr>\n",
       "      <td>10</td>\n",
       "      <td>holiday</td>\n",
       "      <td>-8.630472</td>\n",
       "    </tr>\n",
       "    <tr>\n",
       "      <td>7</td>\n",
       "      <td>season_Summer</td>\n",
       "      <td>-8.952865</td>\n",
       "    </tr>\n",
       "    <tr>\n",
       "      <td>4</td>\n",
       "      <td>season_Fall</td>\n",
       "      <td>-43.932351</td>\n",
       "    </tr>\n",
       "  </tbody>\n",
       "</table>\n",
       "</div>"
      ],
      "text/plain": [
       "           Column     Weight\n",
       "8   season_Winter  59.046852\n",
       "0            temp   7.962215\n",
       "1           atemp   2.908961\n",
       "6       windspeed   0.541369\n",
       "5         weather  -2.651694\n",
       "2        humidity  -2.819308\n",
       "9      workingday  -2.861549\n",
       "3   season_Spring  -6.161635\n",
       "10        holiday  -8.630472\n",
       "7   season_Summer  -8.952865\n",
       "4     season_Fall -43.932351"
      ]
     },
     "execution_count": 161,
     "metadata": {},
     "output_type": "execute_result"
    }
   ],
   "source": [
    "coeff_dict = {'Column': X.columns, 'Weight': lreg.coef_}\n",
    "coeffs     = pd.DataFrame(coeff_dict)\n",
    "coeffs.sort_values(by='Weight', ascending=False)"
   ]
  },
  {
   "cell_type": "code",
   "execution_count": 162,
   "metadata": {},
   "outputs": [
    {
     "data": {
      "text/plain": [
       "0.2752503232099429"
      ]
     },
     "execution_count": 162,
     "metadata": {},
     "output_type": "execute_result"
    }
   ],
   "source": [
    "lreg.score(X, y)"
   ]
  },
  {
   "cell_type": "code",
   "execution_count": 163,
   "metadata": {},
   "outputs": [
    {
     "data": {
      "text/html": [
       "<div>\n",
       "<style scoped>\n",
       "    .dataframe tbody tr th:only-of-type {\n",
       "        vertical-align: middle;\n",
       "    }\n",
       "\n",
       "    .dataframe tbody tr th {\n",
       "        vertical-align: top;\n",
       "    }\n",
       "\n",
       "    .dataframe thead th {\n",
       "        text-align: right;\n",
       "    }\n",
       "</style>\n",
       "<table border=\"1\" class=\"dataframe\">\n",
       "  <thead>\n",
       "    <tr style=\"text-align: right;\">\n",
       "      <th></th>\n",
       "      <th>holiday</th>\n",
       "      <th>workingday</th>\n",
       "      <th>weather</th>\n",
       "      <th>temp</th>\n",
       "      <th>atemp</th>\n",
       "      <th>humidity</th>\n",
       "      <th>windspeed</th>\n",
       "      <th>count</th>\n",
       "      <th>season_Fall</th>\n",
       "      <th>season_Spring</th>\n",
       "      <th>season_Summer</th>\n",
       "      <th>season_Winter</th>\n",
       "      <th>PREDICTION</th>\n",
       "    </tr>\n",
       "    <tr>\n",
       "      <th>datetime</th>\n",
       "      <th></th>\n",
       "      <th></th>\n",
       "      <th></th>\n",
       "      <th></th>\n",
       "      <th></th>\n",
       "      <th></th>\n",
       "      <th></th>\n",
       "      <th></th>\n",
       "      <th></th>\n",
       "      <th></th>\n",
       "      <th></th>\n",
       "      <th></th>\n",
       "      <th></th>\n",
       "    </tr>\n",
       "  </thead>\n",
       "  <tbody>\n",
       "    <tr>\n",
       "      <td>2011-01-01 00:00:00</td>\n",
       "      <td>0</td>\n",
       "      <td>0</td>\n",
       "      <td>4</td>\n",
       "      <td>9.84</td>\n",
       "      <td>14.395</td>\n",
       "      <td>81</td>\n",
       "      <td>0.0</td>\n",
       "      <td>16</td>\n",
       "      <td>0</td>\n",
       "      <td>1</td>\n",
       "      <td>0</td>\n",
       "      <td>0</td>\n",
       "      <td>15.978198</td>\n",
       "    </tr>\n",
       "    <tr>\n",
       "      <td>2011-01-01 01:00:00</td>\n",
       "      <td>0</td>\n",
       "      <td>0</td>\n",
       "      <td>4</td>\n",
       "      <td>9.02</td>\n",
       "      <td>13.635</td>\n",
       "      <td>80</td>\n",
       "      <td>0.0</td>\n",
       "      <td>40</td>\n",
       "      <td>0</td>\n",
       "      <td>1</td>\n",
       "      <td>0</td>\n",
       "      <td>0</td>\n",
       "      <td>10.057679</td>\n",
       "    </tr>\n",
       "    <tr>\n",
       "      <td>2011-01-01 02:00:00</td>\n",
       "      <td>0</td>\n",
       "      <td>0</td>\n",
       "      <td>4</td>\n",
       "      <td>9.02</td>\n",
       "      <td>13.635</td>\n",
       "      <td>80</td>\n",
       "      <td>0.0</td>\n",
       "      <td>32</td>\n",
       "      <td>0</td>\n",
       "      <td>1</td>\n",
       "      <td>0</td>\n",
       "      <td>0</td>\n",
       "      <td>10.057679</td>\n",
       "    </tr>\n",
       "    <tr>\n",
       "      <td>2011-01-01 03:00:00</td>\n",
       "      <td>0</td>\n",
       "      <td>0</td>\n",
       "      <td>4</td>\n",
       "      <td>9.84</td>\n",
       "      <td>14.395</td>\n",
       "      <td>75</td>\n",
       "      <td>0.0</td>\n",
       "      <td>13</td>\n",
       "      <td>0</td>\n",
       "      <td>1</td>\n",
       "      <td>0</td>\n",
       "      <td>0</td>\n",
       "      <td>32.894049</td>\n",
       "    </tr>\n",
       "    <tr>\n",
       "      <td>2011-01-01 04:00:00</td>\n",
       "      <td>0</td>\n",
       "      <td>0</td>\n",
       "      <td>4</td>\n",
       "      <td>9.84</td>\n",
       "      <td>14.395</td>\n",
       "      <td>75</td>\n",
       "      <td>0.0</td>\n",
       "      <td>1</td>\n",
       "      <td>0</td>\n",
       "      <td>1</td>\n",
       "      <td>0</td>\n",
       "      <td>0</td>\n",
       "      <td>32.894049</td>\n",
       "    </tr>\n",
       "  </tbody>\n",
       "</table>\n",
       "</div>"
      ],
      "text/plain": [
       "                     holiday  workingday  weather  temp   atemp  humidity  \\\n",
       "datetime                                                                    \n",
       "2011-01-01 00:00:00        0           0        4  9.84  14.395        81   \n",
       "2011-01-01 01:00:00        0           0        4  9.02  13.635        80   \n",
       "2011-01-01 02:00:00        0           0        4  9.02  13.635        80   \n",
       "2011-01-01 03:00:00        0           0        4  9.84  14.395        75   \n",
       "2011-01-01 04:00:00        0           0        4  9.84  14.395        75   \n",
       "\n",
       "                     windspeed  count  season_Fall  season_Spring  \\\n",
       "datetime                                                            \n",
       "2011-01-01 00:00:00        0.0     16            0              1   \n",
       "2011-01-01 01:00:00        0.0     40            0              1   \n",
       "2011-01-01 02:00:00        0.0     32            0              1   \n",
       "2011-01-01 03:00:00        0.0     13            0              1   \n",
       "2011-01-01 04:00:00        0.0      1            0              1   \n",
       "\n",
       "                     season_Summer  season_Winter  PREDICTION  \n",
       "datetime                                                       \n",
       "2011-01-01 00:00:00              0              0   15.978198  \n",
       "2011-01-01 01:00:00              0              0   10.057679  \n",
       "2011-01-01 02:00:00              0              0   10.057679  \n",
       "2011-01-01 03:00:00              0              0   32.894049  \n",
       "2011-01-01 04:00:00              0              0   32.894049  "
      ]
     },
     "execution_count": 163,
     "metadata": {},
     "output_type": "execute_result"
    }
   ],
   "source": [
    "df['PREDICTION'] = lreg.predict(X)\n",
    "df.head()"
   ]
  },
  {
   "cell_type": "code",
   "execution_count": 164,
   "metadata": {},
   "outputs": [
    {
     "name": "stdout",
     "output_type": "stream",
     "text": [
      "datetime\n",
      "2011-01-01    15.978198\n",
      "dtype: float64 datetime\n",
      "2011-01-01    15.978198\n",
      "Name: PREDICTION, dtype: float64\n"
     ]
    }
   ],
   "source": [
    "cols_times_coefs = X[:1] * lreg.coef_\n",
    "sum_of_cols = np.sum(cols_times_coefs, axis=1)\n",
    "prediction = sum_of_cols + lreg.intercept_\n",
    "\n",
    "print(prediction, df['PREDICTION'][:1])"
   ]
  },
  {
   "cell_type": "code",
   "execution_count": 165,
   "metadata": {},
   "outputs": [],
   "source": [
    "#This model is not very predictive based on score and the predictions\n",
    "#The next step is to standardize the data in order to get a more accurate predictions"
   ]
  },
  {
   "cell_type": "code",
   "execution_count": 166,
   "metadata": {},
   "outputs": [
    {
     "data": {
      "text/html": [
       "<div>\n",
       "<style scoped>\n",
       "    .dataframe tbody tr th:only-of-type {\n",
       "        vertical-align: middle;\n",
       "    }\n",
       "\n",
       "    .dataframe tbody tr th {\n",
       "        vertical-align: top;\n",
       "    }\n",
       "\n",
       "    .dataframe thead th {\n",
       "        text-align: right;\n",
       "    }\n",
       "</style>\n",
       "<table border=\"1\" class=\"dataframe\">\n",
       "  <thead>\n",
       "    <tr style=\"text-align: right;\">\n",
       "      <th></th>\n",
       "      <th>temp</th>\n",
       "      <th>atemp</th>\n",
       "      <th>humidity</th>\n",
       "      <th>season_Spring</th>\n",
       "      <th>season_Fall</th>\n",
       "      <th>weather</th>\n",
       "      <th>windspeed</th>\n",
       "      <th>season_Summer</th>\n",
       "      <th>season_Winter</th>\n",
       "      <th>workingday</th>\n",
       "      <th>holiday</th>\n",
       "    </tr>\n",
       "  </thead>\n",
       "  <tbody>\n",
       "    <tr>\n",
       "      <td>count</td>\n",
       "      <td>1.088600e+04</td>\n",
       "      <td>1.088600e+04</td>\n",
       "      <td>1.088600e+04</td>\n",
       "      <td>1.088600e+04</td>\n",
       "      <td>1.088600e+04</td>\n",
       "      <td>1.088600e+04</td>\n",
       "      <td>1.088600e+04</td>\n",
       "      <td>1.088600e+04</td>\n",
       "      <td>1.088600e+04</td>\n",
       "      <td>1.088600e+04</td>\n",
       "      <td>1.088600e+04</td>\n",
       "    </tr>\n",
       "    <tr>\n",
       "      <td>mean</td>\n",
       "      <td>1.149780e-14</td>\n",
       "      <td>5.357382e-15</td>\n",
       "      <td>2.431354e-16</td>\n",
       "      <td>-6.241644e-15</td>\n",
       "      <td>2.161280e-14</td>\n",
       "      <td>-1.377692e-15</td>\n",
       "      <td>-4.893952e-14</td>\n",
       "      <td>2.276147e-14</td>\n",
       "      <td>-5.049424e-15</td>\n",
       "      <td>7.765238e-17</td>\n",
       "      <td>1.419038e-16</td>\n",
       "    </tr>\n",
       "    <tr>\n",
       "      <td>std</td>\n",
       "      <td>1.000000e+00</td>\n",
       "      <td>1.000000e+00</td>\n",
       "      <td>1.000000e+00</td>\n",
       "      <td>1.000000e+00</td>\n",
       "      <td>1.000000e+00</td>\n",
       "      <td>1.000000e+00</td>\n",
       "      <td>1.000000e+00</td>\n",
       "      <td>1.000000e+00</td>\n",
       "      <td>1.000000e+00</td>\n",
       "      <td>1.000000e+00</td>\n",
       "      <td>1.000000e+00</td>\n",
       "    </tr>\n",
       "    <tr>\n",
       "      <td>min</td>\n",
       "      <td>-2.491258e+00</td>\n",
       "      <td>-2.701612e+00</td>\n",
       "      <td>-3.215711e+00</td>\n",
       "      <td>-5.723031e-01</td>\n",
       "      <td>-5.789501e-01</td>\n",
       "      <td>-4.072918e+00</td>\n",
       "      <td>-1.567682e+00</td>\n",
       "      <td>-5.789501e-01</td>\n",
       "      <td>-5.790915e-01</td>\n",
       "      <td>-1.460605e+00</td>\n",
       "      <td>-1.714826e-01</td>\n",
       "    </tr>\n",
       "    <tr>\n",
       "      <td>25%</td>\n",
       "      <td>-8.073910e-01</td>\n",
       "      <td>-8.248275e-01</td>\n",
       "      <td>-7.735222e-01</td>\n",
       "      <td>-5.723031e-01</td>\n",
       "      <td>-5.789501e-01</td>\n",
       "      <td>-9.175406e-01</td>\n",
       "      <td>-7.101315e-01</td>\n",
       "      <td>-5.789501e-01</td>\n",
       "      <td>-5.790915e-01</td>\n",
       "      <td>-1.460605e+00</td>\n",
       "      <td>-1.714826e-01</td>\n",
       "    </tr>\n",
       "    <tr>\n",
       "      <td>50%</td>\n",
       "      <td>3.454240e-02</td>\n",
       "      <td>6.901988e-02</td>\n",
       "      <td>5.899721e-03</td>\n",
       "      <td>-5.723031e-01</td>\n",
       "      <td>-5.789501e-01</td>\n",
       "      <td>6.601481e-01</td>\n",
       "      <td>2.432527e-02</td>\n",
       "      <td>-5.789501e-01</td>\n",
       "      <td>-5.790915e-01</td>\n",
       "      <td>6.845848e-01</td>\n",
       "      <td>-1.714826e-01</td>\n",
       "    </tr>\n",
       "    <tr>\n",
       "      <td>75%</td>\n",
       "      <td>7.712342e-01</td>\n",
       "      <td>8.737776e-01</td>\n",
       "      <td>7.853216e-01</td>\n",
       "      <td>-5.723031e-01</td>\n",
       "      <td>1.727106e+00</td>\n",
       "      <td>6.601481e-01</td>\n",
       "      <td>5.142367e-01</td>\n",
       "      <td>1.727106e+00</td>\n",
       "      <td>1.726684e+00</td>\n",
       "      <td>6.845848e-01</td>\n",
       "      <td>-1.714826e-01</td>\n",
       "    </tr>\n",
       "    <tr>\n",
       "      <td>max</td>\n",
       "      <td>2.665584e+00</td>\n",
       "      <td>2.572383e+00</td>\n",
       "      <td>1.980435e+00</td>\n",
       "      <td>1.747165e+00</td>\n",
       "      <td>1.727106e+00</td>\n",
       "      <td>6.601481e-01</td>\n",
       "      <td>5.413351e+00</td>\n",
       "      <td>1.727106e+00</td>\n",
       "      <td>1.726684e+00</td>\n",
       "      <td>6.845848e-01</td>\n",
       "      <td>5.830960e+00</td>\n",
       "    </tr>\n",
       "  </tbody>\n",
       "</table>\n",
       "</div>"
      ],
      "text/plain": [
       "               temp         atemp      humidity  season_Spring   season_Fall  \\\n",
       "count  1.088600e+04  1.088600e+04  1.088600e+04   1.088600e+04  1.088600e+04   \n",
       "mean   1.149780e-14  5.357382e-15  2.431354e-16  -6.241644e-15  2.161280e-14   \n",
       "std    1.000000e+00  1.000000e+00  1.000000e+00   1.000000e+00  1.000000e+00   \n",
       "min   -2.491258e+00 -2.701612e+00 -3.215711e+00  -5.723031e-01 -5.789501e-01   \n",
       "25%   -8.073910e-01 -8.248275e-01 -7.735222e-01  -5.723031e-01 -5.789501e-01   \n",
       "50%    3.454240e-02  6.901988e-02  5.899721e-03  -5.723031e-01 -5.789501e-01   \n",
       "75%    7.712342e-01  8.737776e-01  7.853216e-01  -5.723031e-01  1.727106e+00   \n",
       "max    2.665584e+00  2.572383e+00  1.980435e+00   1.747165e+00  1.727106e+00   \n",
       "\n",
       "            weather     windspeed  season_Summer  season_Winter    workingday  \\\n",
       "count  1.088600e+04  1.088600e+04   1.088600e+04   1.088600e+04  1.088600e+04   \n",
       "mean  -1.377692e-15 -4.893952e-14   2.276147e-14  -5.049424e-15  7.765238e-17   \n",
       "std    1.000000e+00  1.000000e+00   1.000000e+00   1.000000e+00  1.000000e+00   \n",
       "min   -4.072918e+00 -1.567682e+00  -5.789501e-01  -5.790915e-01 -1.460605e+00   \n",
       "25%   -9.175406e-01 -7.101315e-01  -5.789501e-01  -5.790915e-01 -1.460605e+00   \n",
       "50%    6.601481e-01  2.432527e-02  -5.789501e-01  -5.790915e-01  6.845848e-01   \n",
       "75%    6.601481e-01  5.142367e-01   1.727106e+00   1.726684e+00  6.845848e-01   \n",
       "max    6.601481e-01  5.413351e+00   1.727106e+00   1.726684e+00  6.845848e-01   \n",
       "\n",
       "            holiday  \n",
       "count  1.088600e+04  \n",
       "mean   1.419038e-16  \n",
       "std    1.000000e+00  \n",
       "min   -1.714826e-01  \n",
       "25%   -1.714826e-01  \n",
       "50%   -1.714826e-01  \n",
       "75%   -1.714826e-01  \n",
       "max    5.830960e+00  "
      ]
     },
     "execution_count": 166,
     "metadata": {},
     "output_type": "execute_result"
    }
   ],
   "source": [
    "X = X - X.mean()\n",
    "X = X / X.std()\n",
    "X.describe()"
   ]
  },
  {
   "cell_type": "code",
   "execution_count": 167,
   "metadata": {},
   "outputs": [
    {
     "data": {
      "text/plain": [
       "LinearRegression(copy_X=True, fit_intercept=True, n_jobs=None, normalize=False)"
      ]
     },
     "execution_count": 167,
     "metadata": {},
     "output_type": "execute_result"
    }
   ],
   "source": [
    "lreg.fit(X, y)"
   ]
  },
  {
   "cell_type": "code",
   "execution_count": 168,
   "metadata": {},
   "outputs": [
    {
     "data": {
      "text/plain": [
       "array([ 6.19491809e+01,  2.46933615e+01, -5.42748699e+01, -6.78217732e+13,\n",
       "       -6.82162351e+13, -1.70599522e+00,  4.44046927e+00, -6.82162351e+13,\n",
       "       -6.82245296e+13, -1.36708456e+00, -1.46961185e+00])"
      ]
     },
     "execution_count": 168,
     "metadata": {},
     "output_type": "execute_result"
    }
   ],
   "source": [
    "lreg.coef_"
   ]
  },
  {
   "cell_type": "code",
   "execution_count": 169,
   "metadata": {},
   "outputs": [
    {
     "data": {
      "text/html": [
       "<div>\n",
       "<style scoped>\n",
       "    .dataframe tbody tr th:only-of-type {\n",
       "        vertical-align: middle;\n",
       "    }\n",
       "\n",
       "    .dataframe tbody tr th {\n",
       "        vertical-align: top;\n",
       "    }\n",
       "\n",
       "    .dataframe thead th {\n",
       "        text-align: right;\n",
       "    }\n",
       "</style>\n",
       "<table border=\"1\" class=\"dataframe\">\n",
       "  <thead>\n",
       "    <tr style=\"text-align: right;\">\n",
       "      <th></th>\n",
       "      <th>Column</th>\n",
       "      <th>Coefficient</th>\n",
       "    </tr>\n",
       "  </thead>\n",
       "  <tbody>\n",
       "    <tr>\n",
       "      <td>0</td>\n",
       "      <td>temp</td>\n",
       "      <td>6.194918e+01</td>\n",
       "    </tr>\n",
       "    <tr>\n",
       "      <td>1</td>\n",
       "      <td>atemp</td>\n",
       "      <td>2.469336e+01</td>\n",
       "    </tr>\n",
       "    <tr>\n",
       "      <td>6</td>\n",
       "      <td>windspeed</td>\n",
       "      <td>4.440469e+00</td>\n",
       "    </tr>\n",
       "    <tr>\n",
       "      <td>9</td>\n",
       "      <td>workingday</td>\n",
       "      <td>-1.367085e+00</td>\n",
       "    </tr>\n",
       "    <tr>\n",
       "      <td>10</td>\n",
       "      <td>holiday</td>\n",
       "      <td>-1.469612e+00</td>\n",
       "    </tr>\n",
       "    <tr>\n",
       "      <td>5</td>\n",
       "      <td>weather</td>\n",
       "      <td>-1.705995e+00</td>\n",
       "    </tr>\n",
       "    <tr>\n",
       "      <td>2</td>\n",
       "      <td>humidity</td>\n",
       "      <td>-5.427487e+01</td>\n",
       "    </tr>\n",
       "    <tr>\n",
       "      <td>3</td>\n",
       "      <td>season_Spring</td>\n",
       "      <td>-6.782177e+13</td>\n",
       "    </tr>\n",
       "    <tr>\n",
       "      <td>7</td>\n",
       "      <td>season_Summer</td>\n",
       "      <td>-6.821624e+13</td>\n",
       "    </tr>\n",
       "    <tr>\n",
       "      <td>4</td>\n",
       "      <td>season_Fall</td>\n",
       "      <td>-6.821624e+13</td>\n",
       "    </tr>\n",
       "    <tr>\n",
       "      <td>8</td>\n",
       "      <td>season_Winter</td>\n",
       "      <td>-6.822453e+13</td>\n",
       "    </tr>\n",
       "  </tbody>\n",
       "</table>\n",
       "</div>"
      ],
      "text/plain": [
       "           Column   Coefficient\n",
       "0            temp  6.194918e+01\n",
       "1           atemp  2.469336e+01\n",
       "6       windspeed  4.440469e+00\n",
       "9      workingday -1.367085e+00\n",
       "10        holiday -1.469612e+00\n",
       "5         weather -1.705995e+00\n",
       "2        humidity -5.427487e+01\n",
       "3   season_Spring -6.782177e+13\n",
       "7   season_Summer -6.821624e+13\n",
       "4     season_Fall -6.821624e+13\n",
       "8   season_Winter -6.822453e+13"
      ]
     },
     "execution_count": 169,
     "metadata": {},
     "output_type": "execute_result"
    }
   ],
   "source": [
    "coeff_dict = {'Column': X.columns, 'Coefficient': lreg.coef_}\n",
    "coeffs = pd.DataFrame(coeff_dict).sort_values(by='Coefficient', ascending=False)\n",
    "coeffs"
   ]
  },
  {
   "cell_type": "code",
   "execution_count": 170,
   "metadata": {},
   "outputs": [
    {
     "data": {
      "text/plain": [
       "0.2752514026100654"
      ]
     },
     "execution_count": 170,
     "metadata": {},
     "output_type": "execute_result"
    }
   ],
   "source": [
    "lreg.score(X, y)"
   ]
  },
  {
   "cell_type": "code",
   "execution_count": 171,
   "metadata": {},
   "outputs": [],
   "source": [
    "df['PREDICTION2'] = lreg.predict(X)"
   ]
  },
  {
   "cell_type": "code",
   "execution_count": 172,
   "metadata": {},
   "outputs": [
    {
     "data": {
      "text/html": [
       "<div>\n",
       "<style scoped>\n",
       "    .dataframe tbody tr th:only-of-type {\n",
       "        vertical-align: middle;\n",
       "    }\n",
       "\n",
       "    .dataframe tbody tr th {\n",
       "        vertical-align: top;\n",
       "    }\n",
       "\n",
       "    .dataframe thead th {\n",
       "        text-align: right;\n",
       "    }\n",
       "</style>\n",
       "<table border=\"1\" class=\"dataframe\">\n",
       "  <thead>\n",
       "    <tr style=\"text-align: right;\">\n",
       "      <th></th>\n",
       "      <th>PREDICTION</th>\n",
       "      <th>PREDICTION2</th>\n",
       "    </tr>\n",
       "    <tr>\n",
       "      <th>datetime</th>\n",
       "      <th></th>\n",
       "      <th></th>\n",
       "    </tr>\n",
       "  </thead>\n",
       "  <tbody>\n",
       "    <tr>\n",
       "      <td>2011-01-01 00:00:00</td>\n",
       "      <td>15.978198</td>\n",
       "      <td>16.069392</td>\n",
       "    </tr>\n",
       "    <tr>\n",
       "      <td>2011-01-01 01:00:00</td>\n",
       "      <td>10.057679</td>\n",
       "      <td>10.147517</td>\n",
       "    </tr>\n",
       "    <tr>\n",
       "      <td>2011-01-01 02:00:00</td>\n",
       "      <td>10.057679</td>\n",
       "      <td>10.147517</td>\n",
       "    </tr>\n",
       "    <tr>\n",
       "      <td>2011-01-01 03:00:00</td>\n",
       "      <td>32.894049</td>\n",
       "      <td>32.991267</td>\n",
       "    </tr>\n",
       "    <tr>\n",
       "      <td>2011-01-01 04:00:00</td>\n",
       "      <td>32.894049</td>\n",
       "      <td>32.991267</td>\n",
       "    </tr>\n",
       "    <tr>\n",
       "      <td>2011-01-01 05:00:00</td>\n",
       "      <td>34.388612</td>\n",
       "      <td>34.522517</td>\n",
       "    </tr>\n",
       "    <tr>\n",
       "      <td>2011-01-01 06:00:00</td>\n",
       "      <td>10.057679</td>\n",
       "      <td>10.147517</td>\n",
       "    </tr>\n",
       "    <tr>\n",
       "      <td>2011-01-01 07:00:00</td>\n",
       "      <td>-15.583454</td>\n",
       "      <td>-15.493108</td>\n",
       "    </tr>\n",
       "    <tr>\n",
       "      <td>2011-01-01 08:00:00</td>\n",
       "      <td>32.894049</td>\n",
       "      <td>32.991267</td>\n",
       "    </tr>\n",
       "    <tr>\n",
       "      <td>2011-01-01 09:00:00</td>\n",
       "      <td>65.004959</td>\n",
       "      <td>65.069392</td>\n",
       "    </tr>\n",
       "  </tbody>\n",
       "</table>\n",
       "</div>"
      ],
      "text/plain": [
       "                     PREDICTION  PREDICTION2\n",
       "datetime                                    \n",
       "2011-01-01 00:00:00   15.978198    16.069392\n",
       "2011-01-01 01:00:00   10.057679    10.147517\n",
       "2011-01-01 02:00:00   10.057679    10.147517\n",
       "2011-01-01 03:00:00   32.894049    32.991267\n",
       "2011-01-01 04:00:00   32.894049    32.991267\n",
       "2011-01-01 05:00:00   34.388612    34.522517\n",
       "2011-01-01 06:00:00   10.057679    10.147517\n",
       "2011-01-01 07:00:00  -15.583454   -15.493108\n",
       "2011-01-01 08:00:00   32.894049    32.991267\n",
       "2011-01-01 09:00:00   65.004959    65.069392"
      ]
     },
     "execution_count": 172,
     "metadata": {},
     "output_type": "execute_result"
    }
   ],
   "source": [
    "df[['PREDICTION', 'PREDICTION2']].head(10)"
   ]
  },
  {
   "cell_type": "code",
   "execution_count": 173,
   "metadata": {},
   "outputs": [
    {
     "data": {
      "image/png": "[encoded data removed]",
      "text/plain": [
       "<Figure size 432x288 with 1 Axes>"
      ]
     },
     "metadata": {
      "needs_background": "light"
     },
     "output_type": "display_data"
    }
   ],
   "source": [
    "sns.regplot(x='temp', y='count', order=2, data=df);"
   ]
  },
  {
   "cell_type": "code",
   "execution_count": 174,
   "metadata": {},
   "outputs": [
    {
     "data": {
      "text/plain": [
       "0.2727627480870677"
      ]
     },
     "execution_count": 174,
     "metadata": {},
     "output_type": "execute_result"
    }
   ],
   "source": [
    "#using the basis expansion with both versions\n",
    "#version 1 with squaring the values\n",
    "X['temp'] = X['temp']**2\n",
    "lreg.fit(X, y)\n",
    "lreg.score(X, y)"
   ]
  },
  {
   "cell_type": "code",
   "execution_count": 175,
   "metadata": {},
   "outputs": [
    {
     "data": {
      "text/plain": [
       "0.27358658187741847"
      ]
     },
     "execution_count": 175,
     "metadata": {},
     "output_type": "execute_result"
    }
   ],
   "source": [
    "#using version 2 by using the log of the values\n",
    "#slightly higher returns\n",
    "y = np.log(y)\n",
    "lreg.fit(X, y)\n",
    "lreg.score(X, y)"
   ]
  },
  {
   "cell_type": "code",
   "execution_count": 176,
   "metadata": {},
   "outputs": [
    {
     "data": {
      "text/plain": [
       "LinearRegression(copy_X=True, fit_intercept=True, n_jobs=None, normalize=False)"
      ]
     },
     "execution_count": 176,
     "metadata": {},
     "output_type": "execute_result"
    }
   ],
   "source": [
    "from sklearn.linear_model import Ridge, Lasso\n",
    "\n",
    "ridge = Ridge()\n",
    "lasso = Lasso()\n",
    "ridge.fit(X, y)\n",
    "lasso.fit(X, y)\n",
    "lreg.fit(X, y)"
   ]
  },
  {
   "cell_type": "code",
   "execution_count": 177,
   "metadata": {},
   "outputs": [
    {
     "data": {
      "text/plain": [
       "array([-0.06083306,  0.65980931, -0.50310369, -0.02106097, -0.12230764,\n",
       "       -0.06277664,  0.06787827, -0.06135353,  0.20457549, -0.05400353,\n",
       "       -0.01154326])"
      ]
     },
     "execution_count": 177,
     "metadata": {},
     "output_type": "execute_result"
    }
   ],
   "source": [
    "ridge.coef_"
   ]
  },
  {
   "cell_type": "code",
   "execution_count": 178,
   "metadata": {},
   "outputs": [
    {
     "data": {
      "text/plain": [
       "array([-0.,  0., -0., -0.,  0.,  0.,  0.,  0.,  0., -0., -0.])"
      ]
     },
     "execution_count": 178,
     "metadata": {},
     "output_type": "execute_result"
    }
   ],
   "source": [
    "lasso.coef_"
   ]
  },
  {
   "cell_type": "code",
   "execution_count": 179,
   "metadata": {},
   "outputs": [
    {
     "data": {
      "text/plain": [
       "array([-5.21283129e-02,  6.60643130e-01, -5.01517595e-01, -9.50776651e+12,\n",
       "       -9.56306515e+12, -6.40819556e-02,  6.64633547e-02, -9.56306515e+12,\n",
       "       -9.56422795e+12, -5.32014029e-02, -9.99161091e-03])"
      ]
     },
     "execution_count": 179,
     "metadata": {},
     "output_type": "execute_result"
    }
   ],
   "source": [
    "lreg.coef_"
   ]
  },
  {
   "cell_type": "code",
   "execution_count": 180,
   "metadata": {},
   "outputs": [],
   "source": [
    "ridgedf = pd.DataFrame(index=X.columns)\n",
    "ridge.alpha = 10"
   ]
  },
  {
   "cell_type": "code",
   "execution_count": 181,
   "metadata": {},
   "outputs": [],
   "source": [
    "ridge.fit(X, y)\n",
    "ridgedf['alpha10']   = ridge.coef_"
   ]
  },
  {
   "cell_type": "code",
   "execution_count": 182,
   "metadata": {},
   "outputs": [],
   "source": [
    "#changing the alpha to fine tune \n",
    "ridge.alpha = 100\n",
    "ridge.fit(X, y)\n",
    "ridgedf['alpha100']  = ridge.coef_"
   ]
  },
  {
   "cell_type": "code",
   "execution_count": 183,
   "metadata": {},
   "outputs": [],
   "source": [
    "#changing the alpha again\n",
    "ridge.alpha = 1000\n",
    "ridge.fit(X, y)\n",
    "ridgedf['alpha1000'] = ridge.coef_"
   ]
  },
  {
   "cell_type": "code",
   "execution_count": 184,
   "metadata": {},
   "outputs": [
    {
     "data": {
      "text/html": [
       "<div>\n",
       "<style scoped>\n",
       "    .dataframe tbody tr th:only-of-type {\n",
       "        vertical-align: middle;\n",
       "    }\n",
       "\n",
       "    .dataframe tbody tr th {\n",
       "        vertical-align: top;\n",
       "    }\n",
       "\n",
       "    .dataframe thead th {\n",
       "        text-align: right;\n",
       "    }\n",
       "</style>\n",
       "<table border=\"1\" class=\"dataframe\">\n",
       "  <thead>\n",
       "    <tr style=\"text-align: right;\">\n",
       "      <th></th>\n",
       "      <th>alpha10</th>\n",
       "      <th>alpha100</th>\n",
       "      <th>alpha1000</th>\n",
       "    </tr>\n",
       "  </thead>\n",
       "  <tbody>\n",
       "    <tr>\n",
       "      <td>temp</td>\n",
       "      <td>-0.060858</td>\n",
       "      <td>-0.061056</td>\n",
       "      <td>-0.059977</td>\n",
       "    </tr>\n",
       "    <tr>\n",
       "      <td>atemp</td>\n",
       "      <td>0.658357</td>\n",
       "      <td>0.644312</td>\n",
       "      <td>0.538838</td>\n",
       "    </tr>\n",
       "    <tr>\n",
       "      <td>humidity</td>\n",
       "      <td>-0.502710</td>\n",
       "      <td>-0.498749</td>\n",
       "      <td>-0.459423</td>\n",
       "    </tr>\n",
       "    <tr>\n",
       "      <td>season_Spring</td>\n",
       "      <td>-0.021622</td>\n",
       "      <td>-0.026996</td>\n",
       "      <td>-0.063699</td>\n",
       "    </tr>\n",
       "    <tr>\n",
       "      <td>season_Fall</td>\n",
       "      <td>-0.121589</td>\n",
       "      <td>-0.114683</td>\n",
       "      <td>-0.065483</td>\n",
       "    </tr>\n",
       "    <tr>\n",
       "      <td>weather</td>\n",
       "      <td>-0.062529</td>\n",
       "      <td>-0.060086</td>\n",
       "      <td>-0.038777</td>\n",
       "    </tr>\n",
       "    <tr>\n",
       "      <td>windspeed</td>\n",
       "      <td>0.067958</td>\n",
       "      <td>0.068735</td>\n",
       "      <td>0.074828</td>\n",
       "    </tr>\n",
       "    <tr>\n",
       "      <td>season_Summer</td>\n",
       "      <td>-0.061090</td>\n",
       "      <td>-0.058540</td>\n",
       "      <td>-0.039086</td>\n",
       "    </tr>\n",
       "    <tr>\n",
       "      <td>season_Winter</td>\n",
       "      <td>0.204152</td>\n",
       "      <td>0.200037</td>\n",
       "      <td>0.167880</td>\n",
       "    </tr>\n",
       "    <tr>\n",
       "      <td>workingday</td>\n",
       "      <td>-0.053908</td>\n",
       "      <td>-0.052974</td>\n",
       "      <td>-0.045314</td>\n",
       "    </tr>\n",
       "    <tr>\n",
       "      <td>holiday</td>\n",
       "      <td>-0.011520</td>\n",
       "      <td>-0.011295</td>\n",
       "      <td>-0.009406</td>\n",
       "    </tr>\n",
       "  </tbody>\n",
       "</table>\n",
       "</div>"
      ],
      "text/plain": [
       "                alpha10  alpha100  alpha1000\n",
       "temp          -0.060858 -0.061056  -0.059977\n",
       "atemp          0.658357  0.644312   0.538838\n",
       "humidity      -0.502710 -0.498749  -0.459423\n",
       "season_Spring -0.021622 -0.026996  -0.063699\n",
       "season_Fall   -0.121589 -0.114683  -0.065483\n",
       "weather       -0.062529 -0.060086  -0.038777\n",
       "windspeed      0.067958  0.068735   0.074828\n",
       "season_Summer -0.061090 -0.058540  -0.039086\n",
       "season_Winter  0.204152  0.200037   0.167880\n",
       "workingday    -0.053908 -0.052974  -0.045314\n",
       "holiday       -0.011520 -0.011295  -0.009406"
      ]
     },
     "execution_count": 184,
     "metadata": {},
     "output_type": "execute_result"
    }
   ],
   "source": [
    "ridgedf"
   ]
  },
  {
   "cell_type": "code",
   "execution_count": 185,
   "metadata": {},
   "outputs": [
    {
     "data": {
      "text/plain": [
       "alpha10      1.826293\n",
       "alpha100     1.797463\n",
       "alpha1000    1.562712\n",
       "dtype: float64"
      ]
     },
     "execution_count": 185,
     "metadata": {},
     "output_type": "execute_result"
    }
   ],
   "source": [
    "np.abs(ridgedf).sum()"
   ]
  },
  {
   "cell_type": "code",
   "execution_count": 186,
   "metadata": {},
   "outputs": [],
   "source": [
    "#now using the lasso approach to see if there is a difference in scoring"
   ]
  },
  {
   "cell_type": "code",
   "execution_count": 187,
   "metadata": {},
   "outputs": [],
   "source": [
    "lassodf = pd.DataFrame(index=X.columns)\n",
    "lasso.alpha = .001\n",
    "\n",
    "lasso.fit(X, y)\n",
    "lassodf['lasso001']   = lasso.coef_"
   ]
  },
  {
   "cell_type": "code",
   "execution_count": 188,
   "metadata": {},
   "outputs": [],
   "source": [
    "#changing the alpha again \n",
    "lasso.alpha = .01\n",
    "lasso.fit(X, y)\n",
    "lassodf['lasso01']  = lasso.coef_"
   ]
  },
  {
   "cell_type": "code",
   "execution_count": 189,
   "metadata": {},
   "outputs": [],
   "source": [
    "lasso.alpha = .1\n",
    "lasso.fit(X, y)\n",
    "lassodf['lasso1'] = lasso.coef_"
   ]
  },
  {
   "cell_type": "code",
   "execution_count": 190,
   "metadata": {},
   "outputs": [
    {
     "data": {
      "text/html": [
       "<div>\n",
       "<style scoped>\n",
       "    .dataframe tbody tr th:only-of-type {\n",
       "        vertical-align: middle;\n",
       "    }\n",
       "\n",
       "    .dataframe tbody tr th {\n",
       "        vertical-align: top;\n",
       "    }\n",
       "\n",
       "    .dataframe thead th {\n",
       "        text-align: right;\n",
       "    }\n",
       "</style>\n",
       "<table border=\"1\" class=\"dataframe\">\n",
       "  <thead>\n",
       "    <tr style=\"text-align: right;\">\n",
       "      <th></th>\n",
       "      <th>lasso001</th>\n",
       "      <th>lasso01</th>\n",
       "      <th>lasso1</th>\n",
       "    </tr>\n",
       "  </thead>\n",
       "  <tbody>\n",
       "    <tr>\n",
       "      <td>temp</td>\n",
       "      <td>-0.060034</td>\n",
       "      <td>-0.053802</td>\n",
       "      <td>-0.000000</td>\n",
       "    </tr>\n",
       "    <tr>\n",
       "      <td>atemp</td>\n",
       "      <td>0.654891</td>\n",
       "      <td>0.611794</td>\n",
       "      <td>0.463421</td>\n",
       "    </tr>\n",
       "    <tr>\n",
       "      <td>humidity</td>\n",
       "      <td>-0.502151</td>\n",
       "      <td>-0.492839</td>\n",
       "      <td>-0.383873</td>\n",
       "    </tr>\n",
       "    <tr>\n",
       "      <td>season_Spring</td>\n",
       "      <td>0.000000</td>\n",
       "      <td>0.000000</td>\n",
       "      <td>-0.000000</td>\n",
       "    </tr>\n",
       "    <tr>\n",
       "      <td>season_Fall</td>\n",
       "      <td>-0.095653</td>\n",
       "      <td>-0.049312</td>\n",
       "      <td>-0.000000</td>\n",
       "    </tr>\n",
       "    <tr>\n",
       "      <td>weather</td>\n",
       "      <td>-0.061389</td>\n",
       "      <td>-0.048471</td>\n",
       "      <td>-0.000000</td>\n",
       "    </tr>\n",
       "    <tr>\n",
       "      <td>windspeed</td>\n",
       "      <td>0.067283</td>\n",
       "      <td>0.061927</td>\n",
       "      <td>0.000000</td>\n",
       "    </tr>\n",
       "    <tr>\n",
       "      <td>season_Summer</td>\n",
       "      <td>-0.035635</td>\n",
       "      <td>-0.000000</td>\n",
       "      <td>0.000000</td>\n",
       "    </tr>\n",
       "    <tr>\n",
       "      <td>season_Winter</td>\n",
       "      <td>0.226983</td>\n",
       "      <td>0.235111</td>\n",
       "      <td>0.121341</td>\n",
       "    </tr>\n",
       "    <tr>\n",
       "      <td>workingday</td>\n",
       "      <td>-0.052497</td>\n",
       "      <td>-0.039313</td>\n",
       "      <td>-0.000000</td>\n",
       "    </tr>\n",
       "    <tr>\n",
       "      <td>holiday</td>\n",
       "      <td>-0.010214</td>\n",
       "      <td>-0.000000</td>\n",
       "      <td>-0.000000</td>\n",
       "    </tr>\n",
       "  </tbody>\n",
       "</table>\n",
       "</div>"
      ],
      "text/plain": [
       "               lasso001   lasso01    lasso1\n",
       "temp          -0.060034 -0.053802 -0.000000\n",
       "atemp          0.654891  0.611794  0.463421\n",
       "humidity      -0.502151 -0.492839 -0.383873\n",
       "season_Spring  0.000000  0.000000 -0.000000\n",
       "season_Fall   -0.095653 -0.049312 -0.000000\n",
       "weather       -0.061389 -0.048471 -0.000000\n",
       "windspeed      0.067283  0.061927  0.000000\n",
       "season_Summer -0.035635 -0.000000  0.000000\n",
       "season_Winter  0.226983  0.235111  0.121341\n",
       "workingday    -0.052497 -0.039313 -0.000000\n",
       "holiday       -0.010214 -0.000000 -0.000000"
      ]
     },
     "execution_count": 190,
     "metadata": {},
     "output_type": "execute_result"
    }
   ],
   "source": [
    "lassodf"
   ]
  },
  {
   "cell_type": "code",
   "execution_count": 191,
   "metadata": {},
   "outputs": [
    {
     "data": {
      "text/plain": [
       "lasso001    1.766729\n",
       "lasso01     1.592568\n",
       "lasso1      0.968635\n",
       "dtype: float64"
      ]
     },
     "execution_count": 191,
     "metadata": {},
     "output_type": "execute_result"
    }
   ],
   "source": [
    "np.abs(lassodf).sum()"
   ]
  },
  {
   "cell_type": "code",
   "execution_count": 218,
   "metadata": {},
   "outputs": [
    {
     "data": {
      "text/html": [
       "<div>\n",
       "<style scoped>\n",
       "    .dataframe tbody tr th:only-of-type {\n",
       "        vertical-align: middle;\n",
       "    }\n",
       "\n",
       "    .dataframe tbody tr th {\n",
       "        vertical-align: top;\n",
       "    }\n",
       "\n",
       "    .dataframe thead th {\n",
       "        text-align: right;\n",
       "    }\n",
       "</style>\n",
       "<table border=\"1\" class=\"dataframe\">\n",
       "  <thead>\n",
       "    <tr style=\"text-align: right;\">\n",
       "      <th></th>\n",
       "      <th>holiday</th>\n",
       "      <th>workingday</th>\n",
       "      <th>weather</th>\n",
       "      <th>temp</th>\n",
       "      <th>atemp</th>\n",
       "      <th>humidity</th>\n",
       "      <th>windspeed</th>\n",
       "      <th>count</th>\n",
       "      <th>season_Fall</th>\n",
       "      <th>season_Spring</th>\n",
       "      <th>season_Summer</th>\n",
       "      <th>season_Winter</th>\n",
       "      <th>PREDICTION</th>\n",
       "      <th>PREDICTION2</th>\n",
       "    </tr>\n",
       "    <tr>\n",
       "      <th>datetime</th>\n",
       "      <th></th>\n",
       "      <th></th>\n",
       "      <th></th>\n",
       "      <th></th>\n",
       "      <th></th>\n",
       "      <th></th>\n",
       "      <th></th>\n",
       "      <th></th>\n",
       "      <th></th>\n",
       "      <th></th>\n",
       "      <th></th>\n",
       "      <th></th>\n",
       "      <th></th>\n",
       "      <th></th>\n",
       "    </tr>\n",
       "  </thead>\n",
       "  <tbody>\n",
       "    <tr>\n",
       "      <td>2011-01-01 00:00:00</td>\n",
       "      <td>0</td>\n",
       "      <td>0</td>\n",
       "      <td>4</td>\n",
       "      <td>9.84</td>\n",
       "      <td>14.395</td>\n",
       "      <td>81</td>\n",
       "      <td>0.0</td>\n",
       "      <td>16</td>\n",
       "      <td>0</td>\n",
       "      <td>1</td>\n",
       "      <td>0</td>\n",
       "      <td>0</td>\n",
       "      <td>15.978198</td>\n",
       "      <td>16.069392</td>\n",
       "    </tr>\n",
       "    <tr>\n",
       "      <td>2011-01-01 01:00:00</td>\n",
       "      <td>0</td>\n",
       "      <td>0</td>\n",
       "      <td>4</td>\n",
       "      <td>9.02</td>\n",
       "      <td>13.635</td>\n",
       "      <td>80</td>\n",
       "      <td>0.0</td>\n",
       "      <td>40</td>\n",
       "      <td>0</td>\n",
       "      <td>1</td>\n",
       "      <td>0</td>\n",
       "      <td>0</td>\n",
       "      <td>10.057679</td>\n",
       "      <td>10.147517</td>\n",
       "    </tr>\n",
       "    <tr>\n",
       "      <td>2011-01-01 02:00:00</td>\n",
       "      <td>0</td>\n",
       "      <td>0</td>\n",
       "      <td>4</td>\n",
       "      <td>9.02</td>\n",
       "      <td>13.635</td>\n",
       "      <td>80</td>\n",
       "      <td>0.0</td>\n",
       "      <td>32</td>\n",
       "      <td>0</td>\n",
       "      <td>1</td>\n",
       "      <td>0</td>\n",
       "      <td>0</td>\n",
       "      <td>10.057679</td>\n",
       "      <td>10.147517</td>\n",
       "    </tr>\n",
       "    <tr>\n",
       "      <td>2011-01-01 03:00:00</td>\n",
       "      <td>0</td>\n",
       "      <td>0</td>\n",
       "      <td>4</td>\n",
       "      <td>9.84</td>\n",
       "      <td>14.395</td>\n",
       "      <td>75</td>\n",
       "      <td>0.0</td>\n",
       "      <td>13</td>\n",
       "      <td>0</td>\n",
       "      <td>1</td>\n",
       "      <td>0</td>\n",
       "      <td>0</td>\n",
       "      <td>32.894049</td>\n",
       "      <td>32.991267</td>\n",
       "    </tr>\n",
       "    <tr>\n",
       "      <td>2011-01-01 04:00:00</td>\n",
       "      <td>0</td>\n",
       "      <td>0</td>\n",
       "      <td>4</td>\n",
       "      <td>9.84</td>\n",
       "      <td>14.395</td>\n",
       "      <td>75</td>\n",
       "      <td>0.0</td>\n",
       "      <td>1</td>\n",
       "      <td>0</td>\n",
       "      <td>1</td>\n",
       "      <td>0</td>\n",
       "      <td>0</td>\n",
       "      <td>32.894049</td>\n",
       "      <td>32.991267</td>\n",
       "    </tr>\n",
       "  </tbody>\n",
       "</table>\n",
       "</div>"
      ],
      "text/plain": [
       "                     holiday  workingday  weather  temp   atemp  humidity  \\\n",
       "datetime                                                                    \n",
       "2011-01-01 00:00:00        0           0        4  9.84  14.395        81   \n",
       "2011-01-01 01:00:00        0           0        4  9.02  13.635        80   \n",
       "2011-01-01 02:00:00        0           0        4  9.02  13.635        80   \n",
       "2011-01-01 03:00:00        0           0        4  9.84  14.395        75   \n",
       "2011-01-01 04:00:00        0           0        4  9.84  14.395        75   \n",
       "\n",
       "                     windspeed  count  season_Fall  season_Spring  \\\n",
       "datetime                                                            \n",
       "2011-01-01 00:00:00        0.0     16            0              1   \n",
       "2011-01-01 01:00:00        0.0     40            0              1   \n",
       "2011-01-01 02:00:00        0.0     32            0              1   \n",
       "2011-01-01 03:00:00        0.0     13            0              1   \n",
       "2011-01-01 04:00:00        0.0      1            0              1   \n",
       "\n",
       "                     season_Summer  season_Winter  PREDICTION  PREDICTION2  \n",
       "datetime                                                                    \n",
       "2011-01-01 00:00:00              0              0   15.978198    16.069392  \n",
       "2011-01-01 01:00:00              0              0   10.057679    10.147517  \n",
       "2011-01-01 02:00:00              0              0   10.057679    10.147517  \n",
       "2011-01-01 03:00:00              0              0   32.894049    32.991267  \n",
       "2011-01-01 04:00:00              0              0   32.894049    32.991267  "
      ]
     },
     "execution_count": 218,
     "metadata": {},
     "output_type": "execute_result"
    }
   ],
   "source": [
    "df.head()"
   ]
  },
  {
   "cell_type": "code",
   "execution_count": 192,
   "metadata": {},
   "outputs": [],
   "source": [
    "#next step is creating a training and test sets using both the train_test_split method and the datatime methods"
   ]
  },
  {
   "cell_type": "code",
   "execution_count": 193,
   "metadata": {},
   "outputs": [],
   "source": [
    "#datetime approach\n",
    "#first step of identifying the number of rows for the test set which is typically 20% \n",
    "test_amt = int(len(df)*.2)"
   ]
  },
  {
   "cell_type": "code",
   "execution_count": 194,
   "metadata": {},
   "outputs": [
    {
     "data": {
      "text/plain": [
       "2177"
      ]
     },
     "execution_count": 194,
     "metadata": {},
     "output_type": "execute_result"
    }
   ],
   "source": [
    "#value to show the result of the previous action\n",
    "# 2177 is the amount of rows the model will be tested\n",
    "test_amt"
   ]
  },
  {
   "cell_type": "code",
   "execution_count": 195,
   "metadata": {},
   "outputs": [],
   "source": [
    "# identifying the appropriate index position to begin\n",
    "test_index = len(df) - test_amt"
   ]
  },
  {
   "cell_type": "code",
   "execution_count": 196,
   "metadata": {},
   "outputs": [],
   "source": [
    "# this step is sorting the dataset by its index\n",
    "df = df.sort_index()"
   ]
  },
  {
   "cell_type": "code",
   "execution_count": 197,
   "metadata": {},
   "outputs": [],
   "source": [
    "#defining the X and y values for the linear regression\n",
    "X = df.drop('count', axis=1)\n",
    "y = df['count']"
   ]
  },
  {
   "cell_type": "code",
   "execution_count": 198,
   "metadata": {},
   "outputs": [],
   "source": [
    "#Now need to split the training and test sets apart\n",
    "X_train, X_test, y_train, y_test = X[:test_index].copy(), X[test_index:].copy(), y[:test_index].copy(), y[test_index:].copy()"
   ]
  },
  {
   "cell_type": "code",
   "execution_count": 199,
   "metadata": {},
   "outputs": [],
   "source": [
    "#now going to use the train_test_split method\n",
    "from sklearn.model_selection import train_test_split"
   ]
  },
  {
   "cell_type": "code",
   "execution_count": 251,
   "metadata": {},
   "outputs": [],
   "source": [
    "X_train, X_test, y_train, y_test = train_test_split(X, y)"
   ]
  },
  {
   "cell_type": "code",
   "execution_count": 252,
   "metadata": {},
   "outputs": [
    {
     "data": {
      "text/plain": [
       "0.2766039995627141"
      ]
     },
     "execution_count": 252,
     "metadata": {},
     "output_type": "execute_result"
    }
   ],
   "source": [
    "lreg = LinearRegression()\n",
    "lreg.fit(X_train, y_train)\n",
    "lreg.score(X_train, y_train)"
   ]
  },
  {
   "cell_type": "code",
   "execution_count": 253,
   "metadata": {},
   "outputs": [],
   "source": [
    "# Using validation test set from the training set should help improve the models predictions"
   ]
  },
  {
   "cell_type": "code",
   "execution_count": 254,
   "metadata": {},
   "outputs": [],
   "source": [
    "#creating a variable for the validation set which will be 20% of the training data set\n",
    "val_length = int(len(X_train)*.2)\n",
    "val_idx    = len(X_train) - val_length"
   ]
  },
  {
   "cell_type": "code",
   "execution_count": 255,
   "metadata": {},
   "outputs": [
    {
     "data": {
      "text/plain": [
       "(8164, 13)"
      ]
     },
     "execution_count": 255,
     "metadata": {},
     "output_type": "execute_result"
    }
   ],
   "source": [
    "X_train.shape"
   ]
  },
  {
   "cell_type": "code",
   "execution_count": 257,
   "metadata": {},
   "outputs": [
    {
     "data": {
      "text/html": [
       "<div>\n",
       "<style scoped>\n",
       "    .dataframe tbody tr th:only-of-type {\n",
       "        vertical-align: middle;\n",
       "    }\n",
       "\n",
       "    .dataframe tbody tr th {\n",
       "        vertical-align: top;\n",
       "    }\n",
       "\n",
       "    .dataframe thead th {\n",
       "        text-align: right;\n",
       "    }\n",
       "</style>\n",
       "<table border=\"1\" class=\"dataframe\">\n",
       "  <thead>\n",
       "    <tr style=\"text-align: right;\">\n",
       "      <th></th>\n",
       "      <th>holiday</th>\n",
       "      <th>workingday</th>\n",
       "      <th>weather</th>\n",
       "      <th>temp</th>\n",
       "      <th>atemp</th>\n",
       "      <th>humidity</th>\n",
       "      <th>windspeed</th>\n",
       "      <th>season_Fall</th>\n",
       "      <th>season_Spring</th>\n",
       "      <th>season_Summer</th>\n",
       "      <th>season_Winter</th>\n",
       "      <th>PREDICTION</th>\n",
       "      <th>PREDICTION2</th>\n",
       "    </tr>\n",
       "  </thead>\n",
       "  <tbody>\n",
       "    <tr>\n",
       "      <td>count</td>\n",
       "      <td>8164.000000</td>\n",
       "      <td>8164.000000</td>\n",
       "      <td>8164.000000</td>\n",
       "      <td>8164.000000</td>\n",
       "      <td>8164.000000</td>\n",
       "      <td>8164.000000</td>\n",
       "      <td>8164.000000</td>\n",
       "      <td>8164.000000</td>\n",
       "      <td>8164.000000</td>\n",
       "      <td>8164.000000</td>\n",
       "      <td>8164.000000</td>\n",
       "      <td>8164.000000</td>\n",
       "      <td>8164.000000</td>\n",
       "    </tr>\n",
       "    <tr>\n",
       "      <td>mean</td>\n",
       "      <td>0.027560</td>\n",
       "      <td>0.681406</td>\n",
       "      <td>3.578025</td>\n",
       "      <td>20.208621</td>\n",
       "      <td>23.630736</td>\n",
       "      <td>61.760534</td>\n",
       "      <td>12.850359</td>\n",
       "      <td>0.247428</td>\n",
       "      <td>0.247795</td>\n",
       "      <td>0.254165</td>\n",
       "      <td>0.250612</td>\n",
       "      <td>191.818877</td>\n",
       "      <td>191.826838</td>\n",
       "    </tr>\n",
       "    <tr>\n",
       "      <td>std</td>\n",
       "      <td>0.163719</td>\n",
       "      <td>0.465960</td>\n",
       "      <td>0.638633</td>\n",
       "      <td>7.796603</td>\n",
       "      <td>8.486470</td>\n",
       "      <td>19.136264</td>\n",
       "      <td>8.164608</td>\n",
       "      <td>0.431544</td>\n",
       "      <td>0.431759</td>\n",
       "      <td>0.435417</td>\n",
       "      <td>0.433392</td>\n",
       "      <td>95.160864</td>\n",
       "      <td>95.125415</td>\n",
       "    </tr>\n",
       "    <tr>\n",
       "      <td>min</td>\n",
       "      <td>0.000000</td>\n",
       "      <td>0.000000</td>\n",
       "      <td>1.000000</td>\n",
       "      <td>0.820000</td>\n",
       "      <td>0.760000</td>\n",
       "      <td>0.000000</td>\n",
       "      <td>0.000000</td>\n",
       "      <td>0.000000</td>\n",
       "      <td>0.000000</td>\n",
       "      <td>0.000000</td>\n",
       "      <td>0.000000</td>\n",
       "      <td>-74.856977</td>\n",
       "      <td>-74.800764</td>\n",
       "    </tr>\n",
       "    <tr>\n",
       "      <td>25%</td>\n",
       "      <td>0.000000</td>\n",
       "      <td>0.000000</td>\n",
       "      <td>3.000000</td>\n",
       "      <td>13.940000</td>\n",
       "      <td>16.665000</td>\n",
       "      <td>47.000000</td>\n",
       "      <td>7.001500</td>\n",
       "      <td>0.000000</td>\n",
       "      <td>0.000000</td>\n",
       "      <td>0.000000</td>\n",
       "      <td>0.000000</td>\n",
       "      <td>124.738377</td>\n",
       "      <td>124.762514</td>\n",
       "    </tr>\n",
       "    <tr>\n",
       "      <td>50%</td>\n",
       "      <td>0.000000</td>\n",
       "      <td>1.000000</td>\n",
       "      <td>4.000000</td>\n",
       "      <td>20.500000</td>\n",
       "      <td>24.240000</td>\n",
       "      <td>61.000000</td>\n",
       "      <td>12.998000</td>\n",
       "      <td>0.000000</td>\n",
       "      <td>0.000000</td>\n",
       "      <td>0.000000</td>\n",
       "      <td>0.000000</td>\n",
       "      <td>188.437026</td>\n",
       "      <td>188.480486</td>\n",
       "    </tr>\n",
       "    <tr>\n",
       "      <td>75%</td>\n",
       "      <td>0.000000</td>\n",
       "      <td>1.000000</td>\n",
       "      <td>4.000000</td>\n",
       "      <td>26.240000</td>\n",
       "      <td>31.060000</td>\n",
       "      <td>77.000000</td>\n",
       "      <td>16.997900</td>\n",
       "      <td>0.000000</td>\n",
       "      <td>0.000000</td>\n",
       "      <td>1.000000</td>\n",
       "      <td>1.000000</td>\n",
       "      <td>258.732488</td>\n",
       "      <td>258.786351</td>\n",
       "    </tr>\n",
       "    <tr>\n",
       "      <td>max</td>\n",
       "      <td>1.000000</td>\n",
       "      <td>1.000000</td>\n",
       "      <td>4.000000</td>\n",
       "      <td>41.000000</td>\n",
       "      <td>45.455000</td>\n",
       "      <td>100.000000</td>\n",
       "      <td>56.996900</td>\n",
       "      <td>1.000000</td>\n",
       "      <td>1.000000</td>\n",
       "      <td>1.000000</td>\n",
       "      <td>1.000000</td>\n",
       "      <td>490.797501</td>\n",
       "      <td>490.741267</td>\n",
       "    </tr>\n",
       "  </tbody>\n",
       "</table>\n",
       "</div>"
      ],
      "text/plain": [
       "           holiday   workingday      weather         temp        atemp  \\\n",
       "count  8164.000000  8164.000000  8164.000000  8164.000000  8164.000000   \n",
       "mean      0.027560     0.681406     3.578025    20.208621    23.630736   \n",
       "std       0.163719     0.465960     0.638633     7.796603     8.486470   \n",
       "min       0.000000     0.000000     1.000000     0.820000     0.760000   \n",
       "25%       0.000000     0.000000     3.000000    13.940000    16.665000   \n",
       "50%       0.000000     1.000000     4.000000    20.500000    24.240000   \n",
       "75%       0.000000     1.000000     4.000000    26.240000    31.060000   \n",
       "max       1.000000     1.000000     4.000000    41.000000    45.455000   \n",
       "\n",
       "          humidity    windspeed  season_Fall  season_Spring  season_Summer  \\\n",
       "count  8164.000000  8164.000000  8164.000000    8164.000000    8164.000000   \n",
       "mean     61.760534    12.850359     0.247428       0.247795       0.254165   \n",
       "std      19.136264     8.164608     0.431544       0.431759       0.435417   \n",
       "min       0.000000     0.000000     0.000000       0.000000       0.000000   \n",
       "25%      47.000000     7.001500     0.000000       0.000000       0.000000   \n",
       "50%      61.000000    12.998000     0.000000       0.000000       0.000000   \n",
       "75%      77.000000    16.997900     0.000000       0.000000       1.000000   \n",
       "max     100.000000    56.996900     1.000000       1.000000       1.000000   \n",
       "\n",
       "       season_Winter   PREDICTION  PREDICTION2  \n",
       "count    8164.000000  8164.000000  8164.000000  \n",
       "mean        0.250612   191.818877   191.826838  \n",
       "std         0.433392    95.160864    95.125415  \n",
       "min         0.000000   -74.856977   -74.800764  \n",
       "25%         0.000000   124.738377   124.762514  \n",
       "50%         0.000000   188.437026   188.480486  \n",
       "75%         1.000000   258.732488   258.786351  \n",
       "max         1.000000   490.797501   490.741267  "
      ]
     },
     "execution_count": 257,
     "metadata": {},
     "output_type": "execute_result"
    }
   ],
   "source": [
    "X_train.describe()"
   ]
  },
  {
   "cell_type": "code",
   "execution_count": 258,
   "metadata": {},
   "outputs": [],
   "source": [
    "#creating an index in which to appropriately index the validation test set  \n",
    "X_train, X_val, y_train, y_val = X_train[:val_idx].copy(), X_train[val_idx:].copy(), y_train[:val_idx].copy(), y_train[val_idx:].copy()"
   ]
  },
  {
   "cell_type": "code",
   "execution_count": 259,
   "metadata": {},
   "outputs": [
    {
     "data": {
      "text/plain": [
       "(6532, 13)"
      ]
     },
     "execution_count": 259,
     "metadata": {},
     "output_type": "execute_result"
    }
   ],
   "source": [
    "X_train.shape"
   ]
  },
  {
   "cell_type": "code",
   "execution_count": 260,
   "metadata": {},
   "outputs": [],
   "source": [
    "# we'll standardize our data set using the values from the training set\n",
    "train_means = X_train.mean()\n",
    "train_stds  = X_train.std()\n",
    "\n",
    "# and now we'll go ahead and standardize away\n",
    "X_train -= train_means\n",
    "X_train /= train_stds\n",
    "\n",
    "X_val   -= train_means\n",
    "X_val   /= train_stds\n",
    "\n",
    "X_test  -= train_means\n",
    "X_test  /= train_stds"
   ]
  },
  {
   "cell_type": "code",
   "execution_count": 261,
   "metadata": {},
   "outputs": [],
   "source": [
    "#dropping previous predictions as it skews the data set\n",
    "#X_train.drop(['PREDICTION', 'PREDICTION2'], axis=1, inplace=True)\n",
    "#X_val.drop(['PREDICTION', 'PREDICTION2'], axis=1, inplace=True)\n",
    "#X_test.drop(['PREDICTION', 'PREDICTION2'], axis=1, inplace=True)\n"
   ]
  },
  {
   "cell_type": "code",
   "execution_count": 262,
   "metadata": {},
   "outputs": [
    {
     "data": {
      "text/plain": [
       "0.278837588105444"
      ]
     },
     "execution_count": 262,
     "metadata": {},
     "output_type": "execute_result"
    }
   ],
   "source": [
    "lreg.fit(X_train, y_train)\n",
    "lreg.score(X_train, y_train)"
   ]
  },
  {
   "cell_type": "code",
   "execution_count": 263,
   "metadata": {},
   "outputs": [
    {
     "data": {
      "text/plain": [
       "0.26731062895340807"
      ]
     },
     "execution_count": 263,
     "metadata": {},
     "output_type": "execute_result"
    }
   ],
   "source": [
    "### ISSUE here ###\n",
    "lreg.fit(X_train, y_train)\n",
    "lreg.score(X_val, y_val)"
   ]
  },
  {
   "cell_type": "code",
   "execution_count": 264,
   "metadata": {},
   "outputs": [],
   "source": [
    "coeffs = pd.DataFrame({\n",
    "    'Columns': X_train.columns,\n",
    "    'Weight' : lreg.coef_\n",
    "}).sort_values(by='Weight', ascending=False)"
   ]
  },
  {
   "cell_type": "code",
   "execution_count": 265,
   "metadata": {},
   "outputs": [
    {
     "data": {
      "text/html": [
       "<div>\n",
       "<style scoped>\n",
       "    .dataframe tbody tr th:only-of-type {\n",
       "        vertical-align: middle;\n",
       "    }\n",
       "\n",
       "    .dataframe tbody tr th {\n",
       "        vertical-align: top;\n",
       "    }\n",
       "\n",
       "    .dataframe thead th {\n",
       "        text-align: right;\n",
       "    }\n",
       "</style>\n",
       "<table border=\"1\" class=\"dataframe\">\n",
       "  <thead>\n",
       "    <tr style=\"text-align: right;\">\n",
       "      <th></th>\n",
       "      <th>Columns</th>\n",
       "      <th>Weight</th>\n",
       "    </tr>\n",
       "  </thead>\n",
       "  <tbody>\n",
       "    <tr>\n",
       "      <td>12</td>\n",
       "      <td>PREDICTION2</td>\n",
       "      <td>54691.770032</td>\n",
       "    </tr>\n",
       "    <tr>\n",
       "      <td>5</td>\n",
       "      <td>humidity</td>\n",
       "      <td>16011.414183</td>\n",
       "    </tr>\n",
       "    <tr>\n",
       "      <td>7</td>\n",
       "      <td>season_Fall</td>\n",
       "      <td>5628.119402</td>\n",
       "    </tr>\n",
       "    <tr>\n",
       "      <td>9</td>\n",
       "      <td>season_Summer</td>\n",
       "      <td>1172.224748</td>\n",
       "    </tr>\n",
       "    <tr>\n",
       "      <td>8</td>\n",
       "      <td>season_Spring</td>\n",
       "      <td>782.993813</td>\n",
       "    </tr>\n",
       "    <tr>\n",
       "      <td>2</td>\n",
       "      <td>weather</td>\n",
       "      <td>514.407645</td>\n",
       "    </tr>\n",
       "    <tr>\n",
       "      <td>0</td>\n",
       "      <td>holiday</td>\n",
       "      <td>447.095516</td>\n",
       "    </tr>\n",
       "    <tr>\n",
       "      <td>1</td>\n",
       "      <td>workingday</td>\n",
       "      <td>415.046786</td>\n",
       "    </tr>\n",
       "    <tr>\n",
       "      <td>6</td>\n",
       "      <td>windspeed</td>\n",
       "      <td>-1320.262112</td>\n",
       "    </tr>\n",
       "    <tr>\n",
       "      <td>4</td>\n",
       "      <td>atemp</td>\n",
       "      <td>-7366.495667</td>\n",
       "    </tr>\n",
       "    <tr>\n",
       "      <td>10</td>\n",
       "      <td>season_Winter</td>\n",
       "      <td>-7590.688177</td>\n",
       "    </tr>\n",
       "    <tr>\n",
       "      <td>3</td>\n",
       "      <td>temp</td>\n",
       "      <td>-18437.148341</td>\n",
       "    </tr>\n",
       "    <tr>\n",
       "      <td>11</td>\n",
       "      <td>PREDICTION</td>\n",
       "      <td>-26248.081795</td>\n",
       "    </tr>\n",
       "  </tbody>\n",
       "</table>\n",
       "</div>"
      ],
      "text/plain": [
       "          Columns        Weight\n",
       "12    PREDICTION2  54691.770032\n",
       "5        humidity  16011.414183\n",
       "7     season_Fall   5628.119402\n",
       "9   season_Summer   1172.224748\n",
       "8   season_Spring    782.993813\n",
       "2         weather    514.407645\n",
       "0         holiday    447.095516\n",
       "1      workingday    415.046786\n",
       "6       windspeed  -1320.262112\n",
       "4           atemp  -7366.495667\n",
       "10  season_Winter  -7590.688177\n",
       "3            temp -18437.148341\n",
       "11     PREDICTION -26248.081795"
      ]
     },
     "execution_count": 265,
     "metadata": {},
     "output_type": "execute_result"
    }
   ],
   "source": [
    "coeffs"
   ]
  },
  {
   "cell_type": "code",
   "execution_count": 279,
   "metadata": {},
   "outputs": [],
   "source": [
    "def get_val_scores(X_train=X_train, X_val=X_val):\n",
    "    new_val_score = lreg.fit(X_train, y_train).score(X_val, y_val)\n",
    "    return new_val_score"
   ]
  },
  {
   "cell_type": "code",
   "execution_count": 280,
   "metadata": {},
   "outputs": [],
   "source": [
    "earliest_date   = X_train.index.min()\n",
    "X_train['time'] = (X_train.index - earliest_date).days\n",
    "X_val['time']   = (X_val.index - earliest_date).days"
   ]
  },
  {
   "cell_type": "code",
   "execution_count": 281,
   "metadata": {},
   "outputs": [
    {
     "data": {
      "text/plain": [
       "0.6801529231836054"
      ]
     },
     "execution_count": 281,
     "metadata": {},
     "output_type": "execute_result"
    }
   ],
   "source": [
    "get_val_scores()"
   ]
  },
  {
   "cell_type": "code",
   "execution_count": 282,
   "metadata": {},
   "outputs": [],
   "source": [
    "X_train['hours'] = X_train.index.hour\n",
    "X_val['hours']   = X_val.index.hour"
   ]
  },
  {
   "cell_type": "code",
   "execution_count": 283,
   "metadata": {},
   "outputs": [
    {
     "data": {
      "text/plain": [
       "0.6802004857850756"
      ]
     },
     "execution_count": 283,
     "metadata": {},
     "output_type": "execute_result"
    }
   ],
   "source": [
    "get_val_scores(X_train=pd.get_dummies(X_train, columns=['hours']), X_val=pd.get_dummies(X_val, columns=['hours']))"
   ]
  },
  {
   "cell_type": "code",
   "execution_count": 284,
   "metadata": {},
   "outputs": [],
   "source": [
    "X_train = pd.get_dummies(X_train, columns=['hours'])\n",
    "X_val   = pd.get_dummies(X_val, columns=['hours'])"
   ]
  },
  {
   "cell_type": "code",
   "execution_count": 285,
   "metadata": {},
   "outputs": [],
   "source": [
    "# concatenate the training and validations sets\n",
    "X = pd.concat([X_train, X_val])\n",
    "y = pd.concat([y_train, y_val])"
   ]
  },
  {
   "cell_type": "code",
   "execution_count": 286,
   "metadata": {},
   "outputs": [
    {
     "data": {
      "text/plain": [
       "LinearRegression(copy_X=True, fit_intercept=True, n_jobs=None, normalize=False)"
      ]
     },
     "execution_count": 286,
     "metadata": {},
     "output_type": "execute_result"
    }
   ],
   "source": [
    "X -= X.mean()\n",
    "X /= X.std()\n",
    "lreg.fit(X, y)"
   ]
  },
  {
   "cell_type": "code",
   "execution_count": 289,
   "metadata": {},
   "outputs": [
    {
     "data": {
      "image/png": "[encoded data removed]",
      "text/plain": [
       "<Figure size 432x288 with 1 Axes>"
      ]
     },
     "metadata": {
      "needs_background": "light"
     },
     "output_type": "display_data"
    }
   ],
   "source": [
    "y.hist();"
   ]
  },
  {
   "cell_type": "code",
   "execution_count": null,
   "metadata": {},
   "outputs": [],
   "source": []
  }
 ],
 "metadata": {
  "kernelspec": {
   "display_name": "Python 3",
   "language": "python",
   "name": "python3"
  },
  "language_info": {
   "codemirror_mode": {
    "name": "ipython",
    "version": 3
   },
   "file_extension": ".py",
   "mimetype": "text/x-python",
   "name": "python",
   "nbconvert_exporter": "python",
   "pygments_lexer": "ipython3",
   "version": "3.7.4"
  }
 },
 "nbformat": 4,
 "nbformat_minor": 4
}
