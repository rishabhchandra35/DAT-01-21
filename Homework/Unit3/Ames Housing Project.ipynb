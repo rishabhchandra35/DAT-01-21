{
 "cells": [
  {
   "cell_type": "markdown",
   "metadata": {},
   "source": [
    "### Homework 3:  Master Regression on the Ames Housing Dataset"
   ]
  },
  {
   "cell_type": "markdown",
   "metadata": {},
   "source": [
    "This homework is meant to be a more open ended, exploratory way for students to complete their assignment for Homework project #3. \n",
    "\n",
    "Instead of doing the pre-assigned tasks in the other projects given, you can use this homework as a chance to develop your own model using the Ames Housing dataset.  It's meant to be a way to continue to refine the techniques and methods discussed in Unit 3 and make them your own."
   ]
  },
  {
   "cell_type": "markdown",
   "metadata": {},
   "source": [
    "Your homework assignment will be to synthesize the lessons taught in Unit 3, and present a coherent walk through of how you approached the modeling process."
   ]
  },
  {
   "cell_type": "markdown",
   "metadata": {},
   "source": [
    "**What You Will Turn In:**\n",
    "\n",
    "A jupyter notebook with code and commentary that walks us through the following:\n",
    "\n",
    " - Exploratory Data Analysis on the original data\n",
    "   - What values are highly correlated?  \n",
    "   - Are there unusual values anywhere that might cause problems?  Are there values of the `SalePrice` column that are out of sync with what we might normally expect?\n",
    "   \n",
    " - How were missing values imputed? \n",
    " - What cross validation strategy did you use and why?\n",
    "   - How did you interpret their results?\n",
    " - Your choice of analytical technique and how you decided to cross validate its best parameters\n",
    " - The use of pipelines to streamline your data processing and ensure correct alignment between training and test sets\n",
    " - Strategies you used to try and improve your score (it's okay if they didn't work -- just show us what you tried to do and why)\n",
    " - What features ended up having important causal impact on the target variable?\n",
    "  \n",
    "The end result should be a coherent walk through of how you approached the problem and developed a coherent solution to evaluate your data.\n",
    "\n",
    "Some other notes: \n",
    "\n",
    " - You can use the original dataset that was used in Unit 3's labs if you feel like sticking with this will help you retain the most important insights of the class.  \n",
    " - You also have the option of using the full dataset (provided in the data section) and/or portions of it.\n",
    "  - For example:  setting up the pipeline framework we created in class and then using that to incrementally bring in new columns, experiment with different ways of encoding them and then updating your pipeline is a useful way to extend the classes main teachings.  You could also just try and work with the whole thing if you're feeling courageous.\n",
    " - Making kaggle submissions to demonstrate whether or not your changes resulted in actual improvements is great, but not required if you struggle with the Kaggle UI.\n",
    " - If you feel more comfortable, you can walk through this **same process** using the `bikeshare` dataset as well if you think that's more useful for you."
   ]
  }
 ],
 "metadata": {
  "kernelspec": {
   "display_name": "Python 3",
   "language": "python",
   "name": "python3"
  },
  "language_info": {
   "codemirror_mode": {
    "name": "ipython",
    "version": 3
   },
   "file_extension": ".py",
   "mimetype": "text/x-python",
   "name": "python",
   "nbconvert_exporter": "python",
   "pygments_lexer": "ipython3",
   "version": "3.7.1"
  }
 },
 "nbformat": 4,
 "nbformat_minor": 2
}
