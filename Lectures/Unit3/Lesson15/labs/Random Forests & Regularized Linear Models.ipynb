{
 "cells": [
  {
   "cell_type": "markdown",
   "metadata": {},
   "source": [
    "### Lab:  Random Forests & Regularized Linear Models\n",
    "\n",
    "Welcome!  Today's lab is going to allow us to blend together a number of techniques that have been brewing throughout unit 3:\n",
    "\n",
    " - Cross validating the parameters of different models\n",
    " - Regularized Linear Models (Ridge & Lasso)\n",
    " - And our newly added technique:  the Random Forest!  \n",
    " \n",
    "We'll continue working on the Ames dataset, and see if we can implement the different methods we've discussed so far."
   ]
  },
  {
   "cell_type": "markdown",
   "metadata": {},
   "source": [
    "#### Step 1a:  Load in the training and the test set"
   ]
  },
  {
   "cell_type": "code",
   "execution_count": null,
   "metadata": {},
   "outputs": [],
   "source": [
    "# your answer here"
   ]
  },
  {
   "cell_type": "markdown",
   "metadata": {},
   "source": [
    "#### Step 1b: Create the `y` variable for `SalePrice`, remove it from the training set, and drop the indexes for both datasets.  Take the log of `SalePrice`."
   ]
  },
  {
   "cell_type": "code",
   "execution_count": null,
   "metadata": {},
   "outputs": [],
   "source": [
    "# your answer here"
   ]
  },
  {
   "cell_type": "markdown",
   "metadata": {},
   "source": [
    "#### Step 2: Fill in the missing values, using the techniques discussed so far\n",
    "\n",
    "**Note:** Like last time, you can copy & paste the answers from the solutions manual if the class is running out of time and/or you feel like you already understand the main points behind this step."
   ]
  },
  {
   "cell_type": "code",
   "execution_count": null,
   "metadata": {},
   "outputs": [],
   "source": [
    "# your answer here"
   ]
  },
  {
   "cell_type": "markdown",
   "metadata": {},
   "source": [
    "#### Step 3: Make Pipelines For Both a Random Forest and One of Ridge/Lasso\n",
    "\n",
    "Use the following steps for each one:\n",
    "\n",
    " - **Linear Models:**\n",
    "  - StandardScaler\n",
    "  - OrdinalEncoder (make sure to specify what columns you want this to apply to)\n",
    "  - OneHotEncoder\n",
    "  - Ridge/Lasso\n",
    "  \n",
    " - **Random Forests:**\n",
    "  - OrdinalEncoder\n",
    "  - OneHotEncoder\n",
    "  - RandomForest\n",
    "  \n",
    "**Note:** Do you understand why we're using different steps for each one?"
   ]
  },
  {
   "cell_type": "code",
   "execution_count": null,
   "metadata": {},
   "outputs": [],
   "source": [
    "# your answer here"
   ]
  },
  {
   "cell_type": "markdown",
   "metadata": {},
   "source": [
    "#### Step 4a: Cross Validate The Best Version of Alpha for Your Linear Model\n",
    "\n",
    "This will follow a process very similar to the previous class.\n",
    "\n",
    " - create your list of alphas using `np.logspace`\n",
    " - using a for-loop, do the following:\n",
    "  - set the value of alpha for your model to the current one\n",
    "  - use cross validation to arrive at the validation score\n",
    "  - log the value of the validation score & alpha to a list\n",
    "  \n",
    " When you're done you should have a list that looks something like this:\n",
    " \n",
    "  `[(0.86747374, .001), (0.8547574, 0.1), (0.8573584, 1)]`"
   ]
  },
  {
   "cell_type": "code",
   "execution_count": null,
   "metadata": {},
   "outputs": [],
   "source": [
    "# your answer here"
   ]
  },
  {
   "cell_type": "markdown",
   "metadata": {},
   "source": [
    "#### Step 4b: Set the value of alpha to the one that gave you the best cross validation results"
   ]
  },
  {
   "cell_type": "code",
   "execution_count": null,
   "metadata": {},
   "outputs": [],
   "source": [
    "# your answer here"
   ]
  },
  {
   "cell_type": "markdown",
   "metadata": {},
   "source": [
    "#### Step 5a: Cross Validate The Ideal Value for Max Samples For Your Random Forest\n",
    "\n",
    "This will follow a process very similar to the previous step.\n",
    "\n",
    " - create a list of values that ranges from 0.2 - 0.9\n",
    " - using a for-loop, do the following:\n",
    "  - set the value of max samples for your model to the current one\n",
    "  - use cross validation to arrive at the validation score\n",
    "  - log the value of the validation score & max samples to a list\n",
    "  \n",
    " When you're done you should have a list that looks something like this:\n",
    " \n",
    "  `[(0.86747374, .2), (0.8547574, 0.3), (0.8573584, 0.4)]`"
   ]
  },
  {
   "cell_type": "code",
   "execution_count": null,
   "metadata": {},
   "outputs": [],
   "source": [
    "# your answer here"
   ]
  },
  {
   "cell_type": "markdown",
   "metadata": {},
   "source": [
    "#### 5b: Set the value of `max_samples` in your pipeline to the best one found in your cross validation results"
   ]
  },
  {
   "cell_type": "code",
   "execution_count": null,
   "metadata": {},
   "outputs": [],
   "source": [
    "# your answer here"
   ]
  },
  {
   "cell_type": "markdown",
   "metadata": {},
   "source": [
    "#### Step 6: Fit your cross validated pipelines on your **entire** training set"
   ]
  },
  {
   "cell_type": "code",
   "execution_count": null,
   "metadata": {},
   "outputs": [],
   "source": [
    "# your answer here"
   ]
  },
  {
   "cell_type": "markdown",
   "metadata": {},
   "source": [
    "#### Step 7: Make predictions on your test set using each of your pipelines.\n",
    "\n",
    "**Note:** If you want the predictions to be in their original units, use the `np.exp()` method to transform your predictions."
   ]
  },
  {
   "cell_type": "code",
   "execution_count": null,
   "metadata": {},
   "outputs": [],
   "source": [
    "# your answer here"
   ]
  },
  {
   "cell_type": "markdown",
   "metadata": {},
   "source": [
    "#### Bonus: Put your predictions into a dataframe"
   ]
  },
  {
   "cell_type": "code",
   "execution_count": null,
   "metadata": {},
   "outputs": [],
   "source": [
    "# your answer here"
   ]
  }
 ],
 "metadata": {
  "kernelspec": {
   "display_name": "Python 3",
   "language": "python",
   "name": "python3"
  },
  "language_info": {
   "codemirror_mode": {
    "name": "ipython",
    "version": 3
   },
   "file_extension": ".py",
   "mimetype": "text/x-python",
   "name": "python",
   "nbconvert_exporter": "python",
   "pygments_lexer": "ipython3",
   "version": "3.7.1"
  }
 },
 "nbformat": 4,
 "nbformat_minor": 4
}
