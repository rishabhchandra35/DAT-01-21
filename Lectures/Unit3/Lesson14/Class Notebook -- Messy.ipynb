{
 "cells": [
  {
   "cell_type": "code",
   "execution_count": 1,
   "metadata": {},
   "outputs": [],
   "source": [
    "import pandas as pd\n",
    "import numpy as np"
   ]
  },
  {
   "cell_type": "code",
   "execution_count": 2,
   "metadata": {},
   "outputs": [],
   "source": [
    "df = pd.read_csv('../data/housing.csv')"
   ]
  },
  {
   "cell_type": "code",
   "execution_count": 3,
   "metadata": {},
   "outputs": [],
   "source": [
    "from sklearn.model_selection import train_test_split, cross_val_score\n",
    "from sklearn.linear_model import LinearRegression"
   ]
  },
  {
   "cell_type": "code",
   "execution_count": 4,
   "metadata": {},
   "outputs": [],
   "source": [
    "lreg = LinearRegression()\n",
    "X = df.drop('PRICE', axis=1)\n",
    "y = df['PRICE']\n",
    "\n",
    "X_train, X_test, y_train, y_test = train_test_split(X, y, test_size=0.2, random_state=2020)"
   ]
  },
  {
   "cell_type": "code",
   "execution_count": 5,
   "metadata": {},
   "outputs": [
    {
     "data": {
      "text/plain": [
       "array([0.49945536, 0.62090992, 0.68073943, 0.66394911, 0.3934969 ,\n",
       "       0.72625023, 0.77370567, 0.79414459, 0.83785026, 0.78381453])"
      ]
     },
     "execution_count": 5,
     "metadata": {},
     "output_type": "execute_result"
    }
   ],
   "source": [
    "cross_val_score(estimator=lreg, X=X_train, y=y_train, cv=10)"
   ]
  },
  {
   "cell_type": "code",
   "execution_count": 6,
   "metadata": {},
   "outputs": [
    {
     "data": {
      "text/plain": [
       "LinearRegression(copy_X=True, fit_intercept=True, n_jobs=None, normalize=False)"
      ]
     },
     "execution_count": 6,
     "metadata": {},
     "output_type": "execute_result"
    }
   ],
   "source": [
    "lreg.fit(X_train, y_train)"
   ]
  },
  {
   "cell_type": "code",
   "execution_count": 7,
   "metadata": {},
   "outputs": [],
   "source": [
    "alpha = 10000"
   ]
  },
  {
   "cell_type": "code",
   "execution_count": 8,
   "metadata": {},
   "outputs": [
    {
     "data": {
      "text/plain": [
       "26.298529417494624"
      ]
     },
     "execution_count": 8,
     "metadata": {},
     "output_type": "execute_result"
    }
   ],
   "source": [
    "np.abs(lreg.coef_).sum()"
   ]
  },
  {
   "cell_type": "code",
   "execution_count": 9,
   "metadata": {},
   "outputs": [
    {
     "data": {
      "text/plain": [
       "9089.097809228135"
      ]
     },
     "execution_count": 9,
     "metadata": {},
     "output_type": "execute_result"
    }
   ],
   "source": [
    "np.sum((y_train - lreg.predict(X_train))**2)"
   ]
  },
  {
   "cell_type": "code",
   "execution_count": 10,
   "metadata": {},
   "outputs": [
    {
     "data": {
      "text/plain": [
       "3073893.8992837956"
      ]
     },
     "execution_count": 10,
     "metadata": {},
     "output_type": "execute_result"
    }
   ],
   "source": [
    "alpha*(lreg.coef_**2).sum()"
   ]
  },
  {
   "cell_type": "code",
   "execution_count": 11,
   "metadata": {},
   "outputs": [
    {
     "data": {
      "text/plain": [
       "array([-1.06957244e-01,  4.45558546e-02,  2.37053116e-02,  2.23742166e+00,\n",
       "       -1.68583938e+01,  3.87986730e+00,  5.46111202e-05, -1.37954394e+00,\n",
       "        3.04718275e-01, -1.21659387e-02, -9.14169249e-01,  9.14771590e-03,\n",
       "       -5.27828497e-01])"
      ]
     },
     "execution_count": 11,
     "metadata": {},
     "output_type": "execute_result"
    }
   ],
   "source": [
    "lreg.coef_"
   ]
  },
  {
   "cell_type": "code",
   "execution_count": 12,
   "metadata": {},
   "outputs": [
    {
     "data": {
      "text/plain": [
       "600.0"
      ]
     },
     "execution_count": 12,
     "metadata": {},
     "output_type": "execute_result"
    }
   ],
   "source": [
    "100*(3.5**2 - 2.5**2)"
   ]
  },
  {
   "cell_type": "code",
   "execution_count": 13,
   "metadata": {},
   "outputs": [],
   "source": [
    "from sklearn.linear_model import Ridge, Lasso"
   ]
  },
  {
   "cell_type": "code",
   "execution_count": 14,
   "metadata": {},
   "outputs": [],
   "source": [
    "ridge, lasso = Ridge(), Lasso()"
   ]
  },
  {
   "cell_type": "code",
   "execution_count": 15,
   "metadata": {},
   "outputs": [
    {
     "data": {
      "text/plain": [
       "Ridge(alpha=1.0, copy_X=True, fit_intercept=True, max_iter=None,\n",
       "      normalize=False, random_state=None, solver='auto', tol=0.001)"
      ]
     },
     "execution_count": 15,
     "metadata": {},
     "output_type": "execute_result"
    }
   ],
   "source": [
    "ridge"
   ]
  },
  {
   "cell_type": "code",
   "execution_count": 16,
   "metadata": {},
   "outputs": [],
   "source": [
    "ridge.alpha = 10000"
   ]
  },
  {
   "cell_type": "code",
   "execution_count": 17,
   "metadata": {},
   "outputs": [
    {
     "data": {
      "text/plain": [
       "Ridge(alpha=10000, copy_X=True, fit_intercept=True, max_iter=None,\n",
       "      normalize=False, random_state=None, solver='auto', tol=0.001)"
      ]
     },
     "execution_count": 17,
     "metadata": {},
     "output_type": "execute_result"
    }
   ],
   "source": [
    "ridge.fit(X_train, y_train)"
   ]
  },
  {
   "cell_type": "code",
   "execution_count": 18,
   "metadata": {},
   "outputs": [
    {
     "data": {
      "text/plain": [
       "array([-7.05534222e-02,  5.74457939e-02, -5.59530041e-02,  1.09558337e-02,\n",
       "       -4.21703719e-04,  8.85516842e-02,  2.06349886e-02, -8.96007975e-02,\n",
       "        1.19815324e-01, -1.37115961e-02, -1.43617695e-01,  8.35050952e-03,\n",
       "       -4.74676136e-01])"
      ]
     },
     "execution_count": 18,
     "metadata": {},
     "output_type": "execute_result"
    }
   ],
   "source": [
    "ridge.coef_"
   ]
  },
  {
   "cell_type": "code",
   "execution_count": 19,
   "metadata": {},
   "outputs": [
    {
     "data": {
      "text/plain": [
       "Lasso(alpha=1.0, copy_X=True, fit_intercept=True, max_iter=1000,\n",
       "      normalize=False, positive=False, precompute=False, random_state=None,\n",
       "      selection='cyclic', tol=0.0001, warm_start=False)"
      ]
     },
     "execution_count": 19,
     "metadata": {},
     "output_type": "execute_result"
    }
   ],
   "source": [
    "lasso.fit(X_train, y_train)"
   ]
  },
  {
   "cell_type": "code",
   "execution_count": 20,
   "metadata": {},
   "outputs": [
    {
     "data": {
      "text/plain": [
       "array([-0.06092354,  0.04545304, -0.        ,  0.        , -0.        ,\n",
       "        1.05001025,  0.02287044, -0.56125924,  0.25591408, -0.01475951,\n",
       "       -0.69776051,  0.00842163, -0.76068136])"
      ]
     },
     "execution_count": 20,
     "metadata": {},
     "output_type": "execute_result"
    }
   ],
   "source": [
    "lasso.coef_"
   ]
  },
  {
   "cell_type": "code",
   "execution_count": 21,
   "metadata": {},
   "outputs": [],
   "source": [
    "alphas = np.logspace(-3, 3, 7)"
   ]
  },
  {
   "cell_type": "code",
   "execution_count": 22,
   "metadata": {},
   "outputs": [],
   "source": [
    "cv_scores = []\n",
    "\n",
    "for alpha in alphas:\n",
    "    ridge.set_params(alpha=alpha)\n",
    "    scores = cross_val_score(estimator=ridge, X=X_train, y=y_train, cv=10)\n",
    "    cv_scores.append((min(scores), alpha))"
   ]
  },
  {
   "cell_type": "code",
   "execution_count": 23,
   "metadata": {},
   "outputs": [
    {
     "data": {
      "text/plain": [
       "(0.39347446425022914, 0.001)"
      ]
     },
     "execution_count": 23,
     "metadata": {},
     "output_type": "execute_result"
    }
   ],
   "source": [
    "max(cv_scores)"
   ]
  },
  {
   "cell_type": "code",
   "execution_count": 24,
   "metadata": {},
   "outputs": [
    {
     "data": {
      "text/plain": [
       "array([[-0.41174958, -0.48041482, -0.07436025, ...,  0.08173983,\n",
       "         0.37599244, -0.44009701],\n",
       "       [-0.42850904,  1.46175584, -1.10728653, ..., -1.47767444,\n",
       "         0.32970292, -1.11493712],\n",
       "       [-0.42044068, -0.48041482, -0.36762464, ...,  1.13663771,\n",
       "         0.30584965,  0.21215431],\n",
       "       ...,\n",
       "       [-0.40058181, -0.48041482, -0.53809359, ...,  0.54039108,\n",
       "         0.34647107, -0.11961855],\n",
       "       [ 1.06773675, -0.48041482,  1.01057351, ...,  0.81558184,\n",
       "         0.41460641,  1.84842981],\n",
       "       [-0.42807611,  2.10914606, -1.36010066, ..., -0.05585555,\n",
       "         0.36064133, -0.67727931]])"
      ]
     },
     "execution_count": 24,
     "metadata": {},
     "output_type": "execute_result"
    }
   ],
   "source": [
    "from sklearn.preprocessing import StandardScaler\n",
    "\n",
    "sc = StandardScaler()\n",
    "sc.fit_transform(X_train)"
   ]
  },
  {
   "cell_type": "code",
   "execution_count": 25,
   "metadata": {},
   "outputs": [
    {
     "data": {
      "text/plain": [
       "array([[ 1.43961437, -0.48041482,  1.01057351, ...,  0.81558184,\n",
       "        -2.15422575,  1.01546817],\n",
       "       [-0.41193809,  0.46909083, -0.75768071, ...,  0.31106546,\n",
       "         0.16946089, -0.34409465],\n",
       "       [ 0.85174637, -0.48041482,  1.01057351, ...,  0.81558184,\n",
       "        -0.27902787,  2.45409175],\n",
       "       ...,\n",
       "       [-0.41070171,  0.46909083, -0.75768071, ...,  0.31106546,\n",
       "         0.12635968, -0.01232179],\n",
       "       [ 3.28801671, -0.48041482,  1.01057351, ...,  0.81558184,\n",
       "        -1.78095746,  1.05782215],\n",
       "       [-0.43156555, -0.48041482,  0.40237496, ..., -0.92729293,\n",
       "         0.36619135,  0.13026995]])"
      ]
     },
     "execution_count": 25,
     "metadata": {},
     "output_type": "execute_result"
    }
   ],
   "source": [
    "sc.transform(X_test)"
   ]
  },
  {
   "cell_type": "code",
   "execution_count": 26,
   "metadata": {},
   "outputs": [],
   "source": [
    "from sklearn.pipeline import make_pipeline\n",
    "\n",
    "pipe = make_pipeline(sc, ridge)"
   ]
  },
  {
   "cell_type": "code",
   "execution_count": 27,
   "metadata": {
    "scrolled": true
   },
   "outputs": [
    {
     "data": {
      "text/plain": [
       "Pipeline(memory=None,\n",
       "         steps=[('standardscaler',\n",
       "                 StandardScaler(copy=True, with_mean=True, with_std=True)),\n",
       "                ('ridge',\n",
       "                 Ridge(alpha=1000.0, copy_X=True, fit_intercept=True,\n",
       "                       max_iter=None, normalize=False, random_state=None,\n",
       "                       solver='auto', tol=0.001))],\n",
       "         verbose=False)"
      ]
     },
     "execution_count": 27,
     "metadata": {},
     "output_type": "execute_result"
    }
   ],
   "source": [
    "pipe.fit(X_train, y_train)"
   ]
  },
  {
   "cell_type": "code",
   "execution_count": 28,
   "metadata": {},
   "outputs": [
    {
     "data": {
      "text/plain": [
       "array([18.61264065, 23.89790735, 15.82072225, 28.75573419, 24.58108404,\n",
       "       21.64373018, 25.77068315, 20.98322869, 17.58047018, 26.54314078,\n",
       "       26.44676788, 18.5774517 , 24.03534795, 29.14314292, 17.03786231,\n",
       "       22.40026083, 16.51113464, 24.27901034, 24.33089874, 20.40845662,\n",
       "       20.0796294 , 27.94456949, 21.51710373, 26.56935474, 13.47772384,\n",
       "       13.55908443, 24.76264396, 17.52142434, 27.26478773, 16.04421386,\n",
       "       24.35386863, 26.65069337,  8.93148912, 23.99402339, 21.56455087,\n",
       "       21.27218598, 22.69843435, 26.01496891, 20.6671905 , 19.93064201,\n",
       "       24.21619577, 22.95094889, 18.48129859, 28.73518767, 23.5413658 ,\n",
       "       20.55739241, 25.69356749, 17.02217011, 24.79941937, 28.51961884,\n",
       "       27.91167077, 26.80403418, 21.51148124, 17.70720884, 21.04360456,\n",
       "       20.38147824, 26.75038983, 16.77632644, 14.98816647, 26.99365064,\n",
       "       26.16070614, 22.6521418 , 24.98754039, 31.35443201, 29.0090383 ,\n",
       "       25.23111745, 20.87503055, 13.22944049, 16.59776031, 22.50549782,\n",
       "       24.7230932 , 24.54194909, 26.62645713, 21.54041567, 23.11131124,\n",
       "       23.7852146 , 19.48965406, 27.56967454, 25.96765974, 23.54496783,\n",
       "       22.66613452, 16.33129174, 26.83493187, 28.74040237, 28.90360043,\n",
       "       18.49164991, 20.50889805, 21.87290388, 27.38707636, 18.42247257,\n",
       "       18.35033175, 20.96873974, 23.8554389 , 20.41679016, 23.21054368,\n",
       "       24.70182075, 16.53315504, 32.43037419, 21.1503009 , 22.33291908,\n",
       "       14.77004267, 24.36669265])"
      ]
     },
     "execution_count": 28,
     "metadata": {},
     "output_type": "execute_result"
    }
   ],
   "source": [
    "pipe.predict(X_test)"
   ]
  },
  {
   "cell_type": "code",
   "execution_count": 29,
   "metadata": {},
   "outputs": [],
   "source": [
    "from sklearn.preprocessing import StandardScaler\n",
    "\n",
    "sc = StandardScaler()"
   ]
  },
  {
   "cell_type": "code",
   "execution_count": 30,
   "metadata": {},
   "outputs": [
    {
     "data": {
      "text/plain": [
       "StandardScaler(copy=True, with_mean=True, with_std=True)"
      ]
     },
     "execution_count": 30,
     "metadata": {},
     "output_type": "execute_result"
    }
   ],
   "source": [
    "sc.fit(X_train)"
   ]
  },
  {
   "cell_type": "code",
   "execution_count": 31,
   "metadata": {},
   "outputs": [
    {
     "data": {
      "text/plain": [
       "array([[ 1.43961437, -0.48041482,  1.01057351, ...,  0.81558184,\n",
       "        -2.15422575,  1.01546817],\n",
       "       [-0.41193809,  0.46909083, -0.75768071, ...,  0.31106546,\n",
       "         0.16946089, -0.34409465],\n",
       "       [ 0.85174637, -0.48041482,  1.01057351, ...,  0.81558184,\n",
       "        -0.27902787,  2.45409175],\n",
       "       ...,\n",
       "       [-0.41070171,  0.46909083, -0.75768071, ...,  0.31106546,\n",
       "         0.12635968, -0.01232179],\n",
       "       [ 3.28801671, -0.48041482,  1.01057351, ...,  0.81558184,\n",
       "        -1.78095746,  1.05782215],\n",
       "       [-0.43156555, -0.48041482,  0.40237496, ..., -0.92729293,\n",
       "         0.36619135,  0.13026995]])"
      ]
     },
     "execution_count": 31,
     "metadata": {},
     "output_type": "execute_result"
    }
   ],
   "source": [
    "sc.transform(X_test)"
   ]
  },
  {
   "cell_type": "code",
   "execution_count": 32,
   "metadata": {},
   "outputs": [
    {
     "data": {
      "text/plain": [
       "array([5.91634448e+01, 5.36846651e+02, 4.79152135e+01, 6.45034801e-02,\n",
       "       1.32392481e-02, 5.06456506e-01, 7.79255225e+02, 4.40503552e+00,\n",
       "       7.60880551e+01, 2.88664528e+04, 4.75373346e+00, 7.17144695e+03,\n",
       "       5.01711456e+01])"
      ]
     },
     "execution_count": 32,
     "metadata": {},
     "output_type": "execute_result"
    }
   ],
   "source": [
    "sc.var_"
   ]
  },
  {
   "cell_type": "code",
   "execution_count": 33,
   "metadata": {},
   "outputs": [
    {
     "data": {
      "text/plain": [
       "array([3.36510626e+00, 1.11311881e+01, 1.11047277e+01, 6.93069307e-02,\n",
       "       5.54256683e-01, 6.28837376e+00, 6.87851485e+01, 3.80309876e+00,\n",
       "       9.55940594e+00, 4.06806931e+02, 1.84217822e+01, 3.61789307e+02,\n",
       "       1.25872772e+01])"
      ]
     },
     "execution_count": 33,
     "metadata": {},
     "output_type": "execute_result"
    }
   ],
   "source": [
    "sc.mean_"
   ]
  },
  {
   "cell_type": "code",
   "execution_count": 34,
   "metadata": {},
   "outputs": [],
   "source": [
    "from sklearn.pipeline import make_pipeline\n",
    "\n",
    "pipe = make_pipeline(sc, LinearRegression())"
   ]
  },
  {
   "cell_type": "code",
   "execution_count": 37,
   "metadata": {},
   "outputs": [
    {
     "data": {
      "text/plain": [
       "Pipeline(memory=None,\n",
       "         steps=[('standardscaler',\n",
       "                 StandardScaler(copy=True, with_mean=True, with_std=True)),\n",
       "                ('linearregression',\n",
       "                 LinearRegression(copy_X=True, fit_intercept=True, n_jobs=None,\n",
       "                                  normalize=False))],\n",
       "         verbose=False)"
      ]
     },
     "execution_count": 37,
     "metadata": {},
     "output_type": "execute_result"
    }
   ],
   "source": [
    "pipe.fit(X_train, y_train)"
   ]
  },
  {
   "cell_type": "code",
   "execution_count": 38,
   "metadata": {},
   "outputs": [
    {
     "data": {
      "text/plain": [
       "array([20.00101515, 20.28791996, 11.01110241, 30.96363775, 25.10775846,\n",
       "       18.29968819, 22.34584907, 25.53119837, 16.96133139, 27.41721052,\n",
       "       31.32722599, 14.1892731 , 23.17566495, 40.16731102, 14.49409236,\n",
       "       20.78246771, 13.28406375, 25.62698695, 20.16197915, 21.36932737,\n",
       "       17.45976865, 31.45637476, 17.72944877, 27.24873378,  6.64787399,\n",
       "        6.50259753, 25.69001089, 16.27186452, 32.9098371 , 14.64485892,\n",
       "       26.59272781, 27.89402778, -4.19547078, 23.85639883, 19.20707293,\n",
       "       19.71945987, 25.34683481, 20.98826507, 23.04293937, 13.90991899,\n",
       "       26.31233834, 22.40006257,  9.0153142 , 34.52580383, 25.7370247 ,\n",
       "       19.11759034, 20.45014258, 13.68798012, 24.80753665, 30.9571743 ,\n",
       "       32.3927216 , 27.14775914, 19.97213546, 11.97152171, 16.39737432,\n",
       "       18.36206545, 28.61296585, 13.62799241, 10.1407046 , 27.68208063,\n",
       "       25.48464464, 22.4867408 , 27.68541058, 43.26026554, 35.70072891,\n",
       "       25.47447112, 22.84682975,  8.01771253, 13.01416473, 18.80377499,\n",
       "       25.93535402, 22.01016823, 30.74701007, 17.95628127, 23.0556497 ,\n",
       "       21.02251114, 21.74926613, 25.221932  , 25.5575675 , 32.36163407,\n",
       "       22.50259045, 12.28366034, 32.74635154, 37.06581088, 34.52871439,\n",
       "       12.11517708, 20.58097239, 20.6961353 , 30.81266616, 18.63845986,\n",
       "       18.34720964, 18.48561998, 22.22870508, 17.19923432, 20.45175059,\n",
       "       21.72821686, 14.77967756, 43.16671877, 16.98263964, 16.69579533,\n",
       "       11.85610098, 26.14711863])"
      ]
     },
     "execution_count": 38,
     "metadata": {},
     "output_type": "execute_result"
    }
   ],
   "source": [
    "pipe.predict(X_test)"
   ]
  },
  {
   "cell_type": "code",
   "execution_count": null,
   "metadata": {},
   "outputs": [],
   "source": []
  }
 ],
 "metadata": {
  "kernelspec": {
   "display_name": "Python 3",
   "language": "python",
   "name": "python3"
  },
  "language_info": {
   "codemirror_mode": {
    "name": "ipython",
    "version": 3
   },
   "file_extension": ".py",
   "mimetype": "text/x-python",
   "name": "python",
   "nbconvert_exporter": "python",
   "pygments_lexer": "ipython3",
   "version": "3.7.4"
  }
 },
 "nbformat": 4,
 "nbformat_minor": 4
}
