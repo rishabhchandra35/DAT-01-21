{
 "cells": [
  {
   "cell_type": "markdown",
   "metadata": {},
   "source": [
    "### Lesson 12 Lab:  Linear Regression With the Bikeshare Dataset\n",
    "\n",
    "Welcome!  This notebook is designed to provide additional practice for people looking to get more familiar with Linear Regression and SciKit Learn.  \n",
    "\n",
    "The topic of the notebook is using Linear Regression to forecast demand for bikeshare stations.\n",
    "\n",
    "The dataset has the following columns:  \n",
    "\n",
    "  - **datetime:** a timestamp collected hourly.\n",
    "  - **season:** a categorical column that lists the current season for that observation\n",
    "  - **holiday:** a column (0 or 1), that detects whether or not it was a holiday\n",
    "  - **workingday:** a column (0 or 1), that encodes whether or not it was a workday or not\n",
    "  - **weather:** a categorical column that lists a light weather description for the observation\n",
    "  - **temp:** the temperature outside\n",
    "  - **atemp:** the temperature it feels like outside\n",
    "  - **humidity:** the humidity outside\n",
    "  - **windspeed:** the windspeed, in mph\n",
    "  - **count:** the number of bikes checked out during that hour\n",
    "  \n",
    "Your job is to build a regression model that appropriately captures the information available to make the most accurate predictions."
   ]
  },
  {
   "cell_type": "markdown",
   "metadata": {},
   "source": [
    "### Step 1:  Load in the Dataset\n",
    "\n",
    " - It's called `bikeshare.csv`\n",
    " - Make sure to make `datetime` a time column\n",
    " - It's not a bad idea to use it as an index column, although this isn't necessary."
   ]
  },
  {
   "cell_type": "code",
   "execution_count": 178,
   "metadata": {},
   "outputs": [],
   "source": [
    "# your answer here\n",
    "import pandas as pd\n",
    "import numpy as np\n",
    "df = pd.read_csv('../../data/bikeshare.csv', index_col='datetime', parse_dates=True)"
   ]
  },
  {
   "cell_type": "markdown",
   "metadata": {},
   "source": [
    "### Step 2: Transform Your Categorical Variables (If Necessary)\n",
    "\n",
    "This dataset has two categorical columns -- `weather` and `season`.  Judging by their description, decide if they ought to be ordinal (contains a natural rank) or nominal (no natural rank).\n",
    "\n",
    "Remember -- ordinal variables can be encoded using increasing integer values.  Ie, `SM --> 1`, `Med --> 2`, `Large --> 3`, etc.\n",
    "\n",
    "Nominal variables should be one-hot encoded via `pd.get_dummies`."
   ]
  },
  {
   "cell_type": "code",
   "execution_count": 179,
   "metadata": {},
   "outputs": [
    {
     "data": {
      "text/html": [
       "<div>\n",
       "<style scoped>\n",
       "    .dataframe tbody tr th:only-of-type {\n",
       "        vertical-align: middle;\n",
       "    }\n",
       "\n",
       "    .dataframe tbody tr th {\n",
       "        vertical-align: top;\n",
       "    }\n",
       "\n",
       "    .dataframe thead th {\n",
       "        text-align: right;\n",
       "    }\n",
       "</style>\n",
       "<table border=\"1\" class=\"dataframe\">\n",
       "  <thead>\n",
       "    <tr style=\"text-align: right;\">\n",
       "      <th></th>\n",
       "      <th>season</th>\n",
       "      <th>weather</th>\n",
       "    </tr>\n",
       "    <tr>\n",
       "      <th>datetime</th>\n",
       "      <th></th>\n",
       "      <th></th>\n",
       "    </tr>\n",
       "  </thead>\n",
       "  <tbody>\n",
       "    <tr>\n",
       "      <th>2011-01-01 00:00:00</th>\n",
       "      <td>Spring</td>\n",
       "      <td>Clear Skies</td>\n",
       "    </tr>\n",
       "    <tr>\n",
       "      <th>2011-01-01 01:00:00</th>\n",
       "      <td>Spring</td>\n",
       "      <td>Clear Skies</td>\n",
       "    </tr>\n",
       "    <tr>\n",
       "      <th>2011-01-01 02:00:00</th>\n",
       "      <td>Spring</td>\n",
       "      <td>Clear Skies</td>\n",
       "    </tr>\n",
       "    <tr>\n",
       "      <th>2011-01-01 03:00:00</th>\n",
       "      <td>Spring</td>\n",
       "      <td>Clear Skies</td>\n",
       "    </tr>\n",
       "    <tr>\n",
       "      <th>2011-01-01 04:00:00</th>\n",
       "      <td>Spring</td>\n",
       "      <td>Clear Skies</td>\n",
       "    </tr>\n",
       "    <tr>\n",
       "      <th>2011-01-01 05:00:00</th>\n",
       "      <td>Spring</td>\n",
       "      <td>Partly Cloudy</td>\n",
       "    </tr>\n",
       "    <tr>\n",
       "      <th>2011-01-01 06:00:00</th>\n",
       "      <td>Spring</td>\n",
       "      <td>Clear Skies</td>\n",
       "    </tr>\n",
       "    <tr>\n",
       "      <th>2011-01-01 07:00:00</th>\n",
       "      <td>Spring</td>\n",
       "      <td>Clear Skies</td>\n",
       "    </tr>\n",
       "    <tr>\n",
       "      <th>2011-01-01 08:00:00</th>\n",
       "      <td>Spring</td>\n",
       "      <td>Clear Skies</td>\n",
       "    </tr>\n",
       "    <tr>\n",
       "      <th>2011-01-01 09:00:00</th>\n",
       "      <td>Spring</td>\n",
       "      <td>Clear Skies</td>\n",
       "    </tr>\n",
       "    <tr>\n",
       "      <th>2011-01-01 10:00:00</th>\n",
       "      <td>Spring</td>\n",
       "      <td>Clear Skies</td>\n",
       "    </tr>\n",
       "    <tr>\n",
       "      <th>2011-01-01 11:00:00</th>\n",
       "      <td>Spring</td>\n",
       "      <td>Clear Skies</td>\n",
       "    </tr>\n",
       "    <tr>\n",
       "      <th>2011-01-01 12:00:00</th>\n",
       "      <td>Spring</td>\n",
       "      <td>Clear Skies</td>\n",
       "    </tr>\n",
       "    <tr>\n",
       "      <th>2011-01-01 13:00:00</th>\n",
       "      <td>Spring</td>\n",
       "      <td>Partly Cloudy</td>\n",
       "    </tr>\n",
       "    <tr>\n",
       "      <th>2011-01-01 14:00:00</th>\n",
       "      <td>Spring</td>\n",
       "      <td>Partly Cloudy</td>\n",
       "    </tr>\n",
       "    <tr>\n",
       "      <th>2011-01-01 15:00:00</th>\n",
       "      <td>Spring</td>\n",
       "      <td>Partly Cloudy</td>\n",
       "    </tr>\n",
       "    <tr>\n",
       "      <th>2011-01-01 16:00:00</th>\n",
       "      <td>Spring</td>\n",
       "      <td>Partly Cloudy</td>\n",
       "    </tr>\n",
       "    <tr>\n",
       "      <th>2011-01-01 17:00:00</th>\n",
       "      <td>Spring</td>\n",
       "      <td>Partly Cloudy</td>\n",
       "    </tr>\n",
       "    <tr>\n",
       "      <th>2011-01-01 18:00:00</th>\n",
       "      <td>Spring</td>\n",
       "      <td>Light Storms/Rain</td>\n",
       "    </tr>\n",
       "    <tr>\n",
       "      <th>2011-01-01 19:00:00</th>\n",
       "      <td>Spring</td>\n",
       "      <td>Light Storms/Rain</td>\n",
       "    </tr>\n",
       "    <tr>\n",
       "      <th>2011-01-01 20:00:00</th>\n",
       "      <td>Spring</td>\n",
       "      <td>Partly Cloudy</td>\n",
       "    </tr>\n",
       "    <tr>\n",
       "      <th>2011-01-01 21:00:00</th>\n",
       "      <td>Spring</td>\n",
       "      <td>Partly Cloudy</td>\n",
       "    </tr>\n",
       "    <tr>\n",
       "      <th>2011-01-01 22:00:00</th>\n",
       "      <td>Spring</td>\n",
       "      <td>Partly Cloudy</td>\n",
       "    </tr>\n",
       "    <tr>\n",
       "      <th>2011-01-01 23:00:00</th>\n",
       "      <td>Spring</td>\n",
       "      <td>Partly Cloudy</td>\n",
       "    </tr>\n",
       "    <tr>\n",
       "      <th>2011-01-02 00:00:00</th>\n",
       "      <td>Spring</td>\n",
       "      <td>Partly Cloudy</td>\n",
       "    </tr>\n",
       "    <tr>\n",
       "      <th>2011-01-02 01:00:00</th>\n",
       "      <td>Spring</td>\n",
       "      <td>Partly Cloudy</td>\n",
       "    </tr>\n",
       "    <tr>\n",
       "      <th>2011-01-02 02:00:00</th>\n",
       "      <td>Spring</td>\n",
       "      <td>Partly Cloudy</td>\n",
       "    </tr>\n",
       "    <tr>\n",
       "      <th>2011-01-02 03:00:00</th>\n",
       "      <td>Spring</td>\n",
       "      <td>Partly Cloudy</td>\n",
       "    </tr>\n",
       "    <tr>\n",
       "      <th>2011-01-02 04:00:00</th>\n",
       "      <td>Spring</td>\n",
       "      <td>Partly Cloudy</td>\n",
       "    </tr>\n",
       "    <tr>\n",
       "      <th>2011-01-02 06:00:00</th>\n",
       "      <td>Spring</td>\n",
       "      <td>Light Storms/Rain</td>\n",
       "    </tr>\n",
       "    <tr>\n",
       "      <th>...</th>\n",
       "      <td>...</td>\n",
       "      <td>...</td>\n",
       "    </tr>\n",
       "    <tr>\n",
       "      <th>2012-12-18 18:00:00</th>\n",
       "      <td>Winter</td>\n",
       "      <td>Clear Skies</td>\n",
       "    </tr>\n",
       "    <tr>\n",
       "      <th>2012-12-18 19:00:00</th>\n",
       "      <td>Winter</td>\n",
       "      <td>Clear Skies</td>\n",
       "    </tr>\n",
       "    <tr>\n",
       "      <th>2012-12-18 20:00:00</th>\n",
       "      <td>Winter</td>\n",
       "      <td>Clear Skies</td>\n",
       "    </tr>\n",
       "    <tr>\n",
       "      <th>2012-12-18 21:00:00</th>\n",
       "      <td>Winter</td>\n",
       "      <td>Clear Skies</td>\n",
       "    </tr>\n",
       "    <tr>\n",
       "      <th>2012-12-18 22:00:00</th>\n",
       "      <td>Winter</td>\n",
       "      <td>Clear Skies</td>\n",
       "    </tr>\n",
       "    <tr>\n",
       "      <th>2012-12-18 23:00:00</th>\n",
       "      <td>Winter</td>\n",
       "      <td>Clear Skies</td>\n",
       "    </tr>\n",
       "    <tr>\n",
       "      <th>2012-12-19 00:00:00</th>\n",
       "      <td>Winter</td>\n",
       "      <td>Clear Skies</td>\n",
       "    </tr>\n",
       "    <tr>\n",
       "      <th>2012-12-19 01:00:00</th>\n",
       "      <td>Winter</td>\n",
       "      <td>Clear Skies</td>\n",
       "    </tr>\n",
       "    <tr>\n",
       "      <th>2012-12-19 02:00:00</th>\n",
       "      <td>Winter</td>\n",
       "      <td>Clear Skies</td>\n",
       "    </tr>\n",
       "    <tr>\n",
       "      <th>2012-12-19 03:00:00</th>\n",
       "      <td>Winter</td>\n",
       "      <td>Clear Skies</td>\n",
       "    </tr>\n",
       "    <tr>\n",
       "      <th>2012-12-19 04:00:00</th>\n",
       "      <td>Winter</td>\n",
       "      <td>Clear Skies</td>\n",
       "    </tr>\n",
       "    <tr>\n",
       "      <th>2012-12-19 05:00:00</th>\n",
       "      <td>Winter</td>\n",
       "      <td>Clear Skies</td>\n",
       "    </tr>\n",
       "    <tr>\n",
       "      <th>2012-12-19 06:00:00</th>\n",
       "      <td>Winter</td>\n",
       "      <td>Clear Skies</td>\n",
       "    </tr>\n",
       "    <tr>\n",
       "      <th>2012-12-19 07:00:00</th>\n",
       "      <td>Winter</td>\n",
       "      <td>Clear Skies</td>\n",
       "    </tr>\n",
       "    <tr>\n",
       "      <th>2012-12-19 08:00:00</th>\n",
       "      <td>Winter</td>\n",
       "      <td>Clear Skies</td>\n",
       "    </tr>\n",
       "    <tr>\n",
       "      <th>2012-12-19 09:00:00</th>\n",
       "      <td>Winter</td>\n",
       "      <td>Clear Skies</td>\n",
       "    </tr>\n",
       "    <tr>\n",
       "      <th>2012-12-19 10:00:00</th>\n",
       "      <td>Winter</td>\n",
       "      <td>Clear Skies</td>\n",
       "    </tr>\n",
       "    <tr>\n",
       "      <th>2012-12-19 11:00:00</th>\n",
       "      <td>Winter</td>\n",
       "      <td>Clear Skies</td>\n",
       "    </tr>\n",
       "    <tr>\n",
       "      <th>2012-12-19 12:00:00</th>\n",
       "      <td>Winter</td>\n",
       "      <td>Clear Skies</td>\n",
       "    </tr>\n",
       "    <tr>\n",
       "      <th>2012-12-19 13:00:00</th>\n",
       "      <td>Winter</td>\n",
       "      <td>Clear Skies</td>\n",
       "    </tr>\n",
       "    <tr>\n",
       "      <th>2012-12-19 14:00:00</th>\n",
       "      <td>Winter</td>\n",
       "      <td>Clear Skies</td>\n",
       "    </tr>\n",
       "    <tr>\n",
       "      <th>2012-12-19 15:00:00</th>\n",
       "      <td>Winter</td>\n",
       "      <td>Clear Skies</td>\n",
       "    </tr>\n",
       "    <tr>\n",
       "      <th>2012-12-19 16:00:00</th>\n",
       "      <td>Winter</td>\n",
       "      <td>Clear Skies</td>\n",
       "    </tr>\n",
       "    <tr>\n",
       "      <th>2012-12-19 17:00:00</th>\n",
       "      <td>Winter</td>\n",
       "      <td>Clear Skies</td>\n",
       "    </tr>\n",
       "    <tr>\n",
       "      <th>2012-12-19 18:00:00</th>\n",
       "      <td>Winter</td>\n",
       "      <td>Clear Skies</td>\n",
       "    </tr>\n",
       "    <tr>\n",
       "      <th>2012-12-19 19:00:00</th>\n",
       "      <td>Winter</td>\n",
       "      <td>Clear Skies</td>\n",
       "    </tr>\n",
       "    <tr>\n",
       "      <th>2012-12-19 20:00:00</th>\n",
       "      <td>Winter</td>\n",
       "      <td>Clear Skies</td>\n",
       "    </tr>\n",
       "    <tr>\n",
       "      <th>2012-12-19 21:00:00</th>\n",
       "      <td>Winter</td>\n",
       "      <td>Clear Skies</td>\n",
       "    </tr>\n",
       "    <tr>\n",
       "      <th>2012-12-19 22:00:00</th>\n",
       "      <td>Winter</td>\n",
       "      <td>Clear Skies</td>\n",
       "    </tr>\n",
       "    <tr>\n",
       "      <th>2012-12-19 23:00:00</th>\n",
       "      <td>Winter</td>\n",
       "      <td>Clear Skies</td>\n",
       "    </tr>\n",
       "  </tbody>\n",
       "</table>\n",
       "<p>10886 rows × 2 columns</p>\n",
       "</div>"
      ],
      "text/plain": [
       "                     season            weather\n",
       "datetime                                      \n",
       "2011-01-01 00:00:00  Spring        Clear Skies\n",
       "2011-01-01 01:00:00  Spring        Clear Skies\n",
       "2011-01-01 02:00:00  Spring        Clear Skies\n",
       "2011-01-01 03:00:00  Spring        Clear Skies\n",
       "2011-01-01 04:00:00  Spring        Clear Skies\n",
       "2011-01-01 05:00:00  Spring      Partly Cloudy\n",
       "2011-01-01 06:00:00  Spring        Clear Skies\n",
       "2011-01-01 07:00:00  Spring        Clear Skies\n",
       "2011-01-01 08:00:00  Spring        Clear Skies\n",
       "2011-01-01 09:00:00  Spring        Clear Skies\n",
       "2011-01-01 10:00:00  Spring        Clear Skies\n",
       "2011-01-01 11:00:00  Spring        Clear Skies\n",
       "2011-01-01 12:00:00  Spring        Clear Skies\n",
       "2011-01-01 13:00:00  Spring      Partly Cloudy\n",
       "2011-01-01 14:00:00  Spring      Partly Cloudy\n",
       "2011-01-01 15:00:00  Spring      Partly Cloudy\n",
       "2011-01-01 16:00:00  Spring      Partly Cloudy\n",
       "2011-01-01 17:00:00  Spring      Partly Cloudy\n",
       "2011-01-01 18:00:00  Spring  Light Storms/Rain\n",
       "2011-01-01 19:00:00  Spring  Light Storms/Rain\n",
       "2011-01-01 20:00:00  Spring      Partly Cloudy\n",
       "2011-01-01 21:00:00  Spring      Partly Cloudy\n",
       "2011-01-01 22:00:00  Spring      Partly Cloudy\n",
       "2011-01-01 23:00:00  Spring      Partly Cloudy\n",
       "2011-01-02 00:00:00  Spring      Partly Cloudy\n",
       "2011-01-02 01:00:00  Spring      Partly Cloudy\n",
       "2011-01-02 02:00:00  Spring      Partly Cloudy\n",
       "2011-01-02 03:00:00  Spring      Partly Cloudy\n",
       "2011-01-02 04:00:00  Spring      Partly Cloudy\n",
       "2011-01-02 06:00:00  Spring  Light Storms/Rain\n",
       "...                     ...                ...\n",
       "2012-12-18 18:00:00  Winter        Clear Skies\n",
       "2012-12-18 19:00:00  Winter        Clear Skies\n",
       "2012-12-18 20:00:00  Winter        Clear Skies\n",
       "2012-12-18 21:00:00  Winter        Clear Skies\n",
       "2012-12-18 22:00:00  Winter        Clear Skies\n",
       "2012-12-18 23:00:00  Winter        Clear Skies\n",
       "2012-12-19 00:00:00  Winter        Clear Skies\n",
       "2012-12-19 01:00:00  Winter        Clear Skies\n",
       "2012-12-19 02:00:00  Winter        Clear Skies\n",
       "2012-12-19 03:00:00  Winter        Clear Skies\n",
       "2012-12-19 04:00:00  Winter        Clear Skies\n",
       "2012-12-19 05:00:00  Winter        Clear Skies\n",
       "2012-12-19 06:00:00  Winter        Clear Skies\n",
       "2012-12-19 07:00:00  Winter        Clear Skies\n",
       "2012-12-19 08:00:00  Winter        Clear Skies\n",
       "2012-12-19 09:00:00  Winter        Clear Skies\n",
       "2012-12-19 10:00:00  Winter        Clear Skies\n",
       "2012-12-19 11:00:00  Winter        Clear Skies\n",
       "2012-12-19 12:00:00  Winter        Clear Skies\n",
       "2012-12-19 13:00:00  Winter        Clear Skies\n",
       "2012-12-19 14:00:00  Winter        Clear Skies\n",
       "2012-12-19 15:00:00  Winter        Clear Skies\n",
       "2012-12-19 16:00:00  Winter        Clear Skies\n",
       "2012-12-19 17:00:00  Winter        Clear Skies\n",
       "2012-12-19 18:00:00  Winter        Clear Skies\n",
       "2012-12-19 19:00:00  Winter        Clear Skies\n",
       "2012-12-19 20:00:00  Winter        Clear Skies\n",
       "2012-12-19 21:00:00  Winter        Clear Skies\n",
       "2012-12-19 22:00:00  Winter        Clear Skies\n",
       "2012-12-19 23:00:00  Winter        Clear Skies\n",
       "\n",
       "[10886 rows x 2 columns]"
      ]
     },
     "execution_count": 179,
     "metadata": {},
     "output_type": "execute_result"
    }
   ],
   "source": [
    "# we'll take a look at categorical columns\n",
    "df.select_dtypes(include=np.object)"
   ]
  },
  {
   "cell_type": "code",
   "execution_count": 180,
   "metadata": {},
   "outputs": [
    {
     "data": {
      "text/plain": [
       "array(['Spring', 'Summer', 'Fall', 'Winter'], dtype=object)"
      ]
     },
     "execution_count": 180,
     "metadata": {},
     "output_type": "execute_result"
    }
   ],
   "source": [
    "# season looks like a nominal category\n",
    "df.season.unique()"
   ]
  },
  {
   "cell_type": "code",
   "execution_count": 181,
   "metadata": {},
   "outputs": [
    {
     "data": {
      "text/plain": [
       "array(['Clear Skies', 'Partly Cloudy', 'Light Storms/Rain',\n",
       "       'Heavy Storms/Rain'], dtype=object)"
      ]
     },
     "execution_count": 181,
     "metadata": {},
     "output_type": "execute_result"
    }
   ],
   "source": [
    "# weather, on the other hand, looks a bit more ordinal since\n",
    "# we're dealing with outdoor activities\n",
    "df.weather.unique()"
   ]
  },
  {
   "cell_type": "code",
   "execution_count": 182,
   "metadata": {},
   "outputs": [],
   "source": [
    "# so we'll go ahead and make our appropriate changes\n",
    "weather_vals = df.weather.unique().tolist()\n",
    "df.weather.replace(['Clear Skies', 'Partly Cloudy', 'Light Storms/Rain', 'Heavy Storms/Rain'], [4, 3, 2, 1], inplace=True)"
   ]
  },
  {
   "cell_type": "code",
   "execution_count": 183,
   "metadata": {},
   "outputs": [],
   "source": [
    "# and one hot encode the remaining dataset\n",
    "df = pd.get_dummies(df)"
   ]
  },
  {
   "cell_type": "markdown",
   "metadata": {},
   "source": [
    "### Step 3: Create a Training & Test Set\n",
    "\n",
    "Given that there's a time based column, make the most recent values your test set.  Do a 20% split.  (You can use `train_test_split` for this, but it's not necessary.  You could also just sort by `datetime` and take the bottom 20% of rows for your test set).\n",
    "\n",
    "**Note:** You can use the argument `shuffle=False` if you want to use `train_test_split` without shuffling the data."
   ]
  },
  {
   "cell_type": "code",
   "execution_count": 184,
   "metadata": {},
   "outputs": [],
   "source": [
    "# get the number of rows for the test set\n",
    "test_length = int(len(df)*.2)\n",
    "# and get where that index position should start\n",
    "test_idx = len(df) - test_length\n",
    "# sort the dataset by its index\n",
    "df = df.sort_index()\n",
    "# declare X and y\n",
    "X = df.drop('count', axis=1)\n",
    "y = df['count']\n",
    "# and split into training and test set\n",
    "X_train, X_test, y_train, y_test = X[:test_idx].copy(), X[test_idx:].copy(), y[:test_idx].copy(), y[test_idx:].copy() "
   ]
  },
  {
   "cell_type": "markdown",
   "metadata": {},
   "source": [
    "### Step 4: Create a Validation Set From Your Training Set\n",
    "\n",
    "Remember....this is your test set within the training set.  Make it 20% of your training set."
   ]
  },
  {
   "cell_type": "code",
   "execution_count": 185,
   "metadata": {},
   "outputs": [],
   "source": [
    "# your code here\n",
    "val_length = int(len(X_train)*.2)\n",
    "# and where to start for the validation index\n",
    "val_idx    = len(X_train) - val_length"
   ]
  },
  {
   "cell_type": "code",
   "execution_count": 186,
   "metadata": {},
   "outputs": [],
   "source": [
    "# and create training and validation sets in the same way\n",
    "X_train, X_val, y_train, y_val = X_train[:val_idx].copy(), X_train[val_idx:].copy(), y_train[:val_idx].copy(), y_train[val_idx:].copy()"
   ]
  },
  {
   "cell_type": "markdown",
   "metadata": {},
   "source": [
    "### Step 5:  Do An Initial Fitting And Scoring of Your Model\n",
    "\n",
    " - Remember, fit on the training set, and score on the validation set.\n",
    " - Standardize your data before fitting\n",
    " - How much is your model overfitting (if at all)?\n",
    " - **Hint:** If you have a categorical value in your test set that's NOT in your training set, standardizing will give you some `NaN` values for columns.  Drop these columns from datasets before proceeding.  The `drop` method is the easiest way to do that."
   ]
  },
  {
   "cell_type": "code",
   "execution_count": 187,
   "metadata": {},
   "outputs": [],
   "source": [
    "# we'll standardize our data set using the values from the training set\n",
    "train_means = train.mean()\n",
    "train_stds  = train.std()\n",
    "\n",
    "# and now we'll go ahead and standardize away\n",
    "X_train -= train_means\n",
    "X_train /= train_stds\n",
    "\n",
    "X_val   -= train_means\n",
    "X_val   /= train_stds\n",
    "\n",
    "X_test  -= train_means\n",
    "X_test  /= train_stds"
   ]
  },
  {
   "cell_type": "code",
   "execution_count": 188,
   "metadata": {},
   "outputs": [
    {
     "data": {
      "text/html": [
       "<div>\n",
       "<style scoped>\n",
       "    .dataframe tbody tr th:only-of-type {\n",
       "        vertical-align: middle;\n",
       "    }\n",
       "\n",
       "    .dataframe tbody tr th {\n",
       "        vertical-align: top;\n",
       "    }\n",
       "\n",
       "    .dataframe thead th {\n",
       "        text-align: right;\n",
       "    }\n",
       "</style>\n",
       "<table border=\"1\" class=\"dataframe\">\n",
       "  <thead>\n",
       "    <tr style=\"text-align: right;\">\n",
       "      <th></th>\n",
       "      <th>holiday</th>\n",
       "      <th>workingday</th>\n",
       "      <th>weather</th>\n",
       "      <th>temp</th>\n",
       "      <th>atemp</th>\n",
       "      <th>humidity</th>\n",
       "      <th>windspeed</th>\n",
       "      <th>season_Fall</th>\n",
       "      <th>season_Spring</th>\n",
       "      <th>season_Summer</th>\n",
       "      <th>season_Winter</th>\n",
       "    </tr>\n",
       "    <tr>\n",
       "      <th>datetime</th>\n",
       "      <th></th>\n",
       "      <th></th>\n",
       "      <th></th>\n",
       "      <th></th>\n",
       "      <th></th>\n",
       "      <th></th>\n",
       "      <th></th>\n",
       "      <th></th>\n",
       "      <th></th>\n",
       "      <th></th>\n",
       "      <th></th>\n",
       "    </tr>\n",
       "  </thead>\n",
       "  <tbody>\n",
       "    <tr>\n",
       "      <th>2011-01-01 00:00:00</th>\n",
       "      <td>-0.150118</td>\n",
       "      <td>-1.464571</td>\n",
       "      <td>0.73743</td>\n",
       "      <td>-0.777813</td>\n",
       "      <td>-0.452098</td>\n",
       "      <td>0.961470</td>\n",
       "      <td>-1.633381</td>\n",
       "      <td>NaN</td>\n",
       "      <td>0.803247</td>\n",
       "      <td>-0.803247</td>\n",
       "      <td>NaN</td>\n",
       "    </tr>\n",
       "    <tr>\n",
       "      <th>2011-01-01 01:00:00</th>\n",
       "      <td>-0.150118</td>\n",
       "      <td>-1.464571</td>\n",
       "      <td>0.73743</td>\n",
       "      <td>-0.913255</td>\n",
       "      <td>-0.561231</td>\n",
       "      <td>0.915223</td>\n",
       "      <td>-1.633381</td>\n",
       "      <td>NaN</td>\n",
       "      <td>0.803247</td>\n",
       "      <td>-0.803247</td>\n",
       "      <td>NaN</td>\n",
       "    </tr>\n",
       "    <tr>\n",
       "      <th>2011-01-01 02:00:00</th>\n",
       "      <td>-0.150118</td>\n",
       "      <td>-1.464571</td>\n",
       "      <td>0.73743</td>\n",
       "      <td>-0.913255</td>\n",
       "      <td>-0.561231</td>\n",
       "      <td>0.915223</td>\n",
       "      <td>-1.633381</td>\n",
       "      <td>NaN</td>\n",
       "      <td>0.803247</td>\n",
       "      <td>-0.803247</td>\n",
       "      <td>NaN</td>\n",
       "    </tr>\n",
       "    <tr>\n",
       "      <th>2011-01-01 03:00:00</th>\n",
       "      <td>-0.150118</td>\n",
       "      <td>-1.464571</td>\n",
       "      <td>0.73743</td>\n",
       "      <td>-0.777813</td>\n",
       "      <td>-0.452098</td>\n",
       "      <td>0.683990</td>\n",
       "      <td>-1.633381</td>\n",
       "      <td>NaN</td>\n",
       "      <td>0.803247</td>\n",
       "      <td>-0.803247</td>\n",
       "      <td>NaN</td>\n",
       "    </tr>\n",
       "    <tr>\n",
       "      <th>2011-01-01 04:00:00</th>\n",
       "      <td>-0.150118</td>\n",
       "      <td>-1.464571</td>\n",
       "      <td>0.73743</td>\n",
       "      <td>-0.777813</td>\n",
       "      <td>-0.452098</td>\n",
       "      <td>0.683990</td>\n",
       "      <td>-1.633381</td>\n",
       "      <td>NaN</td>\n",
       "      <td>0.803247</td>\n",
       "      <td>-0.803247</td>\n",
       "      <td>NaN</td>\n",
       "    </tr>\n",
       "  </tbody>\n",
       "</table>\n",
       "</div>"
      ],
      "text/plain": [
       "                      holiday  workingday  weather      temp     atemp  \\\n",
       "datetime                                                                 \n",
       "2011-01-01 00:00:00 -0.150118   -1.464571  0.73743 -0.777813 -0.452098   \n",
       "2011-01-01 01:00:00 -0.150118   -1.464571  0.73743 -0.913255 -0.561231   \n",
       "2011-01-01 02:00:00 -0.150118   -1.464571  0.73743 -0.913255 -0.561231   \n",
       "2011-01-01 03:00:00 -0.150118   -1.464571  0.73743 -0.777813 -0.452098   \n",
       "2011-01-01 04:00:00 -0.150118   -1.464571  0.73743 -0.777813 -0.452098   \n",
       "\n",
       "                     humidity  windspeed  season_Fall  season_Spring  \\\n",
       "datetime                                                               \n",
       "2011-01-01 00:00:00  0.961470  -1.633381          NaN       0.803247   \n",
       "2011-01-01 01:00:00  0.915223  -1.633381          NaN       0.803247   \n",
       "2011-01-01 02:00:00  0.915223  -1.633381          NaN       0.803247   \n",
       "2011-01-01 03:00:00  0.683990  -1.633381          NaN       0.803247   \n",
       "2011-01-01 04:00:00  0.683990  -1.633381          NaN       0.803247   \n",
       "\n",
       "                     season_Summer  season_Winter  \n",
       "datetime                                           \n",
       "2011-01-01 00:00:00      -0.803247            NaN  \n",
       "2011-01-01 01:00:00      -0.803247            NaN  \n",
       "2011-01-01 02:00:00      -0.803247            NaN  \n",
       "2011-01-01 03:00:00      -0.803247            NaN  \n",
       "2011-01-01 04:00:00      -0.803247            NaN  "
      ]
     },
     "execution_count": 188,
     "metadata": {},
     "output_type": "execute_result"
    }
   ],
   "source": [
    "# there are no values for Fall & Winter in the training set, so we'll drop\n",
    "# these columns from ALL of the datasets\n",
    "X_train.head()"
   ]
  },
  {
   "cell_type": "code",
   "execution_count": 189,
   "metadata": {},
   "outputs": [],
   "source": [
    "# we drop the columns\n",
    "X_train.drop(['season_Fall', 'season_Winter'], axis=1, inplace=True)\n",
    "X_val.drop(['season_Fall', 'season_Winter'], axis=1, inplace=True)\n",
    "X_test.drop(['season_Fall', 'season_Winter'], axis=1, inplace=True)"
   ]
  },
  {
   "cell_type": "code",
   "execution_count": 190,
   "metadata": {},
   "outputs": [
    {
     "data": {
      "text/plain": [
       "0.10985493614840447"
      ]
     },
     "execution_count": 190,
     "metadata": {},
     "output_type": "execute_result"
    }
   ],
   "source": [
    "# and now fit\n",
    "from sklearn.linear_model import LinearRegression\n",
    "lreg = LinearRegression()\n",
    "\n",
    "lreg.fit(X_train, y_train)\n",
    "lreg.score(X_val, y_val)"
   ]
  },
  {
   "cell_type": "code",
   "execution_count": 191,
   "metadata": {},
   "outputs": [
    {
     "data": {
      "text/plain": [
       "0.2474252143867561"
      ]
     },
     "execution_count": 191,
     "metadata": {},
     "output_type": "execute_result"
    }
   ],
   "source": [
    "# for comparison sake, here's the score on our training set\n",
    "lreg.score(X_train, y_train)"
   ]
  },
  {
   "cell_type": "markdown",
   "metadata": {},
   "source": [
    "### Step 7: Look At Your Coefficients\n",
    "\n",
    "What seems to be having the most impact?"
   ]
  },
  {
   "cell_type": "code",
   "execution_count": 192,
   "metadata": {},
   "outputs": [
    {
     "data": {
      "text/html": [
       "<div>\n",
       "<style scoped>\n",
       "    .dataframe tbody tr th:only-of-type {\n",
       "        vertical-align: middle;\n",
       "    }\n",
       "\n",
       "    .dataframe tbody tr th {\n",
       "        vertical-align: top;\n",
       "    }\n",
       "\n",
       "    .dataframe thead th {\n",
       "        text-align: right;\n",
       "    }\n",
       "</style>\n",
       "<table border=\"1\" class=\"dataframe\">\n",
       "  <thead>\n",
       "    <tr style=\"text-align: right;\">\n",
       "      <th></th>\n",
       "      <th>Columns</th>\n",
       "      <th>Weight</th>\n",
       "    </tr>\n",
       "  </thead>\n",
       "  <tbody>\n",
       "    <tr>\n",
       "      <th>4</th>\n",
       "      <td>atemp</td>\n",
       "      <td>72.323980</td>\n",
       "    </tr>\n",
       "    <tr>\n",
       "      <th>6</th>\n",
       "      <td>windspeed</td>\n",
       "      <td>5.937165</td>\n",
       "    </tr>\n",
       "    <tr>\n",
       "      <th>2</th>\n",
       "      <td>weather</td>\n",
       "      <td>0.578726</td>\n",
       "    </tr>\n",
       "    <tr>\n",
       "      <th>0</th>\n",
       "      <td>holiday</td>\n",
       "      <td>-1.355740</td>\n",
       "    </tr>\n",
       "    <tr>\n",
       "      <th>1</th>\n",
       "      <td>workingday</td>\n",
       "      <td>-2.281312</td>\n",
       "    </tr>\n",
       "    <tr>\n",
       "      <th>8</th>\n",
       "      <td>season_Summer</td>\n",
       "      <td>-2.961368</td>\n",
       "    </tr>\n",
       "    <tr>\n",
       "      <th>7</th>\n",
       "      <td>season_Spring</td>\n",
       "      <td>-3.672773</td>\n",
       "    </tr>\n",
       "    <tr>\n",
       "      <th>3</th>\n",
       "      <td>temp</td>\n",
       "      <td>-26.089014</td>\n",
       "    </tr>\n",
       "    <tr>\n",
       "      <th>5</th>\n",
       "      <td>humidity</td>\n",
       "      <td>-44.646391</td>\n",
       "    </tr>\n",
       "  </tbody>\n",
       "</table>\n",
       "</div>"
      ],
      "text/plain": [
       "         Columns     Weight\n",
       "4          atemp  72.323980\n",
       "6      windspeed   5.937165\n",
       "2        weather   0.578726\n",
       "0        holiday  -1.355740\n",
       "1     workingday  -2.281312\n",
       "8  season_Summer  -2.961368\n",
       "7  season_Spring  -3.672773\n",
       "3           temp -26.089014\n",
       "5       humidity -44.646391"
      ]
     },
     "execution_count": 192,
     "metadata": {},
     "output_type": "execute_result"
    }
   ],
   "source": [
    "# your answer here -- \n",
    "coeffs = pd.DataFrame({\n",
    "    'Columns': X_train.columns,\n",
    "    'Weight' : lreg.coef_\n",
    "}).sort_values(by='Weight', ascending=False)\n",
    "# temperature & humidity dominate\n",
    "coeffs"
   ]
  },
  {
   "cell_type": "markdown",
   "metadata": {},
   "source": [
    "### Step 8: Build New Features (ie, Add New Columns To Your Dataset)\n",
    "\n",
    "This is your chance to think about ways to better capture the value and impact of time and other variables on the target variable (`count`).\n",
    "\n",
    "What you should do here is add a new feature to your training and validation set, re-run your model on the  training set, and score it on the validation set to see if it made an improvement.  \n",
    "\n",
    "A good place to start with this is extracting out different date parts to see if they improve your validation score.\n",
    "\n",
    "You can find information about the different dateparts in pandas here:  https://pandas.pydata.org/pandas-docs/version/0.24/reference/series.html#time-series-related\n",
    "\n",
    "Or if you're using the `datetime` column as an index:  https://pandas.pydata.org/pandas-docs/version/0.23.4/generated/pandas.DatetimeIndex.html\n",
    "\n",
    "Keep features if they improve your validation score, discard them if they don't.\n",
    "\n",
    "A few other ideas:  \n",
    "\n",
    " - you can create a column called `Daytime` that tests whether or not it's light outside.  (Ie, between 7PM - 7AM is `False`, `True` otherwise).  You could also get fancier and adjust the daylight hours depending on season.  \n",
    "\n",
    " - you can also create a variable that tracks the passage of time.  This can be done by finding the earliest date in the dataset, subtracting each observed date from that and extracting the datepart in days.  This way, if you have an upward or downward trend throughout the dataset, you'd be able to capture it.\n",
    "\n",
    "You could also try multiplying different columns together.  Maybe it being `Daytime`, `Sunny` and low humidity has a multiplicative effect that isn't totally captured by any of the variables by themselves.\n",
    "\n",
    "**Note:** Dateparts, despite being numbers, are probably best encoded as **nominal** variables.....think about it -- the 11 AM hour is something distinct from the 11 PM hour.....they are best interpreted as being separate categories than one continuous column.  You should onehot encode them."
   ]
  },
  {
   "cell_type": "code",
   "execution_count": 193,
   "metadata": {},
   "outputs": [],
   "source": [
    "# this function will help us out a little bit to quickly\n",
    "# get validation scores\n",
    "def get_val_scores(X_train=X_train, X_val=X_val):\n",
    "    new_val_score = lreg.fit(X_train, y_train).score(X_val, y_val)\n",
    "    return new_val_score"
   ]
  },
  {
   "cell_type": "markdown",
   "metadata": {},
   "source": [
    "Now, we'll take a look at a few different things"
   ]
  },
  {
   "cell_type": "code",
   "execution_count": 194,
   "metadata": {},
   "outputs": [
    {
     "data": {
      "text/plain": [
       "0.18569799119747787"
      ]
     },
     "execution_count": 194,
     "metadata": {},
     "output_type": "execute_result"
    }
   ],
   "source": [
    "# creating a column that tracks the passage of time in days\n",
    "# find the earliest value in the dataset\n",
    "earliest_date   = X_train.index.min()\n",
    "# capture the passage of time in days for both training and val\n",
    "X_train['time'] = (X_train.index - earliest_date).days\n",
    "X_val['time']   = (X_val.index - earliest_date).days\n",
    "# and get the new validation scores\n",
    "get_val_scores()\n",
    "# and this helped....."
   ]
  },
  {
   "cell_type": "code",
   "execution_count": 195,
   "metadata": {},
   "outputs": [
    {
     "data": {
      "text/plain": [
       "0.6042963256369845"
      ]
     },
     "execution_count": 195,
     "metadata": {},
     "output_type": "execute_result"
    }
   ],
   "source": [
    "# and now we'll do a few more, just to kick the tires a little bit\n",
    "# get the hour part from the timestamp\n",
    "X_train['hours'] = X_train.index.hour\n",
    "X_val['hours']   = X_val.index.hour\n",
    "# and get the new validation scores -- notice we're one hot encoding the hours column\n",
    "get_val_scores(X_train=pd.get_dummies(X_train, columns=['hours']), X_val=pd.get_dummies(X_val, columns=['hours']))\n",
    "# and this also helped -- quite a bit"
   ]
  },
  {
   "cell_type": "code",
   "execution_count": 196,
   "metadata": {},
   "outputs": [],
   "source": [
    "# so we'll go ahead and make the changes permanent to our dataset\n",
    "X_train = pd.get_dummies(X_train, columns=['hours'])\n",
    "X_val   = pd.get_dummies(X_val, columns=['hours'])"
   ]
  },
  {
   "cell_type": "code",
   "execution_count": 199,
   "metadata": {},
   "outputs": [
    {
     "data": {
      "text/plain": [
       "0.6042962172730286"
      ]
     },
     "execution_count": 199,
     "metadata": {},
     "output_type": "execute_result"
    }
   ],
   "source": [
    "# and we'll also go ahead and create a column for daytime / nighttime\n",
    "X_train['daylight'] = (X_train.index.hour >= 8) & (X_train.index.hour <= 19)\n",
    "X_val['daylight']   = (X_val.index.hour >= 8) & (X_val.index.hour <= 19)\n",
    "# and check the validation scores\n",
    "get_val_scores(X_train=pd.get_dummies(X_train, columns=['daylight']), X_val=pd.get_dummies(X_val, columns=['daylight']))\n",
    "# this didn't really move the needle at all, so we'll exclude it"
   ]
  },
  {
   "cell_type": "code",
   "execution_count": 200,
   "metadata": {},
   "outputs": [],
   "source": [
    "X_train.drop('daylight', axis=1, inplace=True)\n",
    "X_val.drop('daylight', axis=1, inplace=True)"
   ]
  },
  {
   "cell_type": "markdown",
   "metadata": {},
   "source": [
    "### Step 9: Fit Your Model On ALL of your training data\n",
    "\n",
    "An important step here -- now that you've figured out what columns to include, and what ones to exclude, concatenate your training and validation sets, and fit your model on ALL of your training data.\n",
    "\n",
    "The idea now is that you've found the features that help, you should give your model more samples to infer from.\n",
    "\n",
    "You would use the `pd.concat()` method here.\n",
    "\n",
    "Also -- for good measure, standardize all of your training data before fitting it."
   ]
  },
  {
   "cell_type": "code",
   "execution_count": 211,
   "metadata": {},
   "outputs": [
    {
     "data": {
      "text/plain": [
       "LinearRegression(copy_X=True, fit_intercept=True, n_jobs=None, normalize=False)"
      ]
     },
     "execution_count": 211,
     "metadata": {},
     "output_type": "execute_result"
    }
   ],
   "source": [
    "# concatenate\n",
    "X = pd.concat([X_train, X_val])\n",
    "y = pd.concat([y_train, y_val])\n",
    "# and fit the model on all of your training data\n",
    "X -= X.mean()\n",
    "X /= X.std()\n",
    "lreg.fit(X, y)"
   ]
  },
  {
   "cell_type": "markdown",
   "metadata": {},
   "source": [
    "### Step 10: Score Your Model on the Test Set\n",
    "\n",
    "Once you've found the best version of your model on your validation set, transform your test set so that it is setup the same way.\n",
    "\n",
    "Ie, if you added a column that improved your validation score, add that same column to your test set.  \n",
    "\n",
    "Remember to standardize your test set using the values from your training set.\n",
    "\n",
    "How close were your validation scores to your test set scores?"
   ]
  },
  {
   "cell_type": "code",
   "execution_count": 208,
   "metadata": {},
   "outputs": [],
   "source": [
    "# we'll add the two columns we used for validation\n",
    "X_test['time']  = (X_test.index - earliest_date).days\n",
    "X_test['hours'] = X_test.index.hour\n",
    "X_test          = pd.get_dummies(X_test, columns=['hours'])"
   ]
  },
  {
   "cell_type": "code",
   "execution_count": 209,
   "metadata": {},
   "outputs": [],
   "source": [
    "# and we will standardize our data before fitting\n",
    "X_test -= X.mean()\n",
    "X_test /= X.std()"
   ]
  },
  {
   "cell_type": "code",
   "execution_count": 212,
   "metadata": {},
   "outputs": [
    {
     "data": {
      "text/plain": [
       "0.6267223576507205"
      ]
     },
     "execution_count": 212,
     "metadata": {},
     "output_type": "execute_result"
    }
   ],
   "source": [
    "lreg.score(X_test, y_test)"
   ]
  },
  {
   "cell_type": "markdown",
   "metadata": {},
   "source": [
    "Overall......not too bad.  We were able to significantly improve our score based on the addition of various time based variables, and our test scores mapped pretty closely to our validation scores, meaning we weren't foolishly going down wrong paths."
   ]
  },
  {
   "cell_type": "markdown",
   "metadata": {},
   "source": [
    "### Diagnostics\n",
    "\n",
    "Now we'll look at a few different areas of your model to see if there's anything causing our results to be skewed."
   ]
  },
  {
   "cell_type": "markdown",
   "metadata": {},
   "source": [
    "### Step 11:  Look at the values of the `count` column in your training set.  Are any of them unusually large?\n",
    "\n",
    "A histogram is a good way to visualize this."
   ]
  },
  {
   "cell_type": "code",
   "execution_count": 228,
   "metadata": {},
   "outputs": [
    {
     "data": {
      "image/png": "[encoded data removed]",
      "text/plain": [
       "<Figure size 432x288 with 1 Axes>"
      ]
     },
     "metadata": {
      "needs_background": "light"
     },
     "output_type": "display_data"
    }
   ],
   "source": [
    "# there is a right tail for very large values, but maybe not disproportionately so\n",
    "y.hist();"
   ]
  },
  {
   "cell_type": "markdown",
   "metadata": {},
   "source": [
    "### Step 11:  Make a prediction on your test set, and calculate the error\n",
    "\n",
    "The error in this case is just the difference between the value for `count` and the value of your prediction."
   ]
  },
  {
   "cell_type": "code",
   "execution_count": 221,
   "metadata": {},
   "outputs": [],
   "source": [
    "# your answer here\n",
    "X_test['prediction'] = lreg.predict(X_test)\n",
    "X_test['error']      = X_test['prediction'] - y_test"
   ]
  },
  {
   "cell_type": "markdown",
   "metadata": {},
   "source": [
    "### Step 12:  Look at correlations between your error rates and the different columns in X.\n",
    "\n",
    "Is there anything that's systematically associated with your model making bad predictions?"
   ]
  },
  {
   "cell_type": "code",
   "execution_count": 231,
   "metadata": {},
   "outputs": [
    {
     "data": {
      "text/plain": [
       "humidity         2.827194e-01\n",
       "hours_17         2.007127e-01\n",
       "temp             1.608546e-01\n",
       "hours_18         1.561571e-01\n",
       "hours_8          1.363286e-01\n",
       "windspeed        1.342350e-01\n",
       "atemp            1.298737e-01\n",
       "hours_4          1.270231e-01\n",
       "hours_2          1.231382e-01\n",
       "hours_3          1.199816e-01\n",
       "hours_5          1.163684e-01\n",
       "hours_16         1.146672e-01\n",
       "hours_1          1.110987e-01\n",
       "hours_0          9.452705e-02\n",
       "hours_6          7.870973e-02\n",
       "hours_23         7.698381e-02\n",
       "time             7.541618e-02\n",
       "hours_19         7.201751e-02\n",
       "workingday       6.926366e-02\n",
       "hours_22         6.679521e-02\n",
       "weather          6.130952e-02\n",
       "hours_15         6.125358e-02\n",
       "hours_12         6.065356e-02\n",
       "hours_13         5.354990e-02\n",
       "hours_14         4.016055e-02\n",
       "hours_21         3.820816e-02\n",
       "hours_7          2.857389e-02\n",
       "hours_11         1.952264e-02\n",
       "holiday          1.202920e-02\n",
       "hours_9          1.148476e-02\n",
       "hours_10         1.145983e-02\n",
       "hours_20         4.926912e-03\n",
       "season_Summer    2.798884e-16\n",
       "season_Spring    2.783121e-16\n",
       "Name: error, dtype: float64"
      ]
     },
     "execution_count": 231,
     "metadata": {},
     "output_type": "execute_result"
    }
   ],
   "source": [
    "# your answer here -- we'll remove the error and prediction columns\n",
    "np.abs(X_test.corr()['error']).sort_values(ascending=False)[2:]"
   ]
  },
  {
   "cell_type": "code",
   "execution_count": 233,
   "metadata": {},
   "outputs": [
    {
     "data": {
      "text/plain": [
       "<matplotlib.axes._subplots.AxesSubplot at 0x247ceed66a0>"
      ]
     },
     "execution_count": 233,
     "metadata": {},
     "output_type": "execute_result"
    },
    {
     "data": {
      "image/png": "[encoded data removed]",
      "text/plain": [
       "<Figure size 432x288 with 2 Axes>"
      ]
     },
     "metadata": {
      "needs_background": "light"
     },
     "output_type": "display_data"
    }
   ],
   "source": [
    "# or if you want to visualize it\n",
    "import seaborn as sns\n",
    "sns.heatmap(X_test.corr()[['error']]);"
   ]
  },
  {
   "cell_type": "code",
   "execution_count": null,
   "metadata": {},
   "outputs": [],
   "source": []
  }
 ],
 "metadata": {
  "kernelspec": {
   "display_name": "Python 3",
   "language": "python",
   "name": "python3"
  },
  "language_info": {
   "codemirror_mode": {
    "name": "ipython",
    "version": 3
   },
   "file_extension": ".py",
   "mimetype": "text/x-python",
   "name": "python",
   "nbconvert_exporter": "python",
   "pygments_lexer": "ipython3",
   "version": "3.7.1"
  }
 },
 "nbformat": 4,
 "nbformat_minor": 2
}
