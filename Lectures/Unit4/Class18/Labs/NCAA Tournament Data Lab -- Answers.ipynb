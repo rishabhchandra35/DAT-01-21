{
 "cells": [
  {
   "cell_type": "markdown",
   "metadata": {},
   "source": [
    "### Men's NCAA Tournament Lab\n",
    "\n",
    "Welcome!  This lab is designed to introduce you all to building features and scoring models on game data from the NCAA tournament.  \n",
    "\n",
    "When you're done, you should be able to work through the basics of using predictive models in these types of situations."
   ]
  },
  {
   "cell_type": "markdown",
   "metadata": {},
   "source": [
    "**Step 1:** Import files for the seeds, ncaa tournament games, and regular season games.  Also import the exported csv you made from class for the initial one variable model you fit."
   ]
  },
  {
   "cell_type": "code",
   "execution_count": 1,
   "metadata": {},
   "outputs": [],
   "source": [
    "# your answer here\n",
    "import pandas as pd\n",
    "import numpy as np\n",
    "seeds = pd.read_csv('../data/NCAA/MNCAATourneySeeds.csv')\n",
    "results = pd.read_csv('../data/NCAA/MNCAATourneyCompactResults.csv')\n",
    "seasons = pd.read_csv('../data/NCAA/MRegularSeasonCompactResults.csv')\n",
    "game_data = pd.read_csv('../data/NCAA/game_data.csv')"
   ]
  },
  {
   "cell_type": "markdown",
   "metadata": {},
   "source": [
    "**Step 2:** Create a Training & Test Set, With the Test Set Comprising of All Games 2015 & After.  Use the exported csv from class for this, since it's already prepped."
   ]
  },
  {
   "cell_type": "code",
   "execution_count": 2,
   "metadata": {},
   "outputs": [],
   "source": [
    "# your answer here\n",
    "query = game_data.Season < 2015\n",
    "train = game_data[query].copy()\n",
    "test  = game_data[~query].copy()"
   ]
  },
  {
   "cell_type": "markdown",
   "metadata": {},
   "source": [
    "**Step 3:** Find an initial validation score with the 1 seed model, and a RandomForest Classifier, right out of the box.\n",
    "\n",
    " - Run KFold, using 10 splits\n",
    " - Just use the seed difference for X\n",
    " - FYI: The score being returned is prediction accuracy"
   ]
  },
  {
   "cell_type": "code",
   "execution_count": 3,
   "metadata": {},
   "outputs": [],
   "source": [
    "# your answer here\n",
    "from sklearn.model_selection import cross_val_score\n",
    "from sklearn.ensemble import RandomForestClassifier\n",
    "\n",
    "X = train[['SeedDiff']]\n",
    "y = train['Result']\n",
    "\n",
    "rf = RandomForestClassifier()\n",
    "\n",
    "scores = cross_val_score(estimator=rf, X=X, y=y, cv=10)"
   ]
  },
  {
   "cell_type": "markdown",
   "metadata": {},
   "source": [
    "What is your initial validation score?"
   ]
  },
  {
   "cell_type": "code",
   "execution_count": 4,
   "metadata": {},
   "outputs": [
    {
     "data": {
      "text/plain": [
       "0.7066865208877283"
      ]
     },
     "execution_count": 4,
     "metadata": {},
     "output_type": "execute_result"
    }
   ],
   "source": [
    "# take the average of all scores -- about 0.7\n",
    "np.mean(scores)"
   ]
  },
  {
   "cell_type": "markdown",
   "metadata": {},
   "source": [
    "**Step 4:** Create new data that captures the won-loss record of each team\n",
    "\n",
    "We're going to break this down into smaller steps to make it easier to digest"
   ]
  },
  {
   "cell_type": "markdown",
   "metadata": {},
   "source": [
    "**a).** Use `groupby()` to group teams based on `Season` and `WTeamID` in the dataset for regular season games.  Apply the `count()` aggregator to one of the columns to determine how many games each team won."
   ]
  },
  {
   "cell_type": "code",
   "execution_count": 5,
   "metadata": {},
   "outputs": [
    {
     "data": {
      "text/plain": [
       "Season  WTeamID\n",
       "1985    1102        5\n",
       "        1103        9\n",
       "        1104       21\n",
       "        1106       10\n",
       "        1108       19\n",
       "        1109        1\n",
       "        1110        7\n",
       "        1111       10\n",
       "        1112       18\n",
       "        1113       11\n",
       "        1114       17\n",
       "        1116       21\n",
       "        1117       11\n",
       "        1119       15\n",
       "        1120       18\n",
       "        1121        7\n",
       "        1122        6\n",
       "        1123       13\n",
       "        1124        7\n",
       "        1126        6\n",
       "        1129       12\n",
       "        1130       16\n",
       "        1131       14\n",
       "        1132       11\n",
       "        1133       16\n",
       "        1134       11\n",
       "        1135        8\n",
       "        1137       15\n",
       "        1139       16\n",
       "        1140       15\n",
       "                   ..\n",
       "2019    1435        9\n",
       "        1436       26\n",
       "        1437       25\n",
       "        1438       29\n",
       "        1439       24\n",
       "        1440        8\n",
       "        1441        6\n",
       "        1442        8\n",
       "        1443       20\n",
       "        1444        7\n",
       "        1447       11\n",
       "        1448       11\n",
       "        1449       26\n",
       "        1450       11\n",
       "        1451       16\n",
       "        1452       14\n",
       "        1453       15\n",
       "        1454        8\n",
       "        1455       19\n",
       "        1456       13\n",
       "        1457       15\n",
       "        1458       23\n",
       "        1459       26\n",
       "        1460       19\n",
       "        1461        7\n",
       "        1462       18\n",
       "        1463       21\n",
       "        1464       10\n",
       "        1465       12\n",
       "        1466        7\n",
       "Name: WScore, Length: 11227, dtype: int64"
      ]
     },
     "execution_count": 5,
     "metadata": {},
     "output_type": "execute_result"
    }
   ],
   "source": [
    "# your answer here\n",
    "seasons.groupby(['Season', 'WTeamID'])['WScore'].count()"
   ]
  },
  {
   "cell_type": "markdown",
   "metadata": {},
   "source": [
    "**b).** Save the grouping from the previous step as it's own variable, but with the following additions:\n",
    "\n",
    " - tack on the `reset_index()` method at the end -- note what this does\n",
    " - as an argument for the `reset_index()` method, pass in `name=Wins`"
   ]
  },
  {
   "cell_type": "code",
   "execution_count": 6,
   "metadata": {},
   "outputs": [],
   "source": [
    "# your answer here\n",
    "wins = seasons.groupby(['Season', 'WTeamID'])['WScore'].count().reset_index(name='Wins')"
   ]
  },
  {
   "cell_type": "markdown",
   "metadata": {},
   "source": [
    "**c).** Repeat steps `a` and `b`, but this time group in `LTeamID` and make the new column called `Losses` instead of `Wins`."
   ]
  },
  {
   "cell_type": "code",
   "execution_count": 7,
   "metadata": {},
   "outputs": [],
   "source": [
    "# your answer here\n",
    "losses = seasons.groupby(['Season', 'LTeamID'])['LScore'].count().reset_index(name='Losses')"
   ]
  },
  {
   "cell_type": "markdown",
   "metadata": {},
   "source": [
    "At this point -- look at the two variables you created, and just make sure you can make sense out of what they're telling you.  You should have two separate dataframes that tell you how many wins & losses each team in each season had from 1985 until tolday."
   ]
  },
  {
   "cell_type": "markdown",
   "metadata": {},
   "source": [
    "**Step 5:** Merge your data back into your original data set\n",
    "\n",
    "This can be a little tedious and time consuming, but you have to be careful in order to make sure you get it right."
   ]
  },
  {
   "cell_type": "markdown",
   "metadata": {},
   "source": [
    "**Part 1:** Building Features for Team 1\n",
    "\n",
    "**a).** How many games did team 1 win?\n",
    "\n",
    "Do the following merge:\n",
    "\n",
    " - **left dataset:**  the exported csv file from class\n",
    " - **right dataset:** the data with each team's losses\n",
    " - **merge type:** left\n",
    " - **left columns to join:** `'Season'`, `'T1TeamID'`\n",
    " - **right columns to join:** `'Season'`, `'WTeamID'`\n",
    " - **new column name:** `'T1Wins'`"
   ]
  },
  {
   "cell_type": "code",
   "execution_count": 8,
   "metadata": {},
   "outputs": [],
   "source": [
    "game_data = game_data.merge(wins, left_on=['Season', 'T1TeamID'], right_on=['Season', 'WTeamID'], how='left')\n",
    "game_data.columns.values[-1] = 'T1Wins'"
   ]
  },
  {
   "cell_type": "markdown",
   "metadata": {},
   "source": [
    "**b).** How many games did team 1 lose?\n",
    "\n",
    "Do the following merge:\n",
    "\n",
    " - **left dataset:**  the exported csv file from class\n",
    " - **right dataset:** the data with each team's losses\n",
    " - **merge type:** left\n",
    " - **left columns to join:** `'Season'`, `'T1TeamID'`\n",
    " - **right columns to join:** `'Season'`, `'LTeamID'`\n",
    " - **new column name:** `'T1Losses'`"
   ]
  },
  {
   "cell_type": "code",
   "execution_count": 9,
   "metadata": {},
   "outputs": [],
   "source": [
    "# your answer here\n",
    "#game_data.merge(losses, left_on=['Season', 'T1TeamID'], right_on=['Season', 'LTeamID'], how='left')\n",
    "game_data = game_data.merge(losses, left_on=['Season', 'T1TeamID'], right_on=['Season', 'LTeamID'], how='left')\n",
    "game_data.rename({'Losses': 'T1Losses'}, axis=1, inplace=True)"
   ]
  },
  {
   "cell_type": "markdown",
   "metadata": {},
   "source": [
    "**c).** Some teams have gone undefeated.  If that's the case there will be no entries for them in the loss column.  Fill in these values with 0 now."
   ]
  },
  {
   "cell_type": "code",
   "execution_count": 10,
   "metadata": {},
   "outputs": [],
   "source": [
    "# your answer here\n",
    "game_data['T1Losses'].fillna(0, inplace=True)"
   ]
  },
  {
   "cell_type": "markdown",
   "metadata": {},
   "source": [
    "**d).** You probably have some unnecessary columns right now.  Remove unnecessary columns created from the merges if they exist.  These are most likely going to be the `WTeamID` and `LTeamID` columns."
   ]
  },
  {
   "cell_type": "code",
   "execution_count": 11,
   "metadata": {},
   "outputs": [],
   "source": [
    "# your answer here\n",
    "game_data.drop(['WTeamID', 'LTeamID'], axis=1, inplace=True)"
   ]
  },
  {
   "cell_type": "markdown",
   "metadata": {},
   "source": [
    "**e).** Now create a new column called `T1WinPCT` that's the winning percentage of team 1."
   ]
  },
  {
   "cell_type": "code",
   "execution_count": 12,
   "metadata": {},
   "outputs": [],
   "source": [
    "# your answer here\n",
    "game_data['T1WinPct'] = game_data['T1Wins'] / (game_data['T1Wins'] + game_data['T1Losses'])"
   ]
  },
  {
   "cell_type": "markdown",
   "metadata": {},
   "source": [
    "**Part II:**  Build the same features for Team II\n",
    "\n",
    "Your turn:  Try and recreate the exact same features you just created for the first team, but for the second.\n",
    "\n",
    "**Hint:**  In your original dataset, swap out `T1TeamID` for `T2TeamID` for the merges."
   ]
  },
  {
   "cell_type": "code",
   "execution_count": 13,
   "metadata": {},
   "outputs": [],
   "source": [
    "# number of wins for team 2\n",
    "game_data = game_data.merge(wins, left_on=['Season', 'T2TeamID'], right_on=['Season', 'WTeamID'], how='left')\n",
    "game_data.columns.values[-1] = 'T2Wins'"
   ]
  },
  {
   "cell_type": "code",
   "execution_count": 14,
   "metadata": {},
   "outputs": [],
   "source": [
    "# number of losses for team 2\n",
    "game_data = game_data.merge(losses, left_on=['Season', 'T2TeamID'], right_on=['Season', 'LTeamID'], how='left')\n",
    "game_data.rename({'Losses': 'T2Losses'}, axis=1, inplace=True)"
   ]
  },
  {
   "cell_type": "code",
   "execution_count": 17,
   "metadata": {},
   "outputs": [],
   "source": [
    "# fill in the empty values\n",
    "game_data['T2Losses'].fillna(0, inplace=True)"
   ]
  },
  {
   "cell_type": "code",
   "execution_count": 19,
   "metadata": {},
   "outputs": [],
   "source": [
    "# and drop unnecessary columns\n",
    "game_data.drop(['WTeamID', 'LTeamID'], axis=1, inplace=True)"
   ]
  },
  {
   "cell_type": "code",
   "execution_count": 22,
   "metadata": {},
   "outputs": [],
   "source": [
    "# and Team 2 Win percentage\n",
    "game_data['T2WinPct'] = game_data['T2Wins'] / (game_data['T2Wins'] + game_data['T2Losses'])"
   ]
  },
  {
   "cell_type": "markdown",
   "metadata": {},
   "source": [
    "**Step 6:** Recreate your training and test sets from the original data source, using the same criteria as before"
   ]
  },
  {
   "cell_type": "code",
   "execution_count": 24,
   "metadata": {},
   "outputs": [],
   "source": [
    "# your answer here\n",
    "train = game_data[query].copy()\n",
    "test  = game_data[~query].copy()"
   ]
  },
  {
   "cell_type": "markdown",
   "metadata": {},
   "source": [
    "**Step 7:** Recreate `X` and `y`, except this time include the new features that you added -- Wins and losses for each team, as well as their winning percentage"
   ]
  },
  {
   "cell_type": "code",
   "execution_count": 27,
   "metadata": {},
   "outputs": [
    {
     "data": {
      "text/html": [
       "<div>\n",
       "<style scoped>\n",
       "    .dataframe tbody tr th:only-of-type {\n",
       "        vertical-align: middle;\n",
       "    }\n",
       "\n",
       "    .dataframe tbody tr th {\n",
       "        vertical-align: top;\n",
       "    }\n",
       "\n",
       "    .dataframe thead th {\n",
       "        text-align: right;\n",
       "    }\n",
       "</style>\n",
       "<table border=\"1\" class=\"dataframe\">\n",
       "  <thead>\n",
       "    <tr style=\"text-align: right;\">\n",
       "      <th></th>\n",
       "      <th>Season</th>\n",
       "      <th>T1TeamID</th>\n",
       "      <th>T1Score</th>\n",
       "      <th>T2TeamID</th>\n",
       "      <th>T2Score</th>\n",
       "      <th>T1Seed</th>\n",
       "      <th>T2Seed</th>\n",
       "      <th>SeedDiff</th>\n",
       "      <th>Result</th>\n",
       "      <th>T1Wins</th>\n",
       "      <th>T1Losses</th>\n",
       "      <th>T1WinPct</th>\n",
       "      <th>T2Wins</th>\n",
       "      <th>T2Losses</th>\n",
       "      <th>T2WinPct</th>\n",
       "    </tr>\n",
       "  </thead>\n",
       "  <tbody>\n",
       "    <tr>\n",
       "      <th>0</th>\n",
       "      <td>1985</td>\n",
       "      <td>1116</td>\n",
       "      <td>63</td>\n",
       "      <td>1234</td>\n",
       "      <td>54</td>\n",
       "      <td>9</td>\n",
       "      <td>8</td>\n",
       "      <td>1</td>\n",
       "      <td>1</td>\n",
       "      <td>21</td>\n",
       "      <td>12.0</td>\n",
       "      <td>0.636364</td>\n",
       "      <td>20</td>\n",
       "      <td>10.0</td>\n",
       "      <td>0.666667</td>\n",
       "    </tr>\n",
       "    <tr>\n",
       "      <th>1</th>\n",
       "      <td>1985</td>\n",
       "      <td>1120</td>\n",
       "      <td>59</td>\n",
       "      <td>1345</td>\n",
       "      <td>58</td>\n",
       "      <td>11</td>\n",
       "      <td>6</td>\n",
       "      <td>5</td>\n",
       "      <td>1</td>\n",
       "      <td>18</td>\n",
       "      <td>11.0</td>\n",
       "      <td>0.620690</td>\n",
       "      <td>17</td>\n",
       "      <td>8.0</td>\n",
       "      <td>0.680000</td>\n",
       "    </tr>\n",
       "    <tr>\n",
       "      <th>2</th>\n",
       "      <td>1985</td>\n",
       "      <td>1207</td>\n",
       "      <td>68</td>\n",
       "      <td>1250</td>\n",
       "      <td>43</td>\n",
       "      <td>1</td>\n",
       "      <td>16</td>\n",
       "      <td>-15</td>\n",
       "      <td>1</td>\n",
       "      <td>25</td>\n",
       "      <td>2.0</td>\n",
       "      <td>0.925926</td>\n",
       "      <td>11</td>\n",
       "      <td>18.0</td>\n",
       "      <td>0.379310</td>\n",
       "    </tr>\n",
       "    <tr>\n",
       "      <th>3</th>\n",
       "      <td>1985</td>\n",
       "      <td>1229</td>\n",
       "      <td>58</td>\n",
       "      <td>1425</td>\n",
       "      <td>55</td>\n",
       "      <td>9</td>\n",
       "      <td>8</td>\n",
       "      <td>1</td>\n",
       "      <td>1</td>\n",
       "      <td>20</td>\n",
       "      <td>7.0</td>\n",
       "      <td>0.740741</td>\n",
       "      <td>19</td>\n",
       "      <td>9.0</td>\n",
       "      <td>0.678571</td>\n",
       "    </tr>\n",
       "    <tr>\n",
       "      <th>4</th>\n",
       "      <td>1985</td>\n",
       "      <td>1242</td>\n",
       "      <td>49</td>\n",
       "      <td>1325</td>\n",
       "      <td>38</td>\n",
       "      <td>3</td>\n",
       "      <td>14</td>\n",
       "      <td>-11</td>\n",
       "      <td>1</td>\n",
       "      <td>23</td>\n",
       "      <td>7.0</td>\n",
       "      <td>0.766667</td>\n",
       "      <td>20</td>\n",
       "      <td>7.0</td>\n",
       "      <td>0.740741</td>\n",
       "    </tr>\n",
       "  </tbody>\n",
       "</table>\n",
       "</div>"
      ],
      "text/plain": [
       "   Season  T1TeamID  T1Score  T2TeamID  T2Score  T1Seed  T2Seed  SeedDiff  \\\n",
       "0    1985      1116       63      1234       54       9       8         1   \n",
       "1    1985      1120       59      1345       58      11       6         5   \n",
       "2    1985      1207       68      1250       43       1      16       -15   \n",
       "3    1985      1229       58      1425       55       9       8         1   \n",
       "4    1985      1242       49      1325       38       3      14       -11   \n",
       "\n",
       "   Result  T1Wins  T1Losses  T1WinPct  T2Wins  T2Losses  T2WinPct  \n",
       "0       1      21      12.0  0.636364      20      10.0  0.666667  \n",
       "1       1      18      11.0  0.620690      17       8.0  0.680000  \n",
       "2       1      25       2.0  0.925926      11      18.0  0.379310  \n",
       "3       1      20       7.0  0.740741      19       9.0  0.678571  \n",
       "4       1      23       7.0  0.766667      20       7.0  0.740741  "
      ]
     },
     "execution_count": 27,
     "metadata": {},
     "output_type": "execute_result"
    }
   ],
   "source": [
    "game_data.head()"
   ]
  },
  {
   "cell_type": "code",
   "execution_count": 37,
   "metadata": {},
   "outputs": [],
   "source": [
    "# your answer\n",
    "X = train[['SeedDiff', 'T1Wins', 'T2Losses','T1WinPct', 'T2Wins', 'T2Losses', 'T2WinPct']]\n",
    "y = train['Result']"
   ]
  },
  {
   "cell_type": "markdown",
   "metadata": {},
   "source": [
    "**Step 8:** Re-check your validation scores with the new data, using the same conditions that we did in the previous step.  See if your validation scores improved at all."
   ]
  },
  {
   "cell_type": "code",
   "execution_count": 38,
   "metadata": {},
   "outputs": [],
   "source": [
    "scores = cross_val_score(estimator=rf, X=X, y=y, cv=10)"
   ]
  },
  {
   "cell_type": "markdown",
   "metadata": {},
   "source": [
    "Did your results improve?"
   ]
  },
  {
   "cell_type": "code",
   "execution_count": 39,
   "metadata": {},
   "outputs": [
    {
     "data": {
      "text/plain": [
       "0.6717220137075719"
      ]
     },
     "execution_count": 39,
     "metadata": {},
     "output_type": "execute_result"
    }
   ],
   "source": [
    "# no, they didn't\n",
    "np.mean(scores)"
   ]
  },
  {
   "cell_type": "markdown",
   "metadata": {},
   "source": [
    "**Step 9:** Of the two different versions of our model that we just tested, take the best one, fit your random forest on its training data, and then score it on your test set to see how your final results come out."
   ]
  },
  {
   "cell_type": "code",
   "execution_count": 40,
   "metadata": {
    "scrolled": true
   },
   "outputs": [
    {
     "data": {
      "text/plain": [
       "RandomForestClassifier(bootstrap=True, ccp_alpha=0.0, class_weight=None,\n",
       "                       criterion='gini', max_depth=None, max_features='auto',\n",
       "                       max_leaf_nodes=None, max_samples=None,\n",
       "                       min_impurity_decrease=0.0, min_impurity_split=None,\n",
       "                       min_samples_leaf=1, min_samples_split=2,\n",
       "                       min_weight_fraction_leaf=0.0, n_estimators=100,\n",
       "                       n_jobs=None, oob_score=False, random_state=None,\n",
       "                       verbose=0, warm_start=False)"
      ]
     },
     "execution_count": 40,
     "metadata": {},
     "output_type": "execute_result"
    }
   ],
   "source": [
    "# since just the seed difference performed better, we'll stick with that\n",
    "X = train[['SeedDiff']]\n",
    "y = train['Result']\n",
    "\n",
    "# fit the Random Forest\n",
    "rf.fit(X, y)"
   ]
  },
  {
   "cell_type": "code",
   "execution_count": 41,
   "metadata": {},
   "outputs": [
    {
     "data": {
      "text/plain": [
       "0.7059701492537314"
      ]
     },
     "execution_count": 41,
     "metadata": {},
     "output_type": "execute_result"
    }
   ],
   "source": [
    "# and score it on the test\n",
    "X_test = test[['SeedDiff']]\n",
    "y_test = test['Result']\n",
    "\n",
    "# and we get these results\n",
    "rf.score(X_test, y_test)"
   ]
  },
  {
   "cell_type": "markdown",
   "metadata": {},
   "source": [
    "**Step 10:** How close were your validation and test results?  Ie, how reliable were our validation results?"
   ]
  },
  {
   "cell_type": "markdown",
   "metadata": {},
   "source": [
    "**Answer:** The validation scores from the one variable model with the seed difference were very similar....both very nearly 0.7.  Which suggests that, at the very least, the results predicted from it are reliable, even if they could potentially be improved upon with more information."
   ]
  },
  {
   "cell_type": "markdown",
   "metadata": {},
   "source": [
    "**Bonus:** If time permits, you can try a few different permutations of what we just did to continue to improve your results.  Including:\n",
    "\n",
    " - Trying to add more features beyon each team's winning percentage (perhaps average point differential would be more informative)\n",
    " - Using a grid search to find the best parameters of your random forest and seeing how that improves your results"
   ]
  },
  {
   "cell_type": "code",
   "execution_count": null,
   "metadata": {},
   "outputs": [],
   "source": [
    "# your answer here"
   ]
  }
 ],
 "metadata": {
  "kernelspec": {
   "display_name": "Python 3",
   "language": "python",
   "name": "python3"
  },
  "language_info": {
   "codemirror_mode": {
    "name": "ipython",
    "version": 3
   },
   "file_extension": ".py",
   "mimetype": "text/x-python",
   "name": "python",
   "nbconvert_exporter": "python",
   "pygments_lexer": "ipython3",
   "version": "3.7.1"
  }
 },
 "nbformat": 4,
 "nbformat_minor": 4
}
