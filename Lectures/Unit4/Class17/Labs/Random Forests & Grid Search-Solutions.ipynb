{
 "cells": [
  {
   "cell_type": "markdown",
   "metadata": {},
   "source": [
    "### Lab:  Grid Search & Hyperparameter Tuning\n",
    "\n",
    "Welcome!  Today's lab is going to allow us to blend together a number of the concepts covered in Unit 3 into one cohesive whole\n",
    "\n",
    " - Random Forests\n",
    " - Hyperparameter tuning models with a Grid Search\n",
    " - Using custom loss functions to keep track of how you're doing"
   ]
  },
  {
   "cell_type": "markdown",
   "metadata": {},
   "source": [
    "#### Step 1a:  Load in the training and the test set"
   ]
  },
  {
   "cell_type": "code",
   "execution_count": 1,
   "metadata": {},
   "outputs": [],
   "source": [
    "# your answer here\n",
    "import pandas as pd\n",
    "import numpy as np\n",
    "train = pd.read_csv('../data/iowa_housing/train.csv')\n",
    "test  = pd.read_csv('../data/iowa_housing/test.csv')"
   ]
  },
  {
   "cell_type": "markdown",
   "metadata": {},
   "source": [
    "#### Step 1b: Create the `y` variable for `SalePrice`, remove it from the training set, and drop the indexes for both datasets.  Take the log of `SalePrice`."
   ]
  },
  {
   "cell_type": "code",
   "execution_count": 2,
   "metadata": {},
   "outputs": [],
   "source": [
    "# your answer here\n",
    "y = np.log(train['SalePrice'])\n",
    "train.drop('SalePrice', axis=1, inplace=True)\n",
    "test_id = test['Id']\n",
    "train.drop('Id', axis=1, inplace=True)\n",
    "test.drop('Id', axis=1, inplace=True)"
   ]
  },
  {
   "cell_type": "markdown",
   "metadata": {},
   "source": [
    "#### Step 2: Fill in the missing values (Completed For You)\n",
    "\n",
    "Just so you can see how it works, all the code is listed here.  It is using the variables `train` and `test` to refer to the training and test sets you loaded in.  If these are something different, then you'll need to re-run things appropriately."
   ]
  },
  {
   "cell_type": "code",
   "execution_count": 3,
   "metadata": {},
   "outputs": [],
   "source": [
    "# just run this code\n",
    "train_empty = train.loc[:, train.isnull().sum() > 0]\n",
    "# grab the columns\n",
    "cols = train_empty.columns.tolist()\n",
    "# fill with the appropriate value  -- NA, Other, could also work\n",
    "train[['GarageType', 'GarageFinish']] = train[['GarageType', 'GarageFinish']].fillna('None')\n",
    "test[['GarageType', 'GarageFinish']]  = test[['GarageType', 'GarageFinish']].fillna('None')\n",
    "\n",
    "# we'll use this for GarageYrBlt since it's a numeric column\n",
    "train['GarageYrBlt'].fillna(0, inplace=True)\n",
    "test['GarageYrBlt'].fillna(0, inplace=True)\n",
    "\n",
    "# finding the values to use in the training set\n",
    "ms_mode   = train['MSZoning'].mode()[0]\n",
    "gcarsmean = train['GarageCars'].mean()\n",
    "\n",
    "# and applying them to the test set\n",
    "test['MSZoning'].fillna(ms_mode, inplace=True)\n",
    "test['GarageCars'].fillna(gcarsmean, inplace=True)"
   ]
  },
  {
   "cell_type": "markdown",
   "metadata": {},
   "source": [
    "#### Step 3: Make A Pipeline For a Random Forest\n",
    "\n",
    "Use the following steps:\n",
    "\n",
    "  - OrdinalEncoder\n",
    "  - OneHotEncoder\n",
    "  - RandomForest\n",
    "  \n",
    "**Note:** Do you understand why we're not scaling our data?"
   ]
  },
  {
   "cell_type": "code",
   "execution_count": 15,
   "metadata": {},
   "outputs": [],
   "source": [
    "# your answer here\n",
    "# mapping for the ordinal columns -- you can just use this to speed things up\n",
    "garage_mapping = {\n",
    "    'None': 0, # no garage\n",
    "    'Unf' : 1, # unfinished garage\n",
    "    'RFn' : 2, # partially finished garage\n",
    "    'Fin' : 3  # finished garage\n",
    "}\n",
    "\n",
    "from sklearn.ensemble import RandomForestRegressor\n",
    "from sklearn.pipeline import make_pipeline\n",
    "from category_encoders import OrdinalEncoder, OneHotEncoder\n",
    "\n",
    "# to be used with the ordinal encoder\n",
    "mapping = {\n",
    "    'col': 'GarageFinish',\n",
    "    'mapping': garage_mapping\n",
    "}\n",
    "\n",
    "# initialize everything\n",
    "rf = RandomForestRegressor()\n",
    "ore = OrdinalEncoder(cols=['GarageFinish'], mapping=[mapping])\n",
    "ohe = OneHotEncoder()\n",
    "\n",
    "# make the pipe\n",
    "pipe = make_pipeline(ore, ohe, rf)"
   ]
  },
  {
   "cell_type": "markdown",
   "metadata": {},
   "source": [
    "**Step 4:** Import `mean_squared_error` and `make_scorer` from the metrics module, and turn it into a loss function that can be used in cross validation.\n",
    "\n",
    "**Hint:** Set the argument `greater_is_better` to `False` for the `make_scorer` function."
   ]
  },
  {
   "cell_type": "code",
   "execution_count": 39,
   "metadata": {},
   "outputs": [],
   "source": [
    "# your answer here\n",
    "from sklearn.metrics import mean_squared_error, make_scorer\n",
    "\n",
    "loss_function = make_scorer(mean_squared_error, greater_is_better=False, squared=False)"
   ]
  },
  {
   "cell_type": "markdown",
   "metadata": {},
   "source": [
    "#### Step 5: Setup Your Grid Search\n",
    "\n",
    "Do the following:\n",
    "\n",
    " - Create a dictionary of values to test the following parameters:\n",
    "   - `min_samples_leaf`: 1, 5, 10, 25\n",
    "   - `max_features`: 0.3, 0.4, 0.5, 0.6, 0.7, 0.8\n",
    "   - `n_estimators`: 10, 50, 100\n",
    " - Initialize an instance of GridSearchCV with 5 folds, and the loss function from step 4"
   ]
  },
  {
   "cell_type": "code",
   "execution_count": 40,
   "metadata": {},
   "outputs": [],
   "source": [
    "# your answer here\n",
    "from sklearn.model_selection import GridSearchCV\n",
    "\n",
    "params = {\n",
    "    'randomforestregressor__min_samples_leaf': [1, 5, 10, 25],\n",
    "    'randomforestregressor__max_features': [0.3, 0.4, 0.5, 0.6, 0.7, 0.8],\n",
    "    'randomforestregressor__n_estimators': [10, 50, 100]\n",
    "}\n",
    "\n",
    "grid = GridSearchCV(estimator=pipe, param_grid=params, cv=5, scoring=loss_function)"
   ]
  },
  {
   "cell_type": "markdown",
   "metadata": {},
   "source": [
    "**Step 6:** Fit your grid on the pipeline you created in step 3."
   ]
  },
  {
   "cell_type": "code",
   "execution_count": 41,
   "metadata": {},
   "outputs": [
    {
     "data": {
      "text/plain": [
       "GridSearchCV(cv=5, error_score=nan,\n",
       "             estimator=Pipeline(memory=None,\n",
       "                                steps=[('ordinalencoder',\n",
       "                                        OrdinalEncoder(cols=['GarageFinish'],\n",
       "                                                       drop_invariant=False,\n",
       "                                                       handle_missing='value',\n",
       "                                                       handle_unknown='value',\n",
       "                                                       mapping=[{'col': 'GarageFinish',\n",
       "                                                                 'mapping': {'Fin': 3,\n",
       "                                                                             'None': 0,\n",
       "                                                                             'RFn': 2,\n",
       "                                                                             'Unf': 1}}],\n",
       "                                                       return_df=True,\n",
       "                                                       verbose=0)),\n",
       "                                       ('onehotencoder',\n",
       "                                        OneHotEncoder(cols=None,\n",
       "                                                      drop_invar...\n",
       "             iid='deprecated', n_jobs=None,\n",
       "             param_grid={'randomforestregressor__max_features': [0.3, 0.4, 0.5,\n",
       "                                                                 0.6, 0.7,\n",
       "                                                                 0.8],\n",
       "                         'randomforestregressor__min_samples_leaf': [1, 5, 10,\n",
       "                                                                     25],\n",
       "                         'randomforestregressor__n_estimators': [10, 50, 100]},\n",
       "             pre_dispatch='2*n_jobs', refit=True, return_train_score=False,\n",
       "             scoring=make_scorer(mean_squared_error, greater_is_better=False, squared=False),\n",
       "             verbose=0)"
      ]
     },
     "execution_count": 41,
     "metadata": {},
     "output_type": "execute_result"
    }
   ],
   "source": [
    "grid.fit(train, y)"
   ]
  },
  {
   "cell_type": "markdown",
   "metadata": {},
   "source": [
    "**Step 7:** What combination gave you the best results?"
   ]
  },
  {
   "cell_type": "code",
   "execution_count": 42,
   "metadata": {},
   "outputs": [
    {
     "data": {
      "text/plain": [
       "{'randomforestregressor__max_features': 0.3,\n",
       " 'randomforestregressor__min_samples_leaf': 1,\n",
       " 'randomforestregressor__n_estimators': 50}"
      ]
     },
     "execution_count": 42,
     "metadata": {},
     "output_type": "execute_result"
    }
   ],
   "source": [
    "# your answer here\n",
    "grid.best_params_"
   ]
  },
  {
   "cell_type": "markdown",
   "metadata": {},
   "source": [
    "#### Bonus"
   ]
  },
  {
   "cell_type": "markdown",
   "metadata": {},
   "source": [
    "**B1: Among the parameters that you searched for, which ones had the strongest assocation with better validation scores?** "
   ]
  },
  {
   "cell_type": "code",
   "execution_count": 43,
   "metadata": {},
   "outputs": [],
   "source": [
    "# your answer here\n",
    "grid_results = pd.DataFrame(grid.cv_results_)"
   ]
  },
  {
   "cell_type": "code",
   "execution_count": 45,
   "metadata": {},
   "outputs": [
    {
     "data": {
      "text/plain": [
       "param_randomforestregressor__n_estimators\n",
       "10    -0.161912\n",
       "50    -0.156856\n",
       "100   -0.156112\n",
       "Name: mean_test_score, dtype: float64"
      ]
     },
     "execution_count": 45,
     "metadata": {},
     "output_type": "execute_result"
    }
   ],
   "source": [
    "# more trees on average gives better scores\n",
    "grid_results.groupby('param_randomforestregressor__n_estimators')['mean_test_score'].mean()"
   ]
  },
  {
   "cell_type": "code",
   "execution_count": 46,
   "metadata": {},
   "outputs": [
    {
     "data": {
      "text/plain": [
       "param_randomforestregressor__min_samples_leaf\n",
       "1    -0.147804\n",
       "5    -0.154002\n",
       "10   -0.159136\n",
       "25   -0.172231\n",
       "Name: mean_test_score, dtype: float64"
      ]
     },
     "execution_count": 46,
     "metadata": {},
     "output_type": "execute_result"
    }
   ],
   "source": [
    "# less samples/leaf did better\n",
    "grid_results.groupby('param_randomforestregressor__min_samples_leaf')['mean_test_score'].mean()"
   ]
  },
  {
   "cell_type": "code",
   "execution_count": 47,
   "metadata": {},
   "outputs": [
    {
     "data": {
      "text/plain": [
       "param_randomforestregressor__max_features\n",
       "0.3   -0.158835\n",
       "0.4   -0.158030\n",
       "0.5   -0.157850\n",
       "0.6   -0.158044\n",
       "0.7   -0.157912\n",
       "0.8   -0.159087\n",
       "Name: mean_test_score, dtype: float64"
      ]
     },
     "execution_count": 47,
     "metadata": {},
     "output_type": "execute_result"
    }
   ],
   "source": [
    "# fairly modest difference between values\n",
    "grid_results.groupby('param_randomforestregressor__max_features')['mean_test_score'].mean()"
   ]
  },
  {
   "cell_type": "markdown",
   "metadata": {},
   "source": [
    "**B2: What were the 5 most important variables in impacting your housing price?**"
   ]
  },
  {
   "cell_type": "code",
   "execution_count": 48,
   "metadata": {},
   "outputs": [
    {
     "data": {
      "text/plain": [
       "Pipeline(memory=None,\n",
       "         steps=[('ordinalencoder',\n",
       "                 OrdinalEncoder(cols=['GarageFinish'], drop_invariant=False,\n",
       "                                handle_missing='value', handle_unknown='value',\n",
       "                                mapping=[{'col': 'GarageFinish',\n",
       "                                          'mapping': {'Fin': 3, 'None': 0,\n",
       "                                                      'RFn': 2, 'Unf': 1}}],\n",
       "                                return_df=True, verbose=0)),\n",
       "                ('onehotencoder',\n",
       "                 OneHotEncoder(cols=['MSZoning', 'Neighborhood', 'GarageType'],\n",
       "                               drop_invariant=Fal...\n",
       "                 RandomForestRegressor(bootstrap=True, ccp_alpha=0.0,\n",
       "                                       criterion='mse', max_depth=None,\n",
       "                                       max_features=0.3, max_leaf_nodes=None,\n",
       "                                       max_samples=None,\n",
       "                                       min_impurity_decrease=0.0,\n",
       "                                       min_impurity_split=None,\n",
       "                                       min_samples_leaf=1, min_samples_split=2,\n",
       "                                       min_weight_fraction_leaf=0.0,\n",
       "                                       n_estimators=50, n_jobs=None,\n",
       "                                       oob_score=False, random_state=None,\n",
       "                                       verbose=0, warm_start=False))],\n",
       "         verbose=False)"
      ]
     },
     "execution_count": 48,
     "metadata": {},
     "output_type": "execute_result"
    }
   ],
   "source": [
    "# set to best parameters and fit\n",
    "pipe.steps[2][1].set_params(n_estimators=50, min_samples_leaf=1, max_features=0.3)\n",
    "pipe.fit(train, y)"
   ]
  },
  {
   "cell_type": "code",
   "execution_count": 54,
   "metadata": {},
   "outputs": [
    {
     "data": {
      "text/html": [
       "<div>\n",
       "<style scoped>\n",
       "    .dataframe tbody tr th:only-of-type {\n",
       "        vertical-align: middle;\n",
       "    }\n",
       "\n",
       "    .dataframe tbody tr th {\n",
       "        vertical-align: top;\n",
       "    }\n",
       "\n",
       "    .dataframe thead th {\n",
       "        text-align: right;\n",
       "    }\n",
       "</style>\n",
       "<table border=\"1\" class=\"dataframe\">\n",
       "  <thead>\n",
       "    <tr style=\"text-align: right;\">\n",
       "      <th></th>\n",
       "      <th>columns</th>\n",
       "      <th>importance</th>\n",
       "    </tr>\n",
       "  </thead>\n",
       "  <tbody>\n",
       "    <tr>\n",
       "      <th>32</th>\n",
       "      <td>OverallQual</td>\n",
       "      <td>0.267800</td>\n",
       "    </tr>\n",
       "    <tr>\n",
       "      <th>38</th>\n",
       "      <td>GrLivArea.1</td>\n",
       "      <td>0.162412</td>\n",
       "    </tr>\n",
       "    <tr>\n",
       "      <th>35</th>\n",
       "      <td>GrLivArea</td>\n",
       "      <td>0.110880</td>\n",
       "    </tr>\n",
       "    <tr>\n",
       "      <th>34</th>\n",
       "      <td>YearBuilt</td>\n",
       "      <td>0.094305</td>\n",
       "    </tr>\n",
       "    <tr>\n",
       "      <th>36</th>\n",
       "      <td>1stFlrSF</td>\n",
       "      <td>0.064643</td>\n",
       "    </tr>\n",
       "  </tbody>\n",
       "</table>\n",
       "</div>"
      ],
      "text/plain": [
       "        columns  importance\n",
       "32  OverallQual    0.267800\n",
       "38  GrLivArea.1    0.162412\n",
       "35    GrLivArea    0.110880\n",
       "34    YearBuilt    0.094305\n",
       "36     1stFlrSF    0.064643"
      ]
     },
     "execution_count": 54,
     "metadata": {},
     "output_type": "execute_result"
    }
   ],
   "source": [
    "# and build dataframe for importances\n",
    "importances = pd.DataFrame({\n",
    "    'columns': pipe.steps[1][1].get_feature_names(),\n",
    "    'importance': pipe.steps[2][1].feature_importances_\n",
    "})\n",
    "\n",
    "importances.sort_values(by='importance', ascending=False)[:5]"
   ]
  }
 ],
 "metadata": {
  "kernelspec": {
   "display_name": "Python 3",
   "language": "python",
   "name": "python3"
  },
  "language_info": {
   "codemirror_mode": {
    "name": "ipython",
    "version": 3
   },
   "file_extension": ".py",
   "mimetype": "text/x-python",
   "name": "python",
   "nbconvert_exporter": "python",
   "pygments_lexer": "ipython3",
   "version": "3.7.1"
  }
 },
 "nbformat": 4,
 "nbformat_minor": 4
}
