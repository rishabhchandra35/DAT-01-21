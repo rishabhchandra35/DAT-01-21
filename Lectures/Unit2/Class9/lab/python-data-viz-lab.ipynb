{
 "cells": [
  {
   "cell_type": "markdown",
   "metadata": {},
   "source": [
    "<img src=\"http://imgur.com/1ZcRyrc.png\" style=\"float: left; margin: 20px; height: 55px\">\n",
    "\n",
    "## Guided Practice: Explore Python Data Visualization\n",
    "\n",
    "_Authors: Alexander Combs (New York City), Dave Yerrington (San Francisco), and Kevin Markham (Washington, D.C.)_\n",
    "\n",
    "---\n",
    "\n",
    "In this guided practice lab you will use Pandas, Matplotlib, and Seaborn to create simple plots.\n",
    "\n",
    "We'll cover plotting line plots, scatter plots, bar plots, and histograms, and how to manipulate the style of your plots with Matplotlib."
   ]
  },
  {
   "cell_type": "markdown",
   "metadata": {},
   "source": [
    "## Learning Objectives\n",
    "\n",
    "- **Practice** using different types of plots.\n",
    "- **Use** Pandas methods for plotting.\n",
    "- **Create** line plots, bar plots, histograms, and box plots.\n",
    "- **Know** when to use Seaborn or advanced Matplotlib"
   ]
  },
  {
   "cell_type": "markdown",
   "metadata": {},
   "source": [
    "### Pandas Plotting Documentation\n",
    "\n",
    "[Link to Documentation](http://pandas.pydata.org/pandas-docs/stable/generated/pandas.DataFrame.plot.html)"
   ]
  },
  {
   "cell_type": "code",
   "execution_count": null,
   "metadata": {},
   "outputs": [],
   "source": [
    "from IPython.display import HTML\n",
    "\n",
    "import pandas as pd\n",
    "import numpy as np\n",
    "import seaborn as sns\n",
    "import matplotlib.pyplot as plt\n",
    "\n",
    "plt.style.use('fivethirtyeight')\n",
    "%matplotlib inline\n",
    "\n",
    "# Increase default figure and font sizes for easier viewing.\n",
    "plt.rcParams['figure.figsize'] = (8, 6)\n",
    "plt.rcParams['font.size'] = 14"
   ]
  },
  {
   "cell_type": "markdown",
   "metadata": {},
   "source": [
    "### Create fake data for examples."
   ]
  },
  {
   "cell_type": "code",
   "execution_count": null,
   "metadata": {},
   "outputs": [],
   "source": [
    "df = pd.DataFrame(np.random.randn(10, 4), \n",
    "                  columns=['col1', 'col2', 'col3', 'col4'],\n",
    "                  index=['a', 'b', 'c', 'd', 'e', 'f', 'g', 'h', 'i', 'j'])"
   ]
  },
  {
   "cell_type": "markdown",
   "metadata": {},
   "source": [
    "### Load in data sets for visualization examples.\n",
    "\n",
    "The Boston data dictionary can be found [here](https://archive.ics.uci.edu/ml/machine-learning-databases/housing/housing.names)."
   ]
  },
  {
   "cell_type": "code",
   "execution_count": null,
   "metadata": {},
   "outputs": [],
   "source": [
    "# Read in the Boston housing data.\n",
    "housing_csv = '../data/housing.csv'\n",
    "housing = pd.read_csv(housing_csv)\n",
    "\n",
    "# Read in the drinks data.\n",
    "drink_cols = ['country', 'beer', 'spirit', 'wine', 'liters', 'continent']\n",
    "url = '../data/drinks.csv'\n",
    "drinks = pd.read_csv(url, header=0, names=drink_cols, na_filter=False)\n",
    "\n",
    "# Read in the ufo data.\n",
    "ufo = pd.read_csv('../data/ufo.csv')\n",
    "ufo['Time'] = pd.to_datetime(ufo.Time)\n",
    "ufo['Year'] = ufo.Time.dt.year"
   ]
  },
  {
   "cell_type": "markdown",
   "metadata": {},
   "source": [
    "<a id=\"line-plots\"></a>\n",
    "## Line plots: Show the trend of a numerical variable over time\n",
    "---\n",
    "\n",
    "- **Objective:** **Use** Pandas methods for plotting.\n",
    "- **Objective:** **Create** line plots, bar plots, histograms, and box plots."
   ]
  },
  {
   "cell_type": "code",
   "execution_count": null,
   "metadata": {},
   "outputs": [],
   "source": [
    "# Count the number of ufo reports each year (and sort by year).\n",
    "ufo.Year.value_counts().sort_index()"
   ]
  },
  {
   "cell_type": "code",
   "execution_count": null,
   "metadata": {},
   "outputs": [],
   "source": [
    "# Compare with line plot -- UFO sightings by year. (Ordering by year makes sense.)\n",
    "ufo.Year.value_counts().sort_index().plot();"
   ]
  },
  {
   "cell_type": "code",
   "execution_count": null,
   "metadata": {},
   "outputs": [],
   "source": [
    "# COMMON MISTAKE: Don't use a line plot when the x-axis cannot be ordered sensically!\n",
    "\n",
    "# For example, ordering by continent below shows a trend where no exists ... \n",
    "#    it would be just as valid to plot the continents in any order.\n",
    "\n",
    "# So, a line plot is the wrong type of plot for this data.\n",
    "# Always think about what you're plotting and if it makes sense.\n",
    "\n",
    "drinks.continent.value_counts().plot();"
   ]
  },
  {
   "cell_type": "markdown",
   "metadata": {},
   "source": [
    "**Important:** A line plot is the wrong type of plot for this data. Any set of countries can be rearranged misleadingly to illustrate a negative trend, as we did here. Due to this, it would be more appropriate to represent this data using a bar plot, which does not imply a trend based on order."
   ]
  },
  {
   "cell_type": "code",
   "execution_count": null,
   "metadata": {},
   "outputs": [],
   "source": [
    "# Plot the same data as a (horizontal) bar plot -- a much better choice!\n",
    "drinks.continent.value_counts().plot(kind='barh');"
   ]
  },
  {
   "cell_type": "markdown",
   "metadata": {},
   "source": [
    "### How to change the color of a plot"
   ]
  },
  {
   "cell_type": "code",
   "execution_count": null,
   "metadata": {},
   "outputs": [],
   "source": [
    "df['col1'].plot(color='crimson', figsize=(16,8));"
   ]
  },
  {
   "cell_type": "markdown",
   "metadata": {},
   "source": [
    "### How to change the style of individual lines"
   ]
  },
  {
   "cell_type": "code",
   "execution_count": null,
   "metadata": {},
   "outputs": [],
   "source": [
    "# : - dotted line, v - triangle_down\n",
    "# r - red, b - blue\n",
    "df[['col1', 'col4']].plot(figsize=(15,7), style={'col1': ':r', 'col4': 'vb'});"
   ]
  },
  {
   "cell_type": "markdown",
   "metadata": {},
   "source": [
    "### Challenge: Create a line plot of `ZN` and `INDUS` in the housing data. \n",
    "\n",
    "- For `ZN`, use a solid green line. For `INDUS`, use a blue dashed line.\n",
    "- Change the figure size to a width of 12 and height of 8.\n",
    "- Change the style sheet to something you find [here](https://tonysyu.github.io/raw_content/matplotlib-style-gallery/gallery.html)."
   ]
  },
  {
   "cell_type": "code",
   "execution_count": null,
   "metadata": {},
   "outputs": [],
   "source": []
  },
  {
   "cell_type": "markdown",
   "metadata": {},
   "source": [
    "<a id=\"bar-plots\"></a>\n",
    "## Bar Plots: Show a numerical comparison across different categories\n",
    "---"
   ]
  },
  {
   "cell_type": "code",
   "execution_count": null,
   "metadata": {},
   "outputs": [],
   "source": [
    "# Calculate the mean alcohol amounts for each continent.\n",
    "drinks.groupby('continent').mean()"
   ]
  },
  {
   "cell_type": "code",
   "execution_count": null,
   "metadata": {},
   "outputs": [],
   "source": [
    "# Side-by-side bar plots\n",
    "drinks.groupby('continent').mean().plot(kind='bar');"
   ]
  },
  {
   "cell_type": "code",
   "execution_count": null,
   "metadata": {},
   "outputs": [],
   "source": [
    "# Sort the continent x-axis by a particular column.\n",
    "drinks.groupby('continent').mean().sort_values('beer').plot(kind='bar');"
   ]
  },
  {
   "cell_type": "code",
   "execution_count": null,
   "metadata": {},
   "outputs": [],
   "source": [
    "# Stacked bar plot (with the liters comparison removed!)\n",
    "drinks.groupby('continent').mean().drop('liters', axis=1).plot(kind='bar', stacked=True);"
   ]
  },
  {
   "cell_type": "markdown",
   "metadata": {},
   "source": [
    "### Challenge: Create a bar chart using `col1` and `col2`.\n",
    "\n",
    "- Give the plot a title of your choosing. "
   ]
  },
  {
   "cell_type": "code",
   "execution_count": null,
   "metadata": {},
   "outputs": [],
   "source": []
  },
  {
   "cell_type": "markdown",
   "metadata": {},
   "source": [
    "- Do the same thing but with horizontal bars."
   ]
  },
  {
   "cell_type": "code",
   "execution_count": null,
   "metadata": {},
   "outputs": [],
   "source": []
  },
  {
   "cell_type": "markdown",
   "metadata": {},
   "source": [
    "### Stacked works on horizontal bar charts too"
   ]
  },
  {
   "cell_type": "code",
   "execution_count": null,
   "metadata": {},
   "outputs": [],
   "source": [
    "df.plot(kind='barh', stacked=True, figsize=(16,8));"
   ]
  },
  {
   "cell_type": "markdown",
   "metadata": {},
   "source": [
    "<a id=\"histograms\"></a>\n",
    "## Histograms: Show the distribution of a numerical variable\n",
    "---\n"
   ]
  },
  {
   "cell_type": "markdown",
   "metadata": {},
   "source": [
    "### Challenge: Create a histogram with pandas for using `PRICE` in the housing data.\n",
    "- Set the bins to 20."
   ]
  },
  {
   "cell_type": "code",
   "execution_count": null,
   "metadata": {},
   "outputs": [],
   "source": [
    "# your code here\n"
   ]
  },
  {
   "cell_type": "markdown",
   "metadata": {},
   "source": [
    "<a id=\"grouped-histograms\"></a>\n",
    "### Challenge:\n",
    " - Create a histogram for the beer column, for each continent\n",
    " - Share the x and y axis\n",
    " - Make the layout 2x3"
   ]
  },
  {
   "cell_type": "code",
   "execution_count": null,
   "metadata": {},
   "outputs": [],
   "source": [
    "# your code here\n"
   ]
  },
  {
   "cell_type": "markdown",
   "metadata": {},
   "source": [
    "<a id=\"scatter-plots\"></a>\n",
    "## Scatter plots: Show the relationship between two numerical variables\n",
    "---\n"
   ]
  },
  {
   "cell_type": "code",
   "execution_count": null,
   "metadata": {},
   "outputs": [],
   "source": [
    "# Compare with scatter plot.\n",
    "drinks.plot(kind='scatter', x='beer', y='wine');"
   ]
  },
  {
   "cell_type": "code",
   "execution_count": null,
   "metadata": {},
   "outputs": [],
   "source": [
    "# Add transparency (great for plotting several graphs on top of each other, or for illustrating density!).\n",
    "drinks.plot(kind='scatter', x='beer', y='wine', alpha=0.3);"
   ]
  },
  {
   "cell_type": "code",
   "execution_count": null,
   "metadata": {},
   "outputs": [],
   "source": [
    "# the s argument can be used to set the size of your marks\n",
    "drinks.plot(kind='scatter', x='beer', y='wine', alpha=0.3, s=75);"
   ]
  },
  {
   "cell_type": "markdown",
   "metadata": {},
   "source": [
    "### Challenge: Show the Relationship Between Price & Lstat in the Housing Data With A Scatter Plot\n",
    " - set the color to something that you like\n",
    " - set the figsize to (15, 7)\n",
    " - give it a title\n",
    " - use the 's' argument to set the size of your "
   ]
  },
  {
   "cell_type": "code",
   "execution_count": null,
   "metadata": {},
   "outputs": [],
   "source": [
    "# Your Code Here\n"
   ]
  },
  {
   "cell_type": "markdown",
   "metadata": {},
   "source": [
    "### Other Items You Can Do......."
   ]
  },
  {
   "cell_type": "code",
   "execution_count": null,
   "metadata": {},
   "outputs": [],
   "source": [
    "# Saving a plot to a file\n",
    "drinks.beer.plot(kind='hist', bins=20, title='Histogram of Beer Servings');\n",
    "plt.xlabel('Beer Servings');\n",
    "plt.ylabel('Frequency');\n",
    "plt.savefig('beer_histogram.png');    # Save to file!"
   ]
  },
  {
   "cell_type": "code",
   "execution_count": null,
   "metadata": {},
   "outputs": [],
   "source": [
    "# List available plot styles\n",
    "plt.style.available"
   ]
  },
  {
   "cell_type": "code",
   "execution_count": null,
   "metadata": {},
   "outputs": [],
   "source": [
    "# Change to a different style.\n",
    "plt.style.use('ggplot')"
   ]
  },
  {
   "cell_type": "markdown",
   "metadata": {
    "collapsed": true
   },
   "source": [
    "<a id=\"summary\"></a>\n",
    "### Summary\n",
    "\n",
    "In this lesson, we showed examples how to create a variety of plots using Pandas and Matplotlib. We also showed how to use each plot to effectively display data.\n",
    "\n",
    "Do not be concerned if you do not remember everything — this will come with practice! Although there are many plot styles, many similarities exist between how each plot is drawn. For example, they have most parameters in common, and the same Matplotlib functions are used to modify the plot area.\n",
    "\n",
    "We looked at:\n",
    "- Line plots\n",
    "- Bar plots\n",
    "- Histograms\n",
    "- Scatterplots"
   ]
  }
 ],
 "metadata": {
  "kernelspec": {
   "display_name": "Python 3",
   "language": "python",
   "name": "python3"
  },
  "language_info": {
   "codemirror_mode": {
    "name": "ipython",
    "version": 3
   },
   "file_extension": ".py",
   "mimetype": "text/x-python",
   "name": "python",
   "nbconvert_exporter": "python",
   "pygments_lexer": "ipython3",
   "version": "3.7.1"
  }
 },
 "nbformat": 4,
 "nbformat_minor": 2
}
